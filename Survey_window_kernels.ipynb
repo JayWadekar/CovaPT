{
 "cells": [
  {
   "cell_type": "code",
   "execution_count": null,
   "metadata": {},
   "outputs": [],
   "source": [
    "# This is the code for calculating the window function kernels given in Eq. 57 and 88 of WadSco19\n",
    "# and calculating the Gaussian covariance from them"
   ]
  },
  {
   "cell_type": "code",
   "execution_count": 54,
   "metadata": {},
   "outputs": [],
   "source": [
    "import scipy, time\n",
    "from scipy.fftpack import fft2, fftn, ifftn\n",
    "from scipy.special import hyp2f1\n",
    "from scipy.integrate import quad\n",
    "from scipy.interpolate import interp1d\n",
    "from scipy.io import FortranFile\n",
    "import itertools as itt\n",
    "import numpy as np\n",
    "from scipy.interpolate import InterpolatedUnivariateSpline\n",
    "from numpy import exp, log, log10, cos, sin, pi, cosh, sinh , sqrt, amin, amax, mean, dot, power, conj\n",
    "import matplotlib\n",
    "from matplotlib import pyplot as plt\n",
    "import sys\n",
    "import multiprocessing\n",
    "from threading import Timer\n",
    "%matplotlib inline"
   ]
  },
  {
   "cell_type": "code",
   "execution_count": 55,
   "metadata": {},
   "outputs": [],
   "source": [
    "# for aesthetic plots\n",
    "font = {'size'   : 14, 'family':'STIXGeneral'}\n",
    "matplotlib.rc('font', **font)\n",
    "matplotlib.rc('axes', labelsize=18) \n",
    "matplotlib.mathtext.rcParams['legend.fontsize']=14\n",
    "plt.rcParams[\"figure.figsize\"] = [6.0,4.]\n",
    "matplotlib.rc('text', usetex=True)"
   ]
  },
  {
   "cell_type": "code",
   "execution_count": 56,
   "metadata": {},
   "outputs": [],
   "source": [
    "# Total number of k-bins in power spectrum\n",
    "nBins=50\n",
    "\n",
    "kBinWidth=0.005\n",
    "\n",
    "# Length of box used when computing FFTs\n",
    "Lbox=3750.\n",
    "\n",
    "# Fundamental k-mode\n",
    "kfun=2.*np.pi/Lbox\n",
    "\n",
    "kbinEdges=np.arange(nBins+1)*kBinWidth"
   ]
  },
  {
   "cell_type": "code",
   "execution_count": 57,
   "metadata": {},
   "outputs": [],
   "source": [
    "I22=437.183365 # Eq.3\n",
    "\n",
    "dire='/Users/jayw/Documents/Acad/Roman/Covariance/data/Public/'"
   ]
  },
  {
   "cell_type": "code",
   "execution_count": 8,
   "metadata": {},
   "outputs": [],
   "source": [
    "# The files for FFTs form the random catalog can be downloaded from the link:\n",
    "# https://drive.google.com/drive/folders/1bWKfUaIXcC1n-2hk9KtKhqukxTH1379i?usp=sharing\n",
    "\n",
    "# See the file '.../detail/Survey_Window_FFTs.ipynb' for the code to generate these FFTs"
   ]
  },
  {
   "cell_type": "code",
   "execution_count": 78,
   "metadata": {},
   "outputs": [],
   "source": [
    "# First rewriting the FFT array so that the zero mode is at the center \n",
    "# (negative k to left of it and positive to right)\n",
    "# This is done so that dot products of the FFTs with k-hat can be conveniently taken later \n",
    "\n",
    "# As the window falls steeply with k, only low-k regions are needed for the calculation.\n",
    "# Therefore cutting out the high-k modes in the FFTs using the icut parameter\n",
    "icut=15; # needs to be less than Lm//2 (Lm: size of FFT)\n",
    "\n",
    "# np.fft.fftshift can directly perform this part\n",
    "# and I will change the code later to just use that command\n",
    "\n",
    "def fft(temp):\n",
    "    ia=Lm//2-1; ib=Lm//2+1\n",
    "    temp2=np.zeros((Lm,Lm,Lm),dtype='<c8')\n",
    "    temp2[ia:Lm,ia:Lm,ia:Lm]=temp[0:ib,0:ib,0:ib]; temp2[0:ia,ia:Lm,ia:Lm]=temp[ib:Lm,0:ib,0:ib]\n",
    "    temp2[ia:Lm,0:ia,ia:Lm]=temp[0:ib,ib:Lm,0:ib]; temp2[ia:Lm,ia:Lm,0:ia]=temp[0:ib,0:ib,ib:Lm]\n",
    "    temp2[0:ia,0:ia,ia:Lm]=temp[ib:Lm,ib:Lm,0:ib]; temp2[0:ia,ia:Lm,0:ia]=temp[ib:Lm,0:ib,ib:Lm]\n",
    "    temp2[ia:Lm,0:ia,0:ia]=temp[0:ib,ib:Lm,ib:Lm]; temp2[0:ia,0:ia,0:ia]=temp[ib:Lm,ib:Lm,ib:Lm]\n",
    "    \n",
    "    return(temp2[ia-icut:ia+icut+1,ia-icut:ia+icut+1,ia-icut:ia+icut+1])"
   ]
  },
  {
   "cell_type": "code",
   "execution_count": 79,
   "metadata": {},
   "outputs": [
    {
     "name": "stdout",
     "output_type": "stream",
     "text": [
      "FFT size is 48\n"
     ]
    }
   ],
   "source": [
    "Wij = np.load(dire+'FFTWinFun_HighZ_NGC.npy'); Wij2=[]\n",
    "Lm=len(Wij[0]) #size of FFT\n",
    "print('FFT size is',Lm)\n",
    "\n",
    "for i in range(len(Wij)//2): #W22\n",
    "    Wij2.append(fft(Wij[i]))\n",
    "\n",
    "for i in range(len(Wij)//2,len(Wij)): #W12, I'm taking conjugate as that is used in the 'WinFun' function later\n",
    "    Wij2.append(conj(fft(Wij[i])))"
   ]
  },
  {
   "cell_type": "code",
   "execution_count": 80,
   "metadata": {},
   "outputs": [
    {
     "name": "stdout",
     "output_type": "stream",
     "text": [
      "W, Wxx, Wxy, Wxz, Wyy, Wyz, Wzz, Wxxxx, Wxxxy, Wxxxz, Wxxyy, Wxxyz, Wxxzz, Wxyyy, Wxyyz, Wxyzz, Wxzzz, Wyyyy, Wyyyz, Wyyzz, Wyzzz, Wzzzz, W12, W12xx, W12xy, W12xz, W12yy, W12yz, W12zz, W12xxxx, W12xxxy, W12xxxz, W12xxyy, W12xxyz, W12xxzz, W12xyyy, W12xyyz, W12xyzz, W12xzzz, W12yyyy, W12yyyz, W12yyzz, W12yzzz, W12zzzz\n"
     ]
    }
   ],
   "source": [
    "# This gives the labels for the FFTs stored in the input file\n",
    "\n",
    "label=[]\n",
    "\n",
    "for w in ['W', 'W12']:\n",
    "    label.append(w)\n",
    "    \n",
    "    for (i,i_label),(j,j_label) in itt.combinations_with_replacement(enumerate(['x', 'y', 'z']), r=2):\n",
    "        label.append(w + i_label + j_label)\n",
    "        \n",
    "    for (i,i_label),(j,j_label),(k,k_label),(l,l_label) in itt.combinations_with_replacement(enumerate(['x', 'y', 'z']), r=4):\n",
    "        label.append(w + i_label + j_label + k_label + l_label)\n",
    "\n",
    "print(', '.join(label))"
   ]
  },
  {
   "cell_type": "code",
   "execution_count": 81,
   "metadata": {},
   "outputs": [],
   "source": [
    "# Reading the FFT files for W22 (referred to as W hereafter for brevity) and W12\n",
    "\n",
    "[W, Wxx, Wxy, Wxz, Wyy, Wyz, Wzz, Wxxxx, Wxxxy, Wxxxz, Wxxyy, Wxxyz, Wxxzz, Wxyyy, Wxyyz, Wxyzz,\\\n",
    " Wxzzz, Wyyyy, Wyyyz, Wyyzz, Wyzzz, Wzzzz, W12, W12xx, W12xy, W12xz, W12yy, W12yz, W12zz, W12xxxx,\\\n",
    " W12xxxy, W12xxxz, W12xxyy, W12xxyz, W12xxzz, W12xyyy, W12xyyz, W12xyzz, W12xzzz, W12yyyy, W12yyyz,\\\n",
    " W12yyzz, W12yzzz, W12zzzz] = Wij2"
   ]
  },
  {
   "cell_type": "code",
   "execution_count": 62,
   "metadata": {},
   "outputs": [],
   "source": [
    "# Recording the k-modes in different shells\n",
    "# Bin_kmodes contains [kx,ky,kz,radius] values of all the modes in the bin\n",
    "\n",
    "Lm2 = int(kBinWidth*nBins/kfun)+1\n",
    "[ix,iy,iz] = np.zeros((3,2*Lm2+1,2*Lm2+1,2*Lm2+1));\n",
    "Bin_kmodes=[]; Bin_ModeNum=np.zeros(nBins,dtype=int)\n",
    "\n",
    "for i in range(nBins): Bin_kmodes.append([])\n",
    "for i in range(len(ix)):\n",
    "    ix[i,:,:]+=i-Lm2; iy[:,i,:]+=i-Lm2; iz[:,:,i]+=i-Lm2\n",
    "\n",
    "rk=np.sqrt(ix**2+iy**2+iz**2)\n",
    "sort=(rk*kfun/kBinWidth).astype(int)\n",
    "\n",
    "for i in range(0,nBins):\n",
    "    ind=(sort==i); Bin_ModeNum[i]=len(ix[ind]); \\\n",
    "    Bin_kmodes[i]=np.hstack((ix[ind].reshape(-1,1),iy[ind].reshape(-1,1),iz[ind].reshape(-1,1),rk[ind].reshape(-1,1)))"
   ]
  },
  {
   "cell_type": "code",
   "execution_count": 106,
   "metadata": {},
   "outputs": [],
   "source": [
    "# First I'm only showing only the code for the monopole covariance so the code is relatively easier\n",
    "# to understand. The quadrupole and hexadecapole autocovariance is given below and involves more FFTs\n",
    "\n",
    "def WinFun_onlyC00(Nbin):\n",
    "    avgW00=np.zeros((2*3+1,15),dtype='<c8');\n",
    "    [ix,iy,iz,k2xh,k2yh,k2zh]=np.zeros((6,2*icut+1,2*icut+1,2*icut+1))\n",
    "    \n",
    "    # Arrays with zero at the center (similar to FFTs earlier)\n",
    "    for i in range(2*icut+1): \n",
    "        ix[i,:,:]+=i-icut; iy[:,i,:]+=i-icut; iz[:,:,i]+=i-icut\n",
    "    \n",
    "    # We will not use all the modes in the k1 shell but will sample only a few (kmodes_sampled)\n",
    "    if (kmodes_sampled<Bin_ModeNum[Nbin]): # check if no. of modes in the shell are more than kmodes_sampled\n",
    "        norm=kmodes_sampled\n",
    "        sampled=(np.random.rand(kmodes_sampled)*Bin_ModeNum[Nbin]).astype(int)\n",
    "    else:\n",
    "        norm=Bin_ModeNum[Nbin]\n",
    "        sampled=np.arange(Bin_ModeNum[Nbin],dtype=int)\n",
    "        \n",
    "    # Randomly select modes in the k1 bin and add all their contributions in the end\n",
    "    for n in sampled:\n",
    "        [ik1x,ik1y,ik1z,rk1]=Bin_kmodes[Nbin][n]\n",
    "        if (rk1==0.): k1xh=0; k1yh=0; k1zh=0 # If |k1|=0\n",
    "        else: k1xh=ik1x/rk1; k1yh=ik1y/rk1; k1zh=ik1z/rk1\n",
    "        \n",
    "    # Build a 3D array of k2 modes around the selected mode\n",
    "    # Only k2 modes in a cube centered at the sampled k1 vector are used\n",
    "        k2xh=ik1x-ix; k2yh=ik1y-iy; k2zh=ik1z-iz;\n",
    "        rk2 = np.sqrt(k2xh**2+k2yh**2+k2zh**2);\n",
    "        sort = (rk2*kfun/kBinWidth).astype(int)-Nbin # to decide later which shell the k2 mode belongs to\n",
    "        ind=(rk2==0); # If |k2|=0\n",
    "        if (ind.any()>0): rk2[ind]=1e10 \n",
    "        k2xh/=rk2; k2yh/=rk2; k2zh/=rk2;\n",
    "        #k2 hat arrays built\n",
    "        \n",
    "    # Now calculating window multipole kernels by taking dot products of cartesian FFTs with k1-hat, k2-hat arrays\n",
    "    # W corresponds to W22(k) and Wc corresponds to conjugate of W22(k)\n",
    "    # L(i) refers to multipoles\n",
    "        \n",
    "        W_L0 = W\n",
    "        Wc_L0 = conj(W)\n",
    "        \n",
    "        xx=Wxx*k1xh**2+Wyy*k1yh**2+Wzz*k1zh**2+2.*Wxy*k1xh*k1yh+2.*Wyz*k1yh*k1zh+2.*Wzx*k1zh*k1xh\n",
    "        \n",
    "        W_k1L2=1.5*xx-0.5*W\n",
    "        W_k2L2=1.5*(Wxx*k2xh**2+Wyy*k2yh**2+Wzz*k2zh**2 \\\n",
    "        +2.*Wxy*k2xh*k2yh+2.*Wyz*k2yh*k2zh+2.*Wzx*k2zh*k2xh)-0.5*W\n",
    "        Wc_k1L2=conj(W_k1L2)\n",
    "        Wc_k2L2=conj(W_k2L2)\n",
    "        \n",
    "        W_k1L4=35./8.*(Wxxxx*k1xh**4 +Wyyyy*k1yh**4+Wzzzz*k1zh**4 \\\n",
    "                +4.*Wxxxy*k1xh**3*k1yh +4.*Wxxxz*k1xh**3*k1zh +4.*Wyyyx*k1yh**3*k1xh \\\n",
    "                +4.*Wyyyz*k1yh**3*k1zh +4.*Wzzzx*k1zh**3*k1xh +4.*Wzzzy*k1zh**3*k1yh \\\n",
    "                +6.*Wxxyy*k1xh**2*k1yh**2+6.*Wxxzz*k1xh**2*k1zh**2+6.*Wyyzz*k1yh**2*k1zh**2 \\\n",
    "                +12.*Wxxyz*k1xh**2*k1yh*k1zh+12.*Wyyxz*k1yh**2*k1xh*k1zh +12.*Wzzxy*k1zh**2*k1xh*k1yh) \\\n",
    "                -5./2.*W_k1L2 -7./8.*W_L0\n",
    "        Wc_k1L4=conj(W_k1L4)\n",
    "        \n",
    "        W_k2L4=35./8.*(Wxxxx*k2xh**4 +Wyyyy*k2yh**4+Wzzzz*k2zh**4 \\\n",
    "                 +4.*Wxxxy*k2xh**3*k2yh +4.*Wxxxz*k2xh**3*k2zh +4.*Wyyyx*k2yh**3*k2xh \\\n",
    "                 +4.*Wyyyz*k2yh**3*k2zh +4.*Wzzzx*k2zh**3*k2xh +4.*Wzzzy*k2zh**3*k2yh \\\n",
    "                 +6.*Wxxyy*k2xh**2*k2yh**2+6.*Wxxzz*k2xh**2*k2zh**2+6.*Wyyzz*k2yh**2*k2zh**2 \\\n",
    "                 +12.*Wxxyz*k2xh**2*k2yh*k2zh+12.*Wyyxz*k2yh**2*k2xh*k2zh +12.*Wzzxy*k2zh**2*k2xh*k2yh) \\\n",
    "                 -5./2.*W_k2L2 -7./8.*W_L0\n",
    "        Wc_k2L4=conj(W_k2L4)\n",
    "    \n",
    "        W12_L0 = W12\n",
    "        \n",
    "        # Collecting all kernels, will be multiplied by power multipoles later in function 'Cij'\n",
    "        C00exp = [Wc_L0*W_L0,Wc_L0*W_k2L2,Wc_L0*W_k2L4,\\\n",
    "                Wc_k1L2*W_L0,Wc_k1L2*W_k2L2,Wc_k1L2*W_k2L4,\\\n",
    "                Wc_k1L4*W_L0,Wc_k1L4*W_k2L2,Wc_k1L4*W_k2L4]\n",
    "        \n",
    "        # Including shot noise terms\n",
    "        C00exp += [2.*W_L0*W12_L0,W_k1L2*W12_L0,W_k1L4*W12_L0,\\\n",
    "                W_k2L2*W12_L0,W_k2L4*W12_L0,\\\n",
    "                conj(W12_L0)*W12_L0] # 1/nbar^2\n",
    "        \n",
    "        # Adding contributions to different k-bins (3 on each side of the diagonal)\n",
    "        for i in range(-3,4):\n",
    "            ind=(sort==i);\n",
    "            for j in range(15):\n",
    "                avgW00[i+3,j]+=np.sum(C00exp[j][ind])\n",
    "            \n",
    "    for i in range(0,2*3+1):\n",
    "        if(i+Nbin-3>=nBins): avgW00[i]*=0; continue #Checking for k-bins not within the range(0,nBins)\n",
    "        if(i+Nbin-3<0): avgW00[i]*=0; continue\n",
    "        avgW00[i]=avgW00[i]/(norm*Bin_ModeNum[Nbin+i-3]*I22**2)\n",
    "        \n",
    "    avgW00=2.*np.real(avgW00); \n",
    "    return(avgW00)"
   ]
  },
  {
   "cell_type": "code",
   "execution_count": 83,
   "metadata": {},
   "outputs": [],
   "source": [
    "# Gives window kernels for L=0,2,4 auto and cross covariance (instead of only L=0 above)\n",
    "\n",
    "# Returns an array with [7,15,6] dimensions. \n",
    "#    The first dim corresponds to the k-bin of k2 \n",
    "#    (only 3 bins on each side of diagonal are included as the Gaussian covariance drops quickly away from diagonal)\n",
    "\n",
    "#    The second dim corresponds to elements to be multiplied by various power spectrum multipoles\n",
    "#    to obtain the final covariance (see function 'Cij' below)\n",
    "\n",
    "#    The last dim corresponds to multipoles: [L0xL0,L2xL2,L4xL4,L2xL0,L4xL0,L4xL2]\n",
    "\n",
    "def WinFun(Nbin):\n",
    "    avgWij=np.zeros((2*3+1,15,6)); avgW00=np.zeros((2*3+1,15),dtype='<c8');\n",
    "    avgW22=avgW00.copy(); avgW44=avgW00.copy(); avgW20=avgW00.copy(); avgW40=avgW00.copy(); avgW42=avgW00.copy()\n",
    "    [ix,iy,iz,k2xh,k2yh,k2zh]=np.zeros((6,2*icut+1,2*icut+1,2*icut+1))\n",
    "    \n",
    "    for i in range(2*icut+1): \n",
    "        ix[i,:,:]+=i-icut; iy[:,i,:]+=i-icut; iz[:,:,i]+=i-icut\n",
    "        \n",
    "    if (kmodes_sampled<Bin_ModeNum[Nbin]):\n",
    "        norm=kmodes_sampled\n",
    "        sampled=(np.random.rand(kmodes_sampled)*Bin_ModeNum[Nbin]).astype(int)\n",
    "    else:\n",
    "        norm=Bin_ModeNum[Nbin]\n",
    "        sampled=np.arange(Bin_ModeNum[Nbin],dtype=int)\n",
    "    \n",
    "    # Randomly select a mode in the k1 bin\n",
    "    for n in sampled:\n",
    "        [ik1x,ik1y,ik1z,rk1]=Bin_kmodes[Nbin][n]\n",
    "        if (rk1==0.): k1xh=0; k1yh=0; k1zh=0\n",
    "        else: k1xh=ik1x/rk1; k1yh=ik1y/rk1; k1zh=ik1z/rk1\n",
    "            \n",
    "    # Build a 3D array of modes around the selected mode   \n",
    "        k2xh=ik1x-ix; k2yh=ik1y-iy; k2zh=ik1z-iz;\n",
    "        rk2=np.sqrt(k2xh**2+k2yh**2+k2zh**2);\n",
    "        sort=(rk2*kfun/kBinWidth).astype(int)-Nbin # to decide later which shell the k2 mode belongs to\n",
    "        ind=(rk2==0);\n",
    "        if (ind.any()>0): rk2[ind]=1e10\n",
    "        k2xh/=rk2; k2yh/=rk2; k2zh/=rk2;\n",
    "        #k2 hat arrays built\n",
    "        \n",
    "    # Now calculating window multipole kernels by taking dot products of cartesian FFTs with k1-hat, k2-hat arrays\n",
    "    # W corresponds to W22(k) and Wc corresponds to conjugate of W22(k)\n",
    "    # L(i) refers to multipoles\n",
    "        \n",
    "        W_L0 = W\n",
    "        Wc_L0 = conj(W)\n",
    "        \n",
    "        xx=Wxx*k1xh**2+Wyy*k1yh**2+Wzz*k1zh**2+2.*Wxy*k1xh*k1yh+2.*Wyz*k1yh*k1zh+2.*Wxz*k1zh*k1xh\n",
    "        \n",
    "        W_k1L2=1.5*xx-0.5*W\n",
    "        W_k2L2=1.5*(Wxx*k2xh**2+Wyy*k2yh**2+Wzz*k2zh**2 \\\n",
    "        +2.*Wxy*k2xh*k2yh+2.*Wyz*k2yh*k2zh+2.*Wxz*k2zh*k2xh)-0.5*W\n",
    "        Wc_k1L2=conj(W_k1L2)\n",
    "        Wc_k2L2=conj(W_k2L2)\n",
    "        \n",
    "        W_k1L4=35./8.*(Wxxxx*k1xh**4 +Wyyyy*k1yh**4+Wzzzz*k1zh**4 \\\n",
    "     +4.*Wxxxy*k1xh**3*k1yh +4.*Wxxxz*k1xh**3*k1zh +4.*Wxyyy*k1yh**3*k1xh \\\n",
    "     +4.*Wyyyz*k1yh**3*k1zh +4.*Wxzzz*k1zh**3*k1xh +4.*Wyzzz*k1zh**3*k1yh \\\n",
    "     +6.*Wxxyy*k1xh**2*k1yh**2+6.*Wxxzz*k1xh**2*k1zh**2+6.*Wyyzz*k1yh**2*k1zh**2 \\\n",
    "     +12.*Wxxyz*k1xh**2*k1yh*k1zh+12.*Wxyyz*k1yh**2*k1xh*k1zh +12.*Wxyzz*k1zh**2*k1xh*k1yh) \\\n",
    "     -5./2.*W_k1L2 -7./8.*W_L0\n",
    "        Wc_k1L4=conj(W_k1L4)\n",
    "        \n",
    "        k1k2=Wxxxx*(k1xh*k2xh)**2+Wyyyy*(k1yh*k2yh)**2+Wzzzz*(k1zh*k2zh)**2 \\\n",
    "            +Wxxxy*(k1xh*k1yh*k2xh**2+k1xh**2*k2xh*k2yh)*2\\\n",
    "            +Wxxxz*(k1xh*k1zh*k2xh**2+k1xh**2*k2xh*k2zh)*2\\\n",
    "            +Wyyyz*(k1yh*k1zh*k2yh**2+k1yh**2*k2yh*k2zh)*2\\\n",
    "            +Wyzzz*(k1zh*k1yh*k2zh**2+k1zh**2*k2zh*k2yh)*2\\\n",
    "            +Wxyyy*(k1yh*k1xh*k2yh**2+k1yh**2*k2yh*k2xh)*2\\\n",
    "            +Wxzzz*(k1zh*k1xh*k2zh**2+k1zh**2*k2zh*k2xh)*2\\\n",
    "            +Wxxyy*(k1xh**2*k2yh**2+k1yh**2*k2xh**2+4.*k1xh*k1yh*k2xh*k2yh)\\\n",
    "            +Wxxzz*(k1xh**2*k2zh**2+k1zh**2*k2xh**2+4.*k1xh*k1zh*k2xh*k2zh)\\\n",
    "            +Wyyzz*(k1yh**2*k2zh**2+k1zh**2*k2yh**2+4.*k1yh*k1zh*k2yh*k2zh)\\\n",
    "            +Wxyyz*(k1xh*k1zh*k2yh**2+k1yh**2*k2xh*k2zh+2.*k1yh*k2yh*(k1zh*k2xh+k1xh*k2zh))*2\\\n",
    "            +Wxxyz*(k1yh*k1zh*k2xh**2+k1xh**2*k2yh*k2zh+2.*k1xh*k2xh*(k1zh*k2yh+k1yh*k2zh))*2\\\n",
    "            +Wxyzz*(k1yh*k1xh*k2zh**2+k1zh**2*k2yh*k2xh+2.*k1zh*k2zh*(k1xh*k2yh+k1yh*k2xh))*2\n",
    "        \n",
    "        W_k2L4=35./8.*(Wxxxx*k2xh**4 +Wyyyy*k2yh**4+Wzzzz*k2zh**4 \\\n",
    "     +4.*Wxxxy*k2xh**3*k2yh +4.*Wxxxz*k2xh**3*k2zh +4.*Wxyyy*k2yh**3*k2xh \\\n",
    "     +4.*Wyyyz*k2yh**3*k2zh +4.*Wxzzz*k2zh**3*k2xh +4.*Wyzzz*k2zh**3*k2yh \\\n",
    "     +6.*Wxxyy*k2xh**2*k2yh**2+6.*Wxxzz*k2xh**2*k2zh**2+6.*Wyyzz*k2yh**2*k2zh**2 \\\n",
    "     +12.*Wxxyz*k2xh**2*k2yh*k2zh+12.*Wxyyz*k2yh**2*k2xh*k2zh +12.*Wxyzz*k2zh**2*k2xh*k2yh) \\\n",
    "     -5./2.*W_k2L2 -7./8.*W_L0\n",
    "        Wc_k2L4=conj(W_k2L4)\n",
    "        \n",
    "        W_k1L2_k2L2= 9./4.*k1k2 -3./4.*xx -1./2.*W_k2L2\n",
    "        W_k1L2_k2L4=2/7.*W_k1L2+20/77.*W_k1L4 #approximate as 6th order FFTs not simulated\n",
    "        W_k1L4_k2L2=W_k1L2_k2L4 #approximate\n",
    "        W_k1L4_k2L4=1/9.*W_L0+100/693.*W_k1L2+162/1001.*W_k1L4\n",
    "        Wc_k1L2_k2L2= conj(W_k1L2_k2L2)\n",
    "        Wc_k1L2_k2L4=conj(W_k1L2_k2L4); Wc_k1L4_k2L2=Wc_k1L2_k2L4\n",
    "        Wc_k1L4_k2L4=conj(W_k1L4_k2L4)\n",
    "        \n",
    "        k1k2W12=W12xxxx*(k1xh*k2xh)**2+W12yyyy*(k1yh*k2yh)**2+W12zzzz*(k1zh*k2zh)**2 \\\n",
    "            +W12xxxy*(k1xh*k1yh*k2xh**2+k1xh**2*k2xh*k2yh)*2\\\n",
    "            +W12xxxz*(k1xh*k1zh*k2xh**2+k1xh**2*k2xh*k2zh)*2\\\n",
    "            +W12yyyz*(k1yh*k1zh*k2yh**2+k1yh**2*k2yh*k2zh)*2\\\n",
    "            +W12yzzz*(k1zh*k1yh*k2zh**2+k1zh**2*k2zh*k2yh)*2\\\n",
    "            +W12xyyy*(k1yh*k1xh*k2yh**2+k1yh**2*k2yh*k2xh)*2\\\n",
    "            +W12xzzz*(k1zh*k1xh*k2zh**2+k1zh**2*k2zh*k2xh)*2\\\n",
    "            +W12xxyy*(k1xh**2*k2yh**2+k1yh**2*k2xh**2+4.*k1xh*k1yh*k2xh*k2yh)\\\n",
    "            +W12xxzz*(k1xh**2*k2zh**2+k1zh**2*k2xh**2+4.*k1xh*k1zh*k2xh*k2zh)\\\n",
    "            +W12yyzz*(k1yh**2*k2zh**2+k1zh**2*k2yh**2+4.*k1yh*k1zh*k2yh*k2zh)\\\n",
    "            +W12xyyz*(k1xh*k1zh*k2yh**2+k1yh**2*k2xh*k2zh+2.*k1yh*k2yh*(k1zh*k2xh+k1xh*k2zh))*2\\\n",
    "            +W12xxyz*(k1yh*k1zh*k2xh**2+k1xh**2*k2yh*k2zh+2.*k1xh*k2xh*(k1zh*k2yh+k1yh*k2zh))*2\\\n",
    "            +W12xyzz*(k1yh*k1xh*k2zh**2+k1zh**2*k2yh*k2xh+2.*k1zh*k2zh*(k1xh*k2yh+k1yh*k2xh))*2\n",
    "        \n",
    "        xxW12=W12xx*k1xh**2+W12yy*k1yh**2+W12zz*k1zh**2+2.*W12xy*k1xh*k1yh+2.*W12yz*k1yh*k1zh+2.*W12xz*k1zh*k1xh\n",
    "    \n",
    "        W12_L0 = W12\n",
    "        W12_k1L2=1.5*xxW12-0.5*W12\n",
    "        W12_k1L4=35./8.*(W12xxxx*k1xh**4 +W12yyyy*k1yh**4+W12zzzz*k1zh**4 \\\n",
    "     +4.*W12xxxy*k1xh**3*k1yh +4.*W12xxxz*k1xh**3*k1zh +4.*W12xyyy*k1yh**3*k1xh \\\n",
    "     +6.*W12xxyy*k1xh**2*k1yh**2+6.*W12xxzz*k1xh**2*k1zh**2+6.*W12yyzz*k1yh**2*k1zh**2 \\\n",
    "     +12.*W12xxyz*k1xh**2*k1yh*k1zh+12.*W12xyyz*k1yh**2*k1xh*k1zh +12.*W12xyzz*k1zh**2*k1xh*k1yh) \\\n",
    "     -5./2.*W12_k1L2 -7./8.*W12_L0\n",
    "        W12_k1L4_k2L2=2/7.*W12_k1L2+20/77.*W12_k1L4\n",
    "        W12_k1L4_k2L4=1/9.*W12_L0+100/693.*W12_k1L2+162/1001.*W12_k1L4\n",
    "        W12_k2L2=1.5*(W12xx*k2xh**2+W12yy*k2yh**2+W12zz*k2zh**2\\\n",
    "        +2.*W12xy*k2xh*k2yh+2.*W12yz*k2yh*k2zh+2.*W12xz*k2zh*k2xh)-0.5*W12\n",
    "        W12_k2L4=35./8.*(W12xxxx*k2xh**4 +W12yyyy*k2yh**4+W12zzzz*k2zh**4 \\\n",
    "     +4.*W12xxxy*k2xh**3*k2yh +4.*W12xxxz*k2xh**3*k2zh +4.*W12xyyy*k2yh**3*k2xh \\\n",
    "     +4.*W12yyyz*k2yh**3*k2zh +4.*W12xzzz*k2zh**3*k2xh +4.*W12yzzz*k2zh**3*k2yh \\\n",
    "     +6.*W12xxyy*k2xh**2*k2yh**2+6.*W12xxzz*k2xh**2*k2zh**2+6.*W12yyzz*k2yh**2*k2zh**2 \\\n",
    "     +12.*W12xxyz*k2xh**2*k2yh*k2zh+12.*W12xyyz*k2yh**2*k2xh*k2zh +12.*W12xyzz*k2zh**2*k2xh*k2yh) \\\n",
    "     -5./2.*W12_k2L2 -7./8.*W12_L0\n",
    "        \n",
    "        W12_k1L2_k2L2= 9./4.*k1k2W12 -3./4.*xxW12 -1./2.*W12_k2L2\n",
    "        \n",
    "        W_k1L2_Sumk2L22=1/5.*W_k1L2+2/7.*W_k1L2_k2L2+18/35.*W_k1L2_k2L4\n",
    "        W_k1L2_Sumk2L24=2/7.*W_k1L2_k2L2+20/77.*W_k1L2_k2L4\n",
    "        W_k1L4_Sumk2L22=1/5.*W_k1L4+2/7.*W_k1L4_k2L2+18/35.*W_k1L4_k2L4\n",
    "        W_k1L4_Sumk2L24=2/7.*W_k1L4_k2L2+20/77.*W_k1L4_k2L4\n",
    "        W_k1L4_Sumk2L44=1/9.*W_k1L4+100/693.*W_k1L4_k2L2+162/1001.*W_k1L4_k2L4\n",
    "        \n",
    "        C00exp = [Wc_L0*W_L0,Wc_L0*W_k2L2,Wc_L0*W_k2L4,\\\n",
    "                Wc_k1L2*W_L0,Wc_k1L2*W_k2L2,Wc_k1L2*W_k2L4,\\\n",
    "                Wc_k1L4*W_L0,Wc_k1L4*W_k2L2,Wc_k1L4*W_k2L4]\n",
    "        \n",
    "        C00exp += [2.*W_L0*W12_L0,W_k1L2*W12_L0,W_k1L4*W12_L0,\\\n",
    "                W_k2L2*W12_L0,W_k2L4*W12_L0,conj(W12_L0)*W12_L0]\n",
    "        \n",
    "        C22exp = [Wc_k2L2*W_k1L2 + Wc_L0*W_k1L2_k2L2,\\\n",
    "                Wc_k2L2*W_k1L2_k2L2 + Wc_L0*W_k1L2_Sumk2L22,\\\n",
    "                Wc_k2L2*W_k1L2_k2L4 + Wc_L0*W_k1L2_Sumk2L24,\\\n",
    "                Wc_k1L2_k2L2*W_k1L2 + Wc_k1L2*W_k1L2_k2L2,\\\n",
    "                Wc_k1L2_k2L2*W_k1L2_k2L2 + Wc_k1L2*W_k1L2_Sumk2L22,\\\n",
    "                Wc_k1L2_k2L2*W_k1L2_k2L4 + Wc_k1L2*W_k1L2_Sumk2L24,\\\n",
    "                Wc_k1L4_k2L2*W_k1L2 + Wc_k1L4*W_k1L2_k2L2,\\\n",
    "                Wc_k1L4_k2L2*W_k1L2_k2L2 + Wc_k1L4*W_k1L2_Sumk2L22,\\\n",
    "                Wc_k1L4_k2L2*W_k1L2_k2L4 + Wc_k1L4*W_k1L2_Sumk2L24]\n",
    "        \n",
    "        C22exp += [W_k1L2*W12_k2L2 + W_k2L2*W12_k1L2\\\n",
    "                   +W_k1L2_k2L2*W12_L0+W_L0*W12_k1L2_k2L2,\\\n",
    "                 0.5*((1/5.*W_L0+2/7.*W_k1L2+18/35.*W_k1L4)*W12_k2L2 + W_k1L2_k2L2*W12_k1L2\\\n",
    "+(1/5.*W_k2L2+2/7.*W_k1L2_k2L2+18/35.*W_k1L4_k2L2)*W12_L0 + W_k1L2*W12_k1L2_k2L2),\\\n",
    "    0.5*((2/7.*W_k1L2+20/77.*W_k1L4)*W12_k2L2 + W_k1L4_k2L2*W12_k1L2\\\n",
    "+(2/7.*W_k1L2_k2L2+20/77.*W_k1L4_k2L2)*W12_L0 + W_k1L4*W12_k1L2_k2L2),\\\n",
    "0.5*(W_k1L2_k2L2*W12_k2L2+(1/5.*W_L0+2/7.*W_k2L2+18/35.*W_k2L4)*W12_k1L2\\\n",
    "+(1/5.*W_k1L2+2/7.*W_k1L2_k2L2+18/35.*W_k1L2_k2L4)*W12_L0 + W_k2L2*W12_k1L2_k2L2),\\\n",
    "0.5*(W_k1L2_k2L4*W12_k2L2+(2/7.*W_k2L2+20/77.*W_k2L4)*W12_k1L2\\\n",
    "+(2/7.*W_k1L2_k2L2+20/77.*W_k1L2_k2L4)*W12_L0 + W_k2L4*W12_k1L2_k2L2),\\\n",
    "                 conj(W12_k1L2_k2L2)*W12_L0+conj(W12_k1L2)*W12_k2L2]\n",
    "        \n",
    "        C44exp = [Wc_k2L4*W_k1L4 + Wc_L0*W_k1L4_k2L4,\\\n",
    "                Wc_k2L4*W_k1L4_k2L2 + Wc_L0*W_k1L4_Sumk2L24,\\\n",
    "                Wc_k2L4*W_k1L4_k2L4 + Wc_L0*W_k1L4_Sumk2L44,\\\n",
    "                Wc_k1L2_k2L4*W_k1L4 + Wc_k1L2*W_k1L4_k2L4,\\\n",
    "                Wc_k1L2_k2L4*W_k1L4_k2L2 + Wc_k1L2*W_k1L4_Sumk2L24,\\\n",
    "                Wc_k1L2_k2L4*W_k1L4_k2L4 + Wc_k1L2*W_k1L4_Sumk2L44,\\\n",
    "                Wc_k1L4_k2L4*W_k1L4 + Wc_k1L4*W_k1L4_k2L4,\\\n",
    "                Wc_k1L4_k2L4*W_k1L4_k2L2 + Wc_k1L4*W_k1L4_Sumk2L24,\\\n",
    "                Wc_k1L4_k2L4*W_k1L4_k2L4 + Wc_k1L4*W_k1L4_Sumk2L44]\n",
    "        \n",
    "        C44exp += [W_k1L4*W12_k2L4 + W_k2L4*W12_k1L4\\\n",
    "                   +W_k1L4_k2L4*W12_L0+W_L0*W12_k1L4_k2L4,\\\n",
    "                 0.5*((2/7.*W_k1L2+20/77.*W_k1L4)*W12_k2L4 + W_k1L2_k2L4*W12_k1L4\\\n",
    "+(2/7.*W_k1L2_k2L4+20/77.*W_k1L4_k2L4)*W12_L0 + W_k1L2*W12_k1L4_k2L4),\\\n",
    "0.5*((1/9.*W_L0+100/693.*W_k1L2+162/1001.*W_k1L4)*W12_k2L4 + W_k1L4_k2L4*W12_k1L4\\\n",
    "+(1/9.*W_k2L4+100/693.*W_k1L2_k2L4+162/1001.*W_k1L4_k2L4)*W12_L0 + W_k1L4*W12_k1L4_k2L4),\\\n",
    "0.5*(W_k1L4_k2L2*W12_k2L4+(2/7.*W_k2L2+20/77.*W_k2L4)*W12_k1L4\\\n",
    "+(2/7.*W_k1L4_k2L2+20/77.*W_k1L4_k2L4)*W12_L0 + W_k2L2*W12_k1L4_k2L4),\\\n",
    "0.5*(W_k1L4_k2L4*W12_k2L4+(1/9.*W_L0+100/693.*W_k2L2+162/1001.*W_k2L4)*W12_k1L4\\\n",
    "+(1/9.*W_k1L4+100/693.*W_k1L4_k2L2+162/1001.*W_k1L4_k2L4)*W12_L0 + W_k2L4*W12_k1L4_k2L4),\\\n",
    "                 conj(W12_k1L4_k2L4)*W12_L0+conj(W12_k1L4)*W12_k2L4] #1/(nbar)^2\n",
    "        \n",
    "        C20exp = [Wc_L0*W_k1L2,Wc_L0*W_k1L2_k2L2,Wc_L0*W_k1L2_k2L4,\\\n",
    "                Wc_k1L2*W_k1L2,Wc_k1L2*W_k1L2_k2L2,Wc_k1L2*W_k1L2_k2L4,\\\n",
    "                Wc_k1L4*W_k1L2,Wc_k1L4*W_k1L2_k2L2,Wc_k1L4*W_k1L2_k2L4]\n",
    "        \n",
    "        C20exp += [W_k1L2*W12_L0 + W*W12_k1L2,\\\n",
    "                 0.5*((1/5.*W+2/7.*W_k1L2+18/35.*W_k1L4)*W12_L0 + W_k1L2*W12_k1L2),\\\n",
    "                0.5*((2/7.*W_k1L2+20/77.*W_k1L4)*W12_L0 + W_k1L4*W12_k1L2),\\\n",
    "                0.5*(W_k1L2_k2L2*W12_L0 + W_k2L2*W12_k1L2),\\\n",
    "                 0.5*(W_k1L2_k2L4*W12_L0 + W_k2L4*W12_k1L2),\\\n",
    "                 np.conj(W12_k1L2)*W12_L0]\n",
    "        \n",
    "        C40exp = [Wc_L0*W_k1L4,Wc_L0*W_k1L4_k2L2,Wc_L0*W_k1L4_k2L4,\\\n",
    "                Wc_k1L2*W_k1L4,Wc_k1L2*W_k1L4_k2L2,Wc_k1L2*W_k1L4_k2L4,\\\n",
    "                Wc_k1L4*W_k1L4,Wc_k1L4*W_k1L4_k2L2,Wc_k1L4*W_k1L4_k2L4]\n",
    "        \n",
    "        C40exp += [W_k1L4*W12_L0 + W*W12_k1L4,\\\n",
    "                 0.5*((2/7.*W_k1L2+20/77.*W_k1L4)*W12_L0 + W_k1L2*W12_k1L4),\\\n",
    "                0.5*((1/9.*W+100/693.*W_k1L2+162/1001.*W_k1L4)*W12_L0 + W_k1L4*W12_k1L4),\\\n",
    "                0.5*(W_k1L4_k2L2*W12_L0 + W_k2L2*W12_k1L4),\\\n",
    "                 0.5*(W_k1L4_k2L4*W12_L0 + W_k2L4*W12_k1L4),\\\n",
    "                 np.conj(W12_k1L4)*W12_L0]\n",
    "        \n",
    "        C42exp = [Wc_k2L2*W_k1L4 + Wc_L0*W_k1L4_k2L2,\\\n",
    "                Wc_k2L2*W_k1L4_k2L2 + Wc_L0*W_k1L4_Sumk2L22,\\\n",
    "                Wc_k2L2*W_k1L4_k2L4 + Wc_L0*W_k1L4_Sumk2L24,\\\n",
    "                Wc_k1L2_k2L2*W_k1L4 + Wc_k1L2*W_k1L4_k2L2,\\\n",
    "                Wc_k1L2_k2L2*W_k1L4_k2L2 + Wc_k1L2*W_k1L4_Sumk2L22,\\\n",
    "                Wc_k1L2_k2L2*W_k1L4_k2L4 + Wc_k1L2*W_k1L4_Sumk2L24,\\\n",
    "                Wc_k1L4_k2L2*W_k1L4 + Wc_k1L4*W_k1L4_k2L2,\\\n",
    "                Wc_k1L4_k2L2*W_k1L4_k2L2 + Wc_k1L4*W_k1L4_Sumk2L22,\\\n",
    "                Wc_k1L4_k2L2*W_k1L4_k2L4 + Wc_k1L4*W_k1L4_Sumk2L24]\n",
    "        \n",
    "        C42exp += [W_k1L4*W12_k2L2 + W_k2L2*W12_k1L4+\\\n",
    "                   W_k1L4_k2L2*W12_L0+W*W12_k1L4_k2L2,\\\n",
    "                 0.5*((2/7.*W_k1L2+20/77.*W_k1L4)*W12_k2L2 + W_k1L2_k2L2*W12_k1L4\\\n",
    "    +(2/7.*W_k1L2_k2L2+20/77.*W_k1L4_k2L2)*W12_L0 + W_k1L2*W12_k1L4_k2L2),\\\n",
    "    0.5*((1/9.*W+100/693.*W_k1L2+162/1001.*W_k1L4)*W12_k2L2 + W_k1L4_k2L2*W12_k1L4\\\n",
    "+(1/9.*W_k2L2+100/693.*W_k1L2_k2L2+162/1001.*W_k1L4_k2L2)*W12_L0 + W_k1L4*W12_k1L4_k2L2),\\\n",
    "0.5*(W_k1L4_k2L2*W12_k2L2+(1/5.*W+2/7.*W_k2L2+18/35.*W_k2L4)*W12_k1L4\\\n",
    "+(1/5.*W_k1L4+2/7.*W_k1L4_k2L2+18/35.*W_k1L4_k2L4)*W12_L0 + W_k2L2*W12_k1L4_k2L2),\\\n",
    "0.5*(W_k1L4_k2L4*W12_k2L2+(2/7.*W_k2L2+20/77.*W_k2L4)*W12_k1L4\\\n",
    "+(2/7.*W_k1L4_k2L2+20/77.*W_k1L4_k2L4)*W12_L0 + W_k2L4*W12_k1L4_k2L2),\\\n",
    "                 conj(W12_k1L4_k2L2)*W12_L0+conj(W12_k1L4)*W12_k2L2] #1/(nbar)^2\n",
    "        \n",
    "        for i in range(-3,4):\n",
    "            ind=(sort==i);\n",
    "            for j in range(15):\n",
    "                avgW00[i+3,j]+=np.sum(C00exp[j][ind])\n",
    "                avgW22[i+3,j]+=np.sum(C22exp[j][ind])\n",
    "                avgW44[i+3,j]+=np.sum(C44exp[j][ind])\n",
    "                avgW20[i+3,j]+=np.sum(C20exp[j][ind])\n",
    "                avgW40[i+3,j]+=np.sum(C40exp[j][ind])\n",
    "                avgW42[i+3,j]+=np.sum(C42exp[j][ind])\n",
    "            \n",
    "    for i in range(0,2*3+1):\n",
    "        if(i+Nbin-3>=nBins or i+Nbin-3<0): \n",
    "            avgW00[i]*=0; avgW22[i]*=0; avgW44[i]*=0;\n",
    "            avgW20[i]*=0; avgW40[i]*=0; avgW42[i]*=0; continue\n",
    "        avgW00[i]=avgW00[i]/(norm*Bin_ModeNum[Nbin+i-3]*I22**2)\n",
    "        avgW22[i]=avgW22[i]/(norm*Bin_ModeNum[Nbin+i-3]*I22**2)\n",
    "        avgW44[i]=avgW44[i]/(norm*Bin_ModeNum[Nbin+i-3]*I22**2)\n",
    "        avgW20[i]=avgW20[i]/(norm*Bin_ModeNum[Nbin+i-3]*I22**2)\n",
    "        avgW40[i]=avgW40[i]/(norm*Bin_ModeNum[Nbin+i-3]*I22**2)\n",
    "        avgW42[i]=avgW42[i]/(norm*Bin_ModeNum[Nbin+i-3]*I22**2)\n",
    "        \n",
    "    avgWij[:,:,0]=2.*np.real(avgW00); avgWij[:,:,1]=25.*np.real(avgW22); avgWij[:,:,2]=81.*np.real(avgW44);\n",
    "    avgWij[:,:,3]=5.*2.*np.real(avgW20); avgWij[:,:,4]=9.*2.*np.real(avgW40); avgWij[:,:,5]=45.*np.real(avgW42);\n",
    "    return(avgWij)"
   ]
  },
  {
   "cell_type": "code",
   "execution_count": 95,
   "metadata": {},
   "outputs": [
    {
     "name": "stdout",
     "output_type": "stream",
     "text": [
      "17.736570119857788\n"
     ]
    }
   ],
   "source": [
    "#Index of the k1-bin for which the window kernels are calculated\n",
    "k1_bin=40\n",
    "\n",
    "kmodes_sampled=200 # Number of k-modes sampled in the k1 shell. \n",
    "# For final result in paper ~25000 modes were used and the code was run on a cluster \n",
    "\n",
    "start_time = time.time()\n",
    "Wij = WinFun(k1_bin)\n",
    "print (time.time() - start_time)"
   ]
  },
  {
   "cell_type": "code",
   "execution_count": 96,
   "metadata": {},
   "outputs": [
    {
     "data": {
      "text/plain": [
       "(7, 15, 6)"
      ]
     },
     "execution_count": 96,
     "metadata": {},
     "output_type": "execute_result"
    }
   ],
   "source": [
    "Wij.shape"
   ]
  },
  {
   "cell_type": "markdown",
   "metadata": {},
   "source": [
    "# Comparing Gaussian terms with Patchy mock covariance"
   ]
  },
  {
   "cell_type": "code",
   "execution_count": null,
   "metadata": {},
   "outputs": [],
   "source": [
    "# Included this section to use the window kernels to calculate the covariance\n",
    "# and for a quick comparison to mock catalogs\n",
    "# I have included the data files corresponding to Patchy in the online folder."
   ]
  },
  {
   "cell_type": "code",
   "execution_count": 97,
   "metadata": {},
   "outputs": [],
   "source": [
    "# Include here the theory power spectrum best-fitted to the survey data\n",
    "# Currently I'm using here the Patchy output to show the comparison with mock catalogs later\n",
    "\n",
    "k=np.loadtxt(dire+'k_Patchy.dat'); kbins=len(k) #number of k-bins\n",
    "\n",
    "pfit=[0,1,2,3,4]\n",
    "pfit[0]=np.loadtxt(dire+'P0_fit_Patchy.dat')\n",
    "pfit[2]=np.loadtxt(dire+'P2_fit_Patchy.dat')\n",
    "pfit[4]=np.loadtxt(dire+'P4_fit_Patchy.dat')\n",
    "\n",
    "#Hexadecapole has little contribution so, if not fitted, once can use linear theory + Kaiser as a good approximation"
   ]
  },
  {
   "cell_type": "code",
   "execution_count": 98,
   "metadata": {},
   "outputs": [],
   "source": [
    "# Format: [L0 L2 L4] X [L0 L2 L4]\n",
    "CovaPatchy=np.loadtxt(dire+'Patchy_CovarianceMatrix.dat')"
   ]
  },
  {
   "cell_type": "code",
   "execution_count": 99,
   "metadata": {},
   "outputs": [],
   "source": [
    "# For generating individual elements of the covariance matrix\n",
    "\n",
    "def Cij(kt,Wij):\n",
    "    temp=np.zeros((7,6));\n",
    "    for i in range(-3,4):\n",
    "        if(kt+i<0 or kt+i>=kbins):\n",
    "            temp[i+3]=0.\n",
    "            continue\n",
    "        temp[i+3]=Wij[i+3,0]*pfit[0][kt]*pfit[0][kt+i]+\\\n",
    "        Wij[i+3,1]*pfit[0][kt]*pfit[2][kt+i]+\\\n",
    "        Wij[i+3,2]*pfit[0][kt]*pfit[4][kt+i]+\\\n",
    "        Wij[i+3,3]*pfit[2][kt]*pfit[0][kt+i]+\\\n",
    "        Wij[i+3,4]*pfit[2][kt]*pfit[2][kt+i]+\\\n",
    "        Wij[i+3,5]*pfit[2][kt]*pfit[4][kt+i]+\\\n",
    "        Wij[i+3,6]*pfit[4][kt]*pfit[0][kt+i]+\\\n",
    "        Wij[i+3,7]*pfit[4][kt]*pfit[2][kt+i]+\\\n",
    "        Wij[i+3,8]*pfit[4][kt]*pfit[4][kt+i]+\\\n",
    "        1.01*(Wij[i+3,9]*(pfit[0][kt]+pfit[0][kt+i])/2.+\\\n",
    "        Wij[i+3,10]*pfit[2][kt]+Wij[i+3,11]*pfit[4][kt]+\\\n",
    "        Wij[i+3,12]*pfit[2][kt+i]+Wij[i+3,13]*pfit[4][kt+i])+\\\n",
    "        1.01**2*Wij[i+3,14]\n",
    "    return(temp)"
   ]
  },
  {
   "cell_type": "code",
   "execution_count": 100,
   "metadata": {},
   "outputs": [
    {
     "name": "stdout",
     "output_type": "stream",
     "text": [
      "Diagonal element is at k= 0.202522\n"
     ]
    }
   ],
   "source": [
    "print('Diagonal element is at k=', k[k1_bin])\n",
    "kplot=k[k1_bin-3:k1_bin+4]\n",
    "norm=(pfit[0][k1_bin])*pfit[0][k1_bin-3:k1_bin+4]"
   ]
  },
  {
   "cell_type": "code",
   "execution_count": 101,
   "metadata": {},
   "outputs": [
    {
     "data": {
      "text/plain": [
       "<matplotlib.legend.Legend at 0x7fa0a57cd4c0>"
      ]
     },
     "execution_count": 101,
     "metadata": {},
     "output_type": "execute_result"
    },
    {
     "data": {
      "image/png": "[encoded data removed]",
      "text/plain": [
       "<Figure size 432x288 with 1 Axes>"
      ]
     },
     "metadata": {
      "needs_background": "light"
     },
     "output_type": "display_data"
    }
   ],
   "source": [
    "plt.plot(kplot,CovaPatchy[k1_bin,k1_bin-3:k1_bin+4]/norm)\n",
    "plt.plot(kplot,Cij(k1_bin,Wij)[:,0]/norm)\n",
    "plt.xlabel(r'$k_j$ (h/Mpc)'); plt.ylabel(r'$C_{00}(k_i,k_j)/P_0 (k_i) P_0(k_j)$')\n",
    "plt.legend([\"Patchy\",\"Analytic (Gaussian)\"], loc=4)\n",
    "# The constant offset is due to the Non-Gaussian covariance which is not added here.\n",
    "# As only a few k1-modes are sampled (kmodes_sampled) in this run, there is a bit of noise\n",
    "# (same case for both panels below)"
   ]
  },
  {
   "cell_type": "code",
   "execution_count": 102,
   "metadata": {},
   "outputs": [
    {
     "data": {
      "text/plain": [
       "<matplotlib.legend.Legend at 0x7fa0ac3776a0>"
      ]
     },
     "execution_count": 102,
     "metadata": {},
     "output_type": "execute_result"
    },
    {
     "data": {
      "image/png": "[encoded data removed]",
      "text/plain": [
       "<Figure size 432x288 with 1 Axes>"
      ]
     },
     "metadata": {
      "needs_background": "light"
     },
     "output_type": "display_data"
    }
   ],
   "source": [
    "plt.plot(kplot,CovaPatchy[50+k1_bin,50+k1_bin-3:50+k1_bin+4]/norm)\n",
    "plt.plot(kplot,Cij(k1_bin,Wij)[:,1]/norm)\n",
    "plt.xlabel(r'$k_j$ (h/Mpc)'); plt.ylabel(r'$C_{22}(k_i,k_j)/P_0 (k_i) P_0(k_j)$')\n",
    "plt.legend([\"Patchy\",\"Analytic (Gaussian)\"], loc=4)"
   ]
  },
  {
   "cell_type": "code",
   "execution_count": 103,
   "metadata": {},
   "outputs": [
    {
     "data": {
      "text/plain": [
       "<matplotlib.legend.Legend at 0x7fa0a7e28340>"
      ]
     },
     "execution_count": 103,
     "metadata": {},
     "output_type": "execute_result"
    },
    {
     "data": {
      "image/png": "[encoded data removed]",
      "text/plain": [
       "<Figure size 432x288 with 1 Axes>"
      ]
     },
     "metadata": {
      "needs_background": "light"
     },
     "output_type": "display_data"
    }
   ],
   "source": [
    "plt.plot(kplot,CovaPatchy[50+k1_bin,k1_bin-3:k1_bin+4]/norm)\n",
    "plt.plot(kplot,Cij(k1_bin,Wij)[:,3]/norm)\n",
    "plt.xlabel(r'$k_j$ (h/Mpc)'); plt.ylabel(r'$C_{20}(k_i,k_j)/P_0 (k_i) P_0(k_j)$')\n",
    "plt.legend([\"Patchy\",\"Analytic (Gaussian)\"], loc=4)"
   ]
  },
  {
   "cell_type": "code",
   "execution_count": 104,
   "metadata": {
    "scrolled": true
   },
   "outputs": [
    {
     "data": {
      "text/plain": [
       "<matplotlib.legend.Legend at 0x7fa0ac3feb50>"
      ]
     },
     "execution_count": 104,
     "metadata": {},
     "output_type": "execute_result"
    },
    {
     "data": {
      "image/png": "[encoded data removed]",
      "text/plain": [
       "<Figure size 432x288 with 1 Axes>"
      ]
     },
     "metadata": {
      "needs_background": "light"
     },
     "output_type": "display_data"
    }
   ],
   "source": [
    "plt.plot(kplot,CovaPatchy[100+k1_bin,100+k1_bin-3:100+k1_bin+4]/norm)\n",
    "plt.plot(kplot,Cij(k1_bin,Wij)[:,2]/norm)\n",
    "plt.xlabel(r'$k_j$ (h/Mpc)'); plt.ylabel(r'$C_{44}(k_i,k_j)/P_0 (k_i) P_0(k_j)$')\n",
    "plt.legend([\"Patchy\",\"Analytic (Gaussian)\"], loc=4)"
   ]
  },
  {
   "cell_type": "code",
   "execution_count": 105,
   "metadata": {},
   "outputs": [
    {
     "data": {
      "text/plain": [
       "<matplotlib.legend.Legend at 0x7fa0a62050d0>"
      ]
     },
     "execution_count": 105,
     "metadata": {},
     "output_type": "execute_result"
    },
    {
     "data": {
      "image/png": "[encoded data removed]",
      "text/plain": [
       "<Figure size 432x288 with 1 Axes>"
      ]
     },
     "metadata": {
      "needs_background": "light"
     },
     "output_type": "display_data"
    }
   ],
   "source": [
    "plt.plot(kplot,CovaPatchy[100+k1_bin,50+k1_bin-3:50+k1_bin+4]/norm)\n",
    "plt.plot(kplot,Cij(k1_bin,Wij)[:,5]/norm)\n",
    "plt.xlabel(r'$k_j$ (h/Mpc)'); plt.ylabel(r'$C_{42}(k_i,k_j)/P_0 (k_i) P_0(k_j)$')\n",
    "plt.legend([\"Patchy\",\"Analytic (Gaussian)\"], loc=4)"
   ]
  },
  {
   "cell_type": "markdown",
   "metadata": {
    "heading_collapsed": true
   },
   "source": [
    "### Additional snippets when running the code on a cluster"
   ]
  },
  {
   "cell_type": "code",
   "execution_count": null,
   "metadata": {
    "hidden": true
   },
   "outputs": [],
   "source": [
    "# Please ignore this sub-section"
   ]
  },
  {
   "cell_type": "code",
   "execution_count": null,
   "metadata": {
    "hidden": true
   },
   "outputs": [],
   "source": [
    "binsInd=np.arange(0,50); nBins=len(binsInd)\n",
    "kmodes_sampled=25000"
   ]
  },
  {
   "cell_type": "code",
   "execution_count": null,
   "metadata": {
    "hidden": true
   },
   "outputs": [],
   "source": [
    "key='HighZ_NGC'\n",
    "dire='/scratch/dsw310/Cova/output/'"
   ]
  },
  {
   "cell_type": "code",
   "execution_count": null,
   "metadata": {
    "hidden": true
   },
   "outputs": [],
   "source": [
    "start_time = time.time()\n",
    "p = multiprocessing.Pool(cores=47)\n",
    "WinFunAll=p.map(WinFun, binsInd)\n",
    "p.close()\n",
    "p.join()\n",
    "\n",
    "time_elapsed = time.time() - start_time\n",
    "print('Run time: {:.0f}m {:.0f}s'.format(time_elapsed // 60, time_elapsed % 60))"
   ]
  },
  {
   "cell_type": "code",
   "execution_count": null,
   "metadata": {
    "hidden": true
   },
   "outputs": [],
   "source": [
    "b=np.zeros((len(binsInd),7,15,6))\n",
    "for i in range(len(binsInd)):\n",
    "    b[i]=WinFunAll[i]\n",
    "np.save(dire+'Wij_k'+str(nBins)+'_'+key+'.npy',b)"
   ]
  },
  {
   "cell_type": "code",
   "execution_count": null,
   "metadata": {
    "hidden": true
   },
   "outputs": [],
   "source": []
  }
 ],
 "metadata": {
  "kernelspec": {
   "display_name": "Python 3 (ipykernel)",
   "language": "python",
   "name": "python3"
  },
  "language_info": {
   "codemirror_mode": {
    "name": "ipython",
    "version": 3
   },
   "file_extension": ".py",
   "mimetype": "text/x-python",
   "name": "python",
   "nbconvert_exporter": "python",
   "pygments_lexer": "ipython3",
   "version": "3.9.5"
  }
 },
 "nbformat": 4,
 "nbformat_minor": 2
}
