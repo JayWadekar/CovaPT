{
 "cells": [
  {
   "cell_type": "code",
   "execution_count": null,
   "id": "30111720",
   "metadata": {},
   "outputs": [],
   "source": [
    "# This code was primarily written by Otavio Alves (oalves@umich.edu)\n",
    "# with changes by Jay Wadekar\n",
    "\n",
    "# Needs nbodykit installed (https://nbodykit.readthedocs.io/en/latest/getting-started/install.html)\n",
    "# and files for the survey random catalog"
   ]
  },
  {
   "cell_type": "code",
   "execution_count": 163,
   "id": "fadf1119",
   "metadata": {},
   "outputs": [],
   "source": [
    "import numpy as np\n",
    "from numpy import exp, log, log10, cos, sin, pi, cosh, sinh , sqrt, amin, amax, mean, dot, power, conj\n",
    "import dask.array as da\n",
    "from matplotlib import pyplot as plot\n",
    "import matplotlib.pyplot as plt\n",
    "import itertools as itt\n",
    "import fitsio\n",
    "from nbodykit.source.catalog import FITSCatalog, CSVCatalog\n",
    "from nbodykit.lab import *\n",
    "from scipy import fft"
   ]
  },
  {
   "cell_type": "code",
   "execution_count": 164,
   "id": "459aab11",
   "metadata": {},
   "outputs": [],
   "source": [
    "cosmo = cosmology.Cosmology(h=0.7).match(Omega0_m=0.31)\n",
    "Nmesh = 48 # FFT size\n",
    "BoxSize = 3750. #Box size, should encompass all the galaxies"
   ]
  },
  {
   "cell_type": "code",
   "execution_count": 165,
   "id": "c2e61c9d",
   "metadata": {},
   "outputs": [],
   "source": [
    "# Download the BOSS random catalog from https://data.sdss.org/sas/dr12/boss/lss/\n",
    "# RA, Dec, z, w_fkp, nbar are given by columns 0,1,2,3,4 in the fits files\n",
    "# Reference: https://nbodykit.readthedocs.io/en/latest/catalogs/reading.html?highlight=fits#FITS-Data\n",
    "\n",
    "randoms = FITSCatalog('/data/jayw/NYU/Covariance/Data/BOSS/catalogs/random0_DR12v5_CMASSLOWZTOT_North.fits')\n",
    "randoms = randoms[(randoms['Z'] > 0.5) * (randoms['Z'] < 0.75)]"
   ]
  },
  {
   "cell_type": "code",
   "execution_count": 166,
   "id": "bb7f6199",
   "metadata": {},
   "outputs": [],
   "source": [
    "randoms['W12'] = randoms['WEIGHT_FKP']**2 \n",
    "randoms['W22'] = (randoms['WEIGHT_FKP']**2) * randoms['NZ']"
   ]
  },
  {
   "cell_type": "code",
   "execution_count": 167,
   "id": "03caed9e",
   "metadata": {},
   "outputs": [
    {
     "data": {
      "text/plain": [
       "437.18336496809707"
      ]
     },
     "execution_count": 167,
     "metadata": {},
     "output_type": "execute_result"
    }
   ],
   "source": [
    "# Calculating Iij\n",
    "\n",
    "#I22 is calculated as an example here (note difference in the nbar power as nbar also enters in the sum)\n",
    "I22 = da.sum(randoms['NZ'] * randoms['WEIGHT_FKP']**2)\n",
    "I22.compute()"
   ]
  },
  {
   "cell_type": "code",
   "execution_count": 168,
   "id": "f8260cc8",
   "metadata": {},
   "outputs": [],
   "source": [
    "randoms['OriginalPosition'] = transform.SkyToCartesian(\n",
    "    randoms['RA'], randoms['DEC'], randoms['Z'], degrees=True, cosmo=cosmo)\n",
    "\n",
    "x = randoms['OriginalPosition'].T\n",
    "\n",
    "# Shifting the points such that the survey center is in the center of the box\n",
    "randoms['Position'] = randoms['OriginalPosition'] + da.array(3*[BoxSize/2])"
   ]
  },
  {
   "cell_type": "code",
   "execution_count": 169,
   "id": "1e54c39b",
   "metadata": {},
   "outputs": [
    {
     "name": "stdout",
     "output_type": "stream",
     "text": [
      "W22xxxx, W22xxxy, W22xxxz, W22xxyy, W22xxyz, W22xxzz, W22xyyy, W22xyyz, W22xyzz, W22xzzz, W22yyyy, W22yyyz, W22yyzz, W22yzzz, W22zzzz\n"
     ]
    }
   ],
   "source": [
    "# Types of fourth-order FFTs that will be generated below\n",
    "\n",
    "w='W22'\n",
    "label=[]\n",
    "for (i,i_label),(j,j_label),(k,k_label),(l,l_label) in itt.combinations_with_replacement(enumerate(['x', 'y', 'z']), r=4):\n",
    "        label.append(w + i_label + j_label + k_label + l_label)\n",
    "\n",
    "print(', '.join(label))"
   ]
  },
  {
   "cell_type": "code",
   "execution_count": 172,
   "id": "3cc11e46",
   "metadata": {},
   "outputs": [],
   "source": [
    "num_ffts = lambda n: int((n+1)*(n+2)/2)\n",
    "\n",
    "export=np.zeros((2*(1+num_ffts(2)+num_ffts(4)),Nmesh,Nmesh,Nmesh),dtype='complex128')"
   ]
  },
  {
   "cell_type": "code",
   "execution_count": 173,
   "id": "e7bff62f",
   "metadata": {
    "scrolled": true
   },
   "outputs": [
    {
     "name": "stdout",
     "output_type": "stream",
     "text": [
      "Computing FFTs of W22\n",
      "Computing 0th order FFTs\n",
      "Computing 2nd order FFTs\n",
      "Computing 4th order FFTs\n",
      "Computing FFTs of W12\n",
      "Computing 0th order FFTs\n",
      "Computing 2nd order FFTs\n",
      "Computing 4th order FFTs\n"
     ]
    }
   ],
   "source": [
    "# Warning: computing this cell takes a bit of time\n",
    "\n",
    "ind=0\n",
    "\n",
    "for w in ['W22', 'W12']:\n",
    "    print(f'Computing FFTs of {w}')\n",
    "    \n",
    "    print('Computing 0th order FFTs')\n",
    "    Wij = np.fft.fftn(randoms.to_mesh(Nmesh=Nmesh, BoxSize=BoxSize, value=w, resampler='tsc', interlaced=True, compensated=True).paint())\n",
    "    Wij *= (da.sum(randoms[w]).compute())/np.real(Wij[0,0,0]) #Fixing normalization, e.g., zero mode should be I22 for 'W22'\n",
    "    export[ind]=Wij; ind+=1\n",
    "    \n",
    "    print('Computing 2nd order FFTs')\n",
    "    for (i,i_label),(j,j_label) in itt.combinations_with_replacement(enumerate(['x', 'y', 'z']), r=2):\n",
    "        label = w + i_label + j_label\n",
    "        randoms[label] = randoms[w] * x[i]*x[j] /(x[0]**2 + x[1]**2 + x[2]**2)\n",
    "        Wij = np.fft.fftn(randoms.to_mesh(Nmesh=Nmesh, BoxSize=BoxSize, value=label, resampler='tsc', interlaced=True, compensated=True).paint())\n",
    "        Wij *= (da.sum(randoms[label]).compute())/np.real(Wij[0,0,0])\n",
    "        export[ind]=Wij; ind+=1\n",
    "\n",
    "    print('Computing 4th order FFTs')\n",
    "    for (i,i_label),(j,j_label),(k,k_label),(l,l_label) in itt.combinations_with_replacement(enumerate(['x', 'y', 'z']), r=4):\n",
    "        label = w + i_label + j_label + k_label + l_label\n",
    "        randoms[label] = randoms[w] * x[i]*x[j]*x[k]*x[l] /(x[0]**2 + x[1]**2 + x[2]**2)**2\n",
    "        Wij = np.fft.fftn(randoms.to_mesh(Nmesh=Nmesh, BoxSize=BoxSize, value=label, resampler='tsc', interlaced=True, compensated=True).paint())\n",
    "        Wij *= (da.sum(randoms[label]).compute())/np.real(Wij[0,0,0])\n",
    "        export[ind]=Wij; ind+=1\n",
    "        "
   ]
  },
  {
   "cell_type": "code",
   "execution_count": 174,
   "id": "6202b7da",
   "metadata": {},
   "outputs": [
    {
     "data": {
      "text/plain": [
       "(44, 48, 48, 48)"
      ]
     },
     "execution_count": 174,
     "metadata": {},
     "output_type": "execute_result"
    }
   ],
   "source": [
    "export.shape"
   ]
  },
  {
   "cell_type": "code",
   "execution_count": 175,
   "id": "75d35955",
   "metadata": {},
   "outputs": [],
   "source": [
    "np.save('/data/jayw/NYU/Covariance/Data/FFTWinFun_HighZ_NGC.npy',export)"
   ]
  },
  {
   "cell_type": "code",
   "execution_count": null,
   "id": "86ced7c5",
   "metadata": {},
   "outputs": [],
   "source": []
  },
  {
   "cell_type": "code",
   "execution_count": null,
   "id": "76de0ed1",
   "metadata": {},
   "outputs": [],
   "source": []
  }
 ],
 "metadata": {
  "kernelspec": {
   "display_name": "Python [conda env:nbodykit-env]",
   "language": "python",
   "name": "conda-env-nbodykit-env-py"
  },
  "language_info": {
   "codemirror_mode": {
    "name": "ipython",
    "version": 3
   },
   "file_extension": ".py",
   "mimetype": "text/x-python",
   "name": "python",
   "nbconvert_exporter": "python",
   "pygments_lexer": "ipython3",
   "version": "3.8.12"
  }
 },
 "nbformat": 4,
 "nbformat_minor": 5
}
