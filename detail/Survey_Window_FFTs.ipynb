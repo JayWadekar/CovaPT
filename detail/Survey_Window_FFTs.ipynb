{
 "cells": [
  {
   "cell_type": "code",
   "execution_count": 460,
   "id": "1473311f",
   "metadata": {
    "ExecuteTime": {
     "end_time": "2022-05-01T19:00:37.155137Z",
     "start_time": "2022-05-01T19:00:37.151453Z"
    }
   },
   "outputs": [],
   "source": [
    "# This code has two parts:\n",
    "# 1. For window kernels for Gaussian covariance used in 'Survey_window_kernels.ipynb'\n",
    "# 2. For window power spectra for super-sample covariance (SSC) used in 'Covariance_SurveyGeometry.ipynb'"
   ]
  },
  {
   "cell_type": "code",
   "execution_count": null,
   "id": "30111720",
   "metadata": {},
   "outputs": [],
   "source": [
    "# This code was written jointly by Otavio Alves (oalves@umich.edu) and Jay Wadekar\n",
    "\n",
    "# Needs nbodykit installed (https://nbodykit.readthedocs.io/en/latest/getting-started/install.html)\n",
    "# and files for the survey random catalog"
   ]
  },
  {
   "cell_type": "code",
   "execution_count": 1,
   "id": "fadf1119",
   "metadata": {
    "ExecuteTime": {
     "end_time": "2022-05-01T19:10:31.064576Z",
     "start_time": "2022-05-01T19:10:26.245140Z"
    }
   },
   "outputs": [],
   "source": [
    "import numpy as np\n",
    "from numpy import exp, log, log10, cos, sin, pi, cosh, sinh , sqrt, amin, amax, mean, dot, power, conj\n",
    "import dask.array as da\n",
    "from matplotlib import pyplot as plot\n",
    "import matplotlib.pyplot as plt\n",
    "import itertools as itt\n",
    "import fitsio\n",
    "from nbodykit.source.catalog import FITSCatalog, CSVCatalog\n",
    "from nbodykit.lab import *\n",
    "from scipy import fft"
   ]
  },
  {
   "cell_type": "code",
   "execution_count": 2,
   "id": "c2e61c9d",
   "metadata": {
    "ExecuteTime": {
     "end_time": "2022-05-01T19:11:33.734926Z",
     "start_time": "2022-05-01T19:10:31.067565Z"
    }
   },
   "outputs": [],
   "source": [
    "# Download the BOSS random catalog from https://data.sdss.org/sas/dr12/boss/lss/\n",
    "# RA, Dec, z, w_fkp, nbar are given by columns 0,1,2,3,4 in the fits files\n",
    "# Reference: https://nbodykit.readthedocs.io/en/latest/catalogs/reading.html?highlight=fits#FITS-Data\n",
    "\n",
    "randoms = FITSCatalog('/data/jayw/NYU/Covariance/Data/BOSS/catalogs/random0_DR12v5_CMASSLOWZTOT_North.fits')\n",
    "randoms = randoms[(randoms['Z'] > 0.5) * (randoms['Z'] < 0.75)]"
   ]
  },
  {
   "cell_type": "code",
   "execution_count": 3,
   "id": "81a04481",
   "metadata": {
    "ExecuteTime": {
     "end_time": "2022-05-01T19:11:33.784275Z",
     "start_time": "2022-05-01T19:11:33.738284Z"
    }
   },
   "outputs": [],
   "source": [
    "cosmo = cosmology.Cosmology(h=0.7).match(Omega0_m=0.31)\n",
    "\n",
    "randoms['OriginalPosition'] = transform.SkyToCartesian(\n",
    "    randoms['RA'], randoms['DEC'], randoms['Z'], degrees=True, cosmo=cosmo)\n",
    "\n",
    "r = randoms['OriginalPosition'].T"
   ]
  },
  {
   "cell_type": "code",
   "execution_count": 4,
   "id": "03caed9e",
   "metadata": {
    "ExecuteTime": {
     "end_time": "2022-05-01T19:11:46.254166Z",
     "start_time": "2022-05-01T19:11:33.785725Z"
    }
   },
   "outputs": [
    {
     "data": {
      "text/plain": [
       "437.18336496809707"
      ]
     },
     "execution_count": 4,
     "metadata": {},
     "output_type": "execute_result"
    }
   ],
   "source": [
    "# Calculating Iij\n",
    "\n",
    "#I22 is calculated as an example here (note difference in the nbar power as nbar also enters in the sum)\n",
    "I22 = da.sum(randoms['NZ']**1 * randoms['WEIGHT_FKP']**2)\n",
    "I22.compute()"
   ]
  },
  {
   "cell_type": "code",
   "execution_count": 15,
   "id": "e18610c7",
   "metadata": {
    "ExecuteTime": {
     "end_time": "2022-05-01T19:15:36.053826Z",
     "start_time": "2022-05-01T19:15:36.045878Z"
    }
   },
   "outputs": [],
   "source": [
    "num_ffts = lambda n: int((n+1)*(n+2)/2) # Number of FFTs of nth order"
   ]
  },
  {
   "cell_type": "markdown",
   "id": "f6982dd4",
   "metadata": {},
   "source": [
    "# Window kernels for Gaussian covariance"
   ]
  },
  {
   "cell_type": "code",
   "execution_count": 5,
   "id": "db9813e1",
   "metadata": {
    "ExecuteTime": {
     "end_time": "2022-05-01T19:11:46.258553Z",
     "start_time": "2022-05-01T19:11:46.255747Z"
    }
   },
   "outputs": [],
   "source": [
    "Nmesh = 48 # FFT size\n",
    "BoxSize = 3750. #Box size, should encompass all the galaxies"
   ]
  },
  {
   "cell_type": "code",
   "execution_count": 6,
   "id": "f8260cc8",
   "metadata": {
    "ExecuteTime": {
     "end_time": "2022-05-01T19:11:46.269932Z",
     "start_time": "2022-05-01T19:11:46.260111Z"
    }
   },
   "outputs": [],
   "source": [
    "# Shifting the points such that the survey center is in the center of the box\n",
    "randoms['Position'] = randoms['OriginalPosition'] + da.array(3*[BoxSize/2])"
   ]
  },
  {
   "cell_type": "code",
   "execution_count": 7,
   "id": "4c49f900",
   "metadata": {
    "ExecuteTime": {
     "end_time": "2022-05-01T19:11:46.282186Z",
     "start_time": "2022-05-01T19:11:46.271501Z"
    }
   },
   "outputs": [],
   "source": [
    "randoms['W12'] = randoms['WEIGHT_FKP']**2 \n",
    "randoms['W22'] = (randoms['WEIGHT_FKP']**2) * randoms['NZ']"
   ]
  },
  {
   "cell_type": "code",
   "execution_count": 8,
   "id": "1e54c39b",
   "metadata": {
    "ExecuteTime": {
     "end_time": "2022-05-01T19:11:46.293387Z",
     "start_time": "2022-05-01T19:11:46.283859Z"
    }
   },
   "outputs": [
    {
     "name": "stdout",
     "output_type": "stream",
     "text": [
      "W22xxxx, W22xxxy, W22xxxz, W22xxyy, W22xxyz, W22xxzz, W22xyyy, W22xyyz, W22xyzz, W22xzzz, W22yyyy, W22yyyz, W22yyzz, W22yzzz, W22zzzz\n"
     ]
    }
   ],
   "source": [
    "# Types of fourth-order FFTs that will be generated below\n",
    "\n",
    "w='W22'\n",
    "label=[]\n",
    "for (i,i_label),(j,j_label),(k,k_label),(l,l_label) in itt.combinations_with_replacement(enumerate(['x', 'y', 'z']), r=4):\n",
    "        label.append(w + i_label + j_label + k_label + l_label)\n",
    "\n",
    "print(', '.join(label))"
   ]
  },
  {
   "cell_type": "code",
   "execution_count": 207,
   "id": "e7bff62f",
   "metadata": {
    "scrolled": true
   },
   "outputs": [
    {
     "name": "stdout",
     "output_type": "stream",
     "text": [
      "Computing FFTs of W22\n",
      "Computing 0th order FFTs\n",
      "Computing 2nd order FFTs\n",
      "Computing 4th order FFTs\n",
      "Computing FFTs of W12\n",
      "Computing 0th order FFTs\n",
      "Computing 2nd order FFTs\n",
      "Computing 4th order FFTs\n"
     ]
    }
   ],
   "source": [
    "# Warning: computing this cell takes a bit of time\n",
    "\n",
    "export=np.zeros((2*(1+num_ffts(2)+num_ffts(4)),Nmesh,Nmesh,Nmesh),dtype='complex128')\n",
    "\n",
    "ind=0\n",
    "\n",
    "for w in ['W22', 'W12']:\n",
    "    print(f'Computing FFTs of {w}')\n",
    "    \n",
    "    print('Computing 0th order FFTs')\n",
    "    Wij = np.fft.fftn(randoms.to_mesh(Nmesh=Nmesh, BoxSize=BoxSize, value=w, resampler='tsc', interlaced=True, compensated=True).paint())\n",
    "    Wij *= (da.sum(randoms[w]).compute())/np.real(Wij[0,0,0]) #Fixing normalization, e.g., zero mode should be I22 for 'W22'\n",
    "    export[ind]=Wij; ind+=1\n",
    "    \n",
    "    print('Computing 2nd order FFTs')\n",
    "    for (i,i_label),(j,j_label) in itt.combinations_with_replacement(enumerate(['x', 'y', 'z']), r=2):\n",
    "        label = w + i_label + j_label\n",
    "        randoms[label] = randoms[w] * r[i]*r[j] /(r[0]**2 + r[1]**2 + r[2]**2)\n",
    "        Wij = np.fft.fftn(randoms.to_mesh(Nmesh=Nmesh, BoxSize=BoxSize, value=label, resampler='tsc', interlaced=True, compensated=True).paint())\n",
    "        Wij *= (da.sum(randoms[label]).compute())/np.real(Wij[0,0,0])\n",
    "        export[ind]=Wij; ind+=1\n",
    "\n",
    "    print('Computing 4th order FFTs')\n",
    "    for (i,i_label),(j,j_label),(k,k_label),(l,l_label) in itt.combinations_with_replacement(enumerate(['x', 'y', 'z']), r=4):\n",
    "        label = w + i_label + j_label + k_label + l_label\n",
    "        randoms[label] = randoms[w] * r[i]*r[j]*r[k]*r[l] /(r[0]**2 + r[1]**2 + r[2]**2)**2\n",
    "        Wij = np.fft.fftn(randoms.to_mesh(Nmesh=Nmesh, BoxSize=BoxSize, value=label, resampler='tsc', interlaced=True, compensated=True).paint())\n",
    "        Wij *= (da.sum(randoms[label]).compute())/np.real(Wij[0,0,0])\n",
    "        export[ind]=Wij; ind+=1\n",
    "        "
   ]
  },
  {
   "cell_type": "code",
   "execution_count": 174,
   "id": "6202b7da",
   "metadata": {},
   "outputs": [
    {
     "data": {
      "text/plain": [
       "(44, 48, 48, 48)"
      ]
     },
     "execution_count": 174,
     "metadata": {},
     "output_type": "execute_result"
    }
   ],
   "source": [
    "export.shape"
   ]
  },
  {
   "cell_type": "code",
   "execution_count": 175,
   "id": "75d35955",
   "metadata": {},
   "outputs": [],
   "source": [
    "np.save('/data/jayw/NYU/Covariance/Data/Delete/FFTWinFun_HighZ_NGC.npy',export)"
   ]
  },
  {
   "cell_type": "markdown",
   "id": "accd8bd4",
   "metadata": {},
   "source": [
    "# Window power spectra for SSC"
   ]
  },
  {
   "cell_type": "code",
   "execution_count": 16,
   "id": "ea0da72b",
   "metadata": {
    "ExecuteTime": {
     "end_time": "2022-05-01T19:16:20.565410Z",
     "start_time": "2022-05-01T19:16:20.558895Z"
    }
   },
   "outputs": [],
   "source": [
    "Nmesh = 500 # use an even number to avoid spurious effects\n",
    "BoxSize = 7200. #Box size, used much larger than previously in order to sample the low-k modes\n",
    "\n",
    "# Fundamental k-mode\n",
    "kfun=2.*np.pi/BoxSize\n",
    "\n",
    "nBins=int(Nmesh/2) # Number of bins in which power spectrum will be calculated"
   ]
  },
  {
   "cell_type": "code",
   "execution_count": null,
   "id": "f1431860",
   "metadata": {
    "ExecuteTime": {
     "start_time": "2022-05-01T19:16:23.074Z"
    }
   },
   "outputs": [
    {
     "name": "stdout",
     "output_type": "stream",
     "text": [
      "Computing FFTs of W22\n",
      "Computing 0th order FFTs\n"
     ]
    }
   ],
   "source": [
    "# Using similar commands as for the earlier case of Gaussian window kernels\n",
    "# Warning: computing this cell takes a bit of time\n",
    "\n",
    "randoms['Position'] = randoms['OriginalPosition'] + da.array(3*[BoxSize/2])\n",
    "\n",
    "randoms['W22'] = (randoms['WEIGHT_FKP']**2) * randoms['NZ']\n",
    "randoms['W10'] = randoms['W22']/randoms['W22']\n",
    "\n",
    "export=np.zeros((2*(1+num_ffts(2)+num_ffts(4)),Nmesh,Nmesh,Nmesh),dtype='complex128')\n",
    "\n",
    "ind=0\n",
    "\n",
    "for w in ['W22', 'W10']:\n",
    "    print(f'Computing FFTs of {w}')\n",
    "    \n",
    "    print('Computing 0th order FFTs')\n",
    "    Wij = np.fft.fftn(randoms.to_mesh(Nmesh=Nmesh, BoxSize=BoxSize, value=w, resampler='tsc', interlaced=True, compensated=True).paint())\n",
    "    Wij *= (da.sum(randoms[w]).compute())/np.real(Wij[0,0,0]) #Fixing normalization, e.g., zero mode should be I22 for 'W22'\n",
    "    export[ind]=Wij; ind+=1\n",
    "    \n",
    "    print('Computing 2nd order FFTs')\n",
    "    for (i,i_label),(j,j_label) in itt.combinations_with_replacement(enumerate(['x', 'y', 'z']), r=2):\n",
    "        label = w + i_label + j_label\n",
    "        randoms[label] = randoms[w] * r[i]*r[j] /(r[0]**2 + r[1]**2 + r[2]**2)\n",
    "        Wij = np.fft.fftn(randoms.to_mesh(Nmesh=Nmesh, BoxSize=BoxSize, value=label, resampler='tsc', interlaced=True, compensated=True).paint())\n",
    "        Wij *= (da.sum(randoms[label]).compute())/np.real(Wij[0,0,0])\n",
    "        export[ind]=Wij; ind+=1\n",
    "\n",
    "    print('Computing 4th order FFTs')\n",
    "    for (i,i_label),(j,j_label),(k,k_label),(l,l_label) in itt.combinations_with_replacement(enumerate(['x', 'y', 'z']), r=4):\n",
    "        label = w + i_label + j_label + k_label + l_label\n",
    "        randoms[label] = randoms[w] * r[i]*r[j]*r[k]*r[l] /(r[0]**2 + r[1]**2 + r[2]**2)**2\n",
    "        Wij = np.fft.fftn(randoms.to_mesh(Nmesh=Nmesh, BoxSize=BoxSize, value=label, resampler='tsc', interlaced=True, compensated=True).paint())\n",
    "        Wij *= (da.sum(randoms[label]).compute())/np.real(Wij[0,0,0])\n",
    "        export[ind]=Wij; ind+=1"
   ]
  },
  {
   "cell_type": "code",
   "execution_count": null,
   "id": "f0470692",
   "metadata": {
    "ExecuteTime": {
     "start_time": "2022-05-01T19:16:26.002Z"
    }
   },
   "outputs": [],
   "source": [
    "# For shifting the zero-frequency component to the center of the FFT array\n",
    "export=np.array([np.fft.fftshift(i) for i in export])"
   ]
  },
  {
   "cell_type": "code",
   "execution_count": null,
   "id": "a61049a1",
   "metadata": {
    "ExecuteTime": {
     "start_time": "2022-05-01T19:16:29.506Z"
    }
   },
   "outputs": [],
   "source": [
    "# Recording the k-modes in different shells\n",
    "# Bin_kmodes contains [kx,ky,kz,radius] values of all the modes in the bin\n",
    "\n",
    "[kx,ky,kz] = np.zeros((3,Nmesh,Nmesh,Nmesh));\n",
    "\n",
    "for i in range(len(kx)):\n",
    "    kx[i,:,:]+=i-Nmesh/2; ky[:,i,:]+=i-Nmesh/2; kz[:,:,i]+=i-Nmesh/2\n",
    "\n",
    "rk=np.sqrt(kx**2+ky**2+kz**2)\n",
    "sort=(rk).astype(int)\n",
    "\n",
    "rk[nBins,nBins,nBins]=1e10; kx/=rk; ky/=rk; kz/=rk; rk[nBins,nBins,nBins]=0 #rk being zero at the center causes issues so fixed that"
   ]
  },
  {
   "cell_type": "code",
   "execution_count": null,
   "id": "a8e1fca9",
   "metadata": {
    "ExecuteTime": {
     "start_time": "2022-05-01T19:16:38.859Z"
    }
   },
   "outputs": [],
   "source": [
    "# Reading the FFT files for W22 (referred to as W hereafter for brevity) and W10\n",
    "\n",
    "[W, Wxx, Wxy, Wxz, Wyy, Wyz, Wzz, Wxxxx, Wxxxy, Wxxxz, Wxxyy, Wxxyz, Wxxzz, Wxyyy, Wxyyz, Wxyzz,\\\n",
    " Wxzzz, Wyyyy, Wyyyz, Wyyzz, Wyzzz, Wzzzz, W10, W10xx, W10xy, W10xz, W10yy, W10yz, W10zz, W10xxxx,\\\n",
    " W10xxxy, W10xxxz, W10xxyy, W10xxyz, W10xxzz, W10xyyy, W10xyyz, W10xyzz, W10xzzz, W10yyyy, W10yyyz,\\\n",
    " W10yyzz, W10yzzz, W10zzzz] = export\n",
    "\n",
    "W_L0 = W\n",
    "        \n",
    "W_L2=1.5*(Wxx*kx**2+Wyy*ky**2+Wzz*kz**2+2.*Wxy*kx*ky+2.*Wyz*ky*kz+2.*Wxz*kz*kx)-0.5*W\n",
    "        \n",
    "W_L4=35./8.*(Wxxxx*kx**4 +Wyyyy*ky**4+Wzzzz*kz**4 \\\n",
    "     +4.*Wxxxy*kx**3*ky +4.*Wxxxz*kx**3*kz +4.*Wxyyy*ky**3*kx \\\n",
    "     +4.*Wyyyz*ky**3*kz +4.*Wxzzz*kz**3*kx +4.*Wyzzz*kz**3*ky \\\n",
    "     +6.*Wxxyy*kx**2*ky**2+6.*Wxxzz*kx**2*kz**2+6.*Wyyzz*ky**2*kz**2 \\\n",
    "     +12.*Wxxyz*kx**2*ky*kz+12.*Wxyyz*ky**2*kx*kz +12.*Wxyzz*kz**2*kx*ky) \\\n",
    "     -5./2.*W_L2 -7./8.*W_L0\n",
    "\n",
    "W10_L0 = W10\n",
    "        \n",
    "W10_L2=1.5*(W10xx*kx**2+W10yy*ky**2+W10zz*kz**2+2.*W10xy*kx*ky+2.*W10yz*ky*kz+2.*W10xz*kz*kx)-0.5*W10\n",
    "        \n",
    "W10_L4=35./8.*(W10xxxx*kx**4 +W10yyyy*ky**4+W10zzzz*kz**4 \\\n",
    "     +4.*W10xxxy*kx**3*ky +4.*W10xxxz*kx**3*kz +4.*W10xyyy*ky**3*kx \\\n",
    "     +4.*W10yyyz*ky**3*kz +4.*W10xzzz*kz**3*kx +4.*W10yzzz*kz**3*ky \\\n",
    "     +6.*W10xxyy*kx**2*ky**2+6.*W10xxzz*kx**2*kz**2+6.*W10yyzz*ky**2*kz**2 \\\n",
    "     +12.*W10xxyz*kx**2*ky*kz+12.*W10xyyz*ky**2*kx*kz +12.*W10xyzz*kz**2*kx*ky) \\\n",
    "     -5./2.*W10_L2 -7./8.*W10_L0"
   ]
  },
  {
   "cell_type": "code",
   "execution_count": null,
   "id": "ed342443",
   "metadata": {
    "ExecuteTime": {
     "start_time": "2022-05-01T19:16:41.686Z"
    }
   },
   "outputs": [],
   "source": [
    "def PowerCalc(arr):\n",
    "    _=np.zeros(nBins,dtype='<c8')\n",
    "    for i in range(nBins):\n",
    "        ind=(sort==i)\n",
    "        _[i]=np.average(arr[ind])\n",
    "    return(np.real(_))"
   ]
  },
  {
   "cell_type": "code",
   "execution_count": null,
   "id": "1227c2f1",
   "metadata": {
    "ExecuteTime": {
     "start_time": "2022-05-01T19:16:42.012Z"
    }
   },
   "outputs": [],
   "source": [
    "# Using this rough calculation, one can see that shot noise is indeed very small and can be ignored\n",
    "shotNoise = da.sum(randoms['NZ']**3*randoms['WEIGHT_FKP']**4).compute()/(da.sum(randoms['W22']).compute())**2\n",
    "shotNoise"
   ]
  },
  {
   "cell_type": "code",
   "execution_count": null,
   "id": "16c83d5f",
   "metadata": {
    "ExecuteTime": {
     "start_time": "2022-05-01T19:16:45.436Z"
    },
    "scrolled": true
   },
   "outputs": [],
   "source": [
    "P_W=np.zeros((22,nBins))\n",
    "\n",
    "P_W[0]=PowerCalc(rk)*kfun # Mean |k| in the bin\n",
    "\n",
    "P_W[1]=PowerCalc(W_L0*conj(W_L0)) # P00\n",
    "P_W[2]=PowerCalc(W_L0*conj(W_L2))*5 # P02\n",
    "P_W[3]=PowerCalc(W_L0*conj(W_L4))*9 # P04\n",
    "P_W[4]=PowerCalc(W_L2*conj(W_L2))*25 # P22\n",
    "P_W[5]=PowerCalc(W_L2*conj(W_L4))*45 # P24\n",
    "P_W[6]=PowerCalc(W_L4*conj(W_L4))*81 # P44\n",
    "\n",
    "P_W[7]=PowerCalc(W10_L0*conj(W10_L0)) # P00\n",
    "P_W[8]=PowerCalc(W10_L0*conj(W10_L2))*5 # P02\n",
    "P_W[9]=PowerCalc(W10_L0*conj(W10_L4))*9 # P04\n",
    "P_W[10]=PowerCalc(W10_L2*conj(W10_L2))*25 # P22\n",
    "P_W[11]=PowerCalc(W10_L2*conj(W10_L4))*45 # P24\n",
    "P_W[12]=PowerCalc(W10_L4*conj(W10_L4))*81 # P44\n",
    "\n",
    "P_W[13]=PowerCalc(W_L0*conj(W10_L0)) # P00\n",
    "P_W[14]=PowerCalc(W_L0*conj(W10_L2))*5 # P02\n",
    "P_W[15]=PowerCalc(W_L0*conj(W10_L4))*9 # P04\n",
    "P_W[16]=PowerCalc(W_L2*conj(W10_L0))*5 # P20\n",
    "P_W[17]=PowerCalc(W_L2*conj(W10_L2))*25 # P22\n",
    "P_W[18]=PowerCalc(W_L2*conj(W10_L4))*45 # P24\n",
    "P_W[19]=PowerCalc(W_L4*conj(W10_L0))*9 # P40\n",
    "P_W[20]=PowerCalc(W_L4*conj(W10_L2))*45 # P42\n",
    "P_W[21]=PowerCalc(W_L4*conj(W10_L4))*81 # P44\n",
    "\n",
    "\n",
    "P_W[1:7]/=(da.sum(randoms['W22']).compute())**2\n",
    "P_W[7:13]/=(da.sum(randoms['W10']).compute())**2\n",
    "P_W[13:]/=(da.sum(randoms['W10']).compute()*da.sum(randoms['W22']).compute())\n",
    "\n",
    "# Removing shot noise\n",
    "P_W[1] -= shotNoise; P_W[7] -= shotNoise; P_W[13] -= shotNoise\n",
    "\n",
    "# Minor point: setting k=0 modes by hand to avoid spurious values\n",
    "P_W[1:7,0]=[1,0,0,1,0,1]; P_W[7:13,0]=[1,0,0,1,0,1]; P_W[13:,0]=[1,0,0,0,1,0,0,0,1]"
   ]
  },
  {
   "cell_type": "code",
   "execution_count": null,
   "id": "e43a4709",
   "metadata": {
    "ExecuteTime": {
     "start_time": "2022-05-01T19:16:45.973Z"
    }
   },
   "outputs": [],
   "source": [
    "np.save('/data/jayw/NYU/Covariance/Data/Delete/WindowPowers_highz.npy',P_W)"
   ]
  },
  {
   "cell_type": "code",
   "execution_count": null,
   "id": "e4c68ef5",
   "metadata": {},
   "outputs": [],
   "source": []
  }
 ],
 "metadata": {
  "kernelspec": {
   "display_name": "Python [conda env:root] *",
   "language": "python",
   "name": "conda-root-py"
  },
  "language_info": {
   "codemirror_mode": {
    "name": "ipython",
    "version": 3
   },
   "file_extension": ".py",
   "mimetype": "text/x-python",
   "name": "python",
   "nbconvert_exporter": "python",
   "pygments_lexer": "ipython3",
   "version": "3.9.5"
  }
 },
 "nbformat": 4,
 "nbformat_minor": 5
}
