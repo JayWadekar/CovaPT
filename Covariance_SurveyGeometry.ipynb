{
 "cells": [
  {
   "cell_type": "code",
   "execution_count": null,
   "metadata": {},
   "outputs": [],
   "source": [
    "# Code to generate the power spectrum multipoles covariance for an arbitrary survey geometry\n",
    "# Please email me at jayw@ias.edu if there are any issues"
   ]
  },
  {
   "cell_type": "code",
   "execution_count": 1,
   "metadata": {},
   "outputs": [],
   "source": [
    "import scipy, time,sys\n",
    "from scipy.integrate import quad\n",
    "from scipy.interpolate import interp1d\n",
    "from scipy.io import FortranFile\n",
    "import numpy as np\n",
    "from scipy.interpolate import InterpolatedUnivariateSpline\n",
    "from numpy import exp, log, log10, cos, sin, pi, cosh, sinh , sqrt, amin, amax, mean, dot, power, conj\n",
    "import matplotlib\n",
    "from matplotlib import pyplot as plt\n",
    "from scipy.misc import derivative\n",
    "%matplotlib inline\n",
    "\n",
    "sys.path.insert(0, '/Users/jayw/Dropbox/Drop_Acad/Roman/Covariance/Public_CovaPT/detail')\n",
    "import T0"
   ]
  },
  {
   "cell_type": "code",
   "execution_count": 2,
   "metadata": {},
   "outputs": [],
   "source": [
    "# for aesthetic plots\n",
    "font = {'size'   : 14, 'family':'STIXGeneral'}\n",
    "matplotlib.rc('font', **font)\n",
    "matplotlib.rc('axes', labelsize=18) \n",
    "matplotlib.mathtext.rcParams['legend.fontsize']=14\n",
    "plt.rcParams[\"figure.figsize\"] = [6.0,4.]\n",
    "matplotlib.rc('text', usetex=True)"
   ]
  },
  {
   "cell_type": "code",
   "execution_count": 3,
   "metadata": {},
   "outputs": [],
   "source": [
    "# If you want to use my input files in this code, please download them from below and set the directory location:\n",
    "# https://drive.google.com/drive/folders/1bWKfUaIXcC1n-2hk9KtKhqukxTH1379i?usp=sharing\n",
    "\n",
    "dire='/Users/jayw/Documents/Acad/Roman/Covariance/data/Public/'"
   ]
  },
  {
   "cell_type": "markdown",
   "metadata": {},
   "source": [
    "# Gaussian part"
   ]
  },
  {
   "cell_type": "code",
   "execution_count": 4,
   "metadata": {},
   "outputs": [],
   "source": [
    "#Using the window kernels calculated from the survey random catalog as input\n",
    "#See Survey_window_kernels.ipynb for the code to generate these window kernels using the Wij() function\n",
    "# The survey window used throughout this code is BOSS NGC-highZ (0.5<z<0.75)\n",
    "\n",
    "WijFile=np.load(dire+'Wij_k120_HighZ_NGC.npy')"
   ]
  },
  {
   "cell_type": "code",
   "execution_count": 5,
   "metadata": {},
   "outputs": [],
   "source": [
    "# Include here the theory power spectrum best-fitted to the survey data\n",
    "# Currently I'm using here the Patchy output to show the comparison with mock catalogs later\n",
    "\n",
    "k=np.loadtxt(dire+'k_Patchy.dat'); kbins=len(k) #number of k-bins\n",
    "\n",
    "Pfit=[0,0,0,0,0]\n",
    "Pfit[0]=np.loadtxt(dire+'P0_fit_Patchy.dat')\n",
    "Pfit[2]=np.loadtxt(dire+'P2_fit_Patchy.dat')\n",
    "Pfit[4]=np.loadtxt(dire+'P4_fit_Patchy.dat')\n",
    "\n",
    "#Hexadecapole has little contribution so, if not fitted, once can use linear theory + Kaiser as a good approximation"
   ]
  },
  {
   "cell_type": "code",
   "execution_count": 6,
   "metadata": {},
   "outputs": [],
   "source": [
    "# For generating individual elements of the covariance matrix\n",
    "# see Survey_window_kernels.ipynb for further details where the same function is used\n",
    "\n",
    "def Cij(kt,Wij):\n",
    "    temp=np.zeros((7,6));\n",
    "    for i in range(-3,4):\n",
    "        if(kt+i<0 or kt+i>=kbins):\n",
    "            temp[i+3]=0.\n",
    "            continue\n",
    "        temp[i+3]=Wij[i+3,0]*Pfit[0][kt]*Pfit[0][kt+i]+\\\n",
    "        Wij[i+3,1]*Pfit[0][kt]*Pfit[2][kt+i]+\\\n",
    "        Wij[i+3,2]*Pfit[0][kt]*Pfit[4][kt+i]+\\\n",
    "        Wij[i+3,3]*Pfit[2][kt]*Pfit[0][kt+i]+\\\n",
    "        Wij[i+3,4]*Pfit[2][kt]*Pfit[2][kt+i]+\\\n",
    "        Wij[i+3,5]*Pfit[2][kt]*Pfit[4][kt+i]+\\\n",
    "        Wij[i+3,6]*Pfit[4][kt]*Pfit[0][kt+i]+\\\n",
    "        Wij[i+3,7]*Pfit[4][kt]*Pfit[2][kt+i]+\\\n",
    "        Wij[i+3,8]*Pfit[4][kt]*Pfit[4][kt+i]+\\\n",
    "        1.01*(Wij[i+3,9]*(Pfit[0][kt]+Pfit[0][kt+i])/2.+\\\n",
    "        Wij[i+3,10]*Pfit[2][kt]+Wij[i+3,11]*Pfit[4][kt]+\\\n",
    "        Wij[i+3,12]*Pfit[2][kt+i]+Wij[i+3,13]*Pfit[4][kt+i])+\\\n",
    "        1.01**2*Wij[i+3,14]\n",
    "    return(temp)"
   ]
  },
  {
   "cell_type": "code",
   "execution_count": 7,
   "metadata": {},
   "outputs": [],
   "source": [
    "# Returns the full (Monopole+Quadrupole) Gaussian covariance matrix\n",
    "def CovMatGauss():\n",
    "    covMat=np.zeros((2*kbins,2*kbins))\n",
    "    for i in range(kbins):\n",
    "        temp=Cij(i,WijFile[i])\n",
    "        C00=temp[:,0]; C22=temp[:,1]; C20=temp[:,3];\n",
    "        for j in range(-3,4):\n",
    "            if(i+j>=0 and i+j<kbins):\n",
    "                covMat[i,i+j]=C00[j+3]\n",
    "                covMat[kbins+i,kbins+i+j]=C22[j+3]\n",
    "                covMat[kbins+i,i+j]=C20[j+3]\n",
    "    covMat[:kbins,kbins:kbins*2]=np.transpose(covMat[kbins:kbins*2,:kbins])\n",
    "    covMat=(covMat+np.transpose(covMat))/2.\n",
    "    return(covMat)"
   ]
  },
  {
   "cell_type": "markdown",
   "metadata": {},
   "source": [
    "# Non-Gaussian part"
   ]
  },
  {
   "cell_type": "code",
   "execution_count": 8,
   "metadata": {},
   "outputs": [],
   "source": [
    "# Growth factor and growth rate for LCDM case\n",
    "def Dz(z,Om0):\n",
    "    return(scipy.special.hyp2f1(1/3., 1, 11/6., (1-1/Om0)/(1+z)**3)\n",
    "                                /scipy.special.hyp2f1(1/3., 1, 11/6., 1-1/Om0)/(1+z))\n",
    "\n",
    "def fgrowth(z,Om0):\n",
    "    return(1. + 6*(Om0-1)*scipy.special.hyp2f1(4/3., 2, 17/6., (1-1/Om0)/(1+z)**3)\n",
    "                  /( 11*Om0*(1+z)**3*scipy.special.hyp2f1(1/3., 1, 11/6., (1-1/Om0)/(1+z)**3) ))"
   ]
  },
  {
   "cell_type": "code",
   "execution_count": 36,
   "metadata": {},
   "outputs": [],
   "source": [
    "# Enter Omega_m and z values\n",
    "Om = 0.307115\n",
    "z = 0.58 #mean redshift of the high-Z chunk\n",
    "\n",
    "# Enter bias parameter values\n",
    "\n",
    "b1 = 1.94853182918671; #Linear bias\n",
    "be = fgrowth(z, Om)/b1; #beta = f/b1, zero for real space\n",
    "\n",
    "# Below are expressions for non-local bias (g_i) from local lagrangian approximation\n",
    "# and non-linear bias (b_i) from peak-background split fit of \n",
    "# Lazyeras et al. 2016 (rescaled using Appendix C.2 of arXiv:1812.03208),\n",
    "# which could used if those parameters aren't constrained.\n",
    "\n",
    "g2 = -2/7*(b1 - 1)\n",
    "g3 = 11/63*(b1 - 1);\n",
    "b2 = 0.412 - 2.143*b1 + 0.929*b1**2 + 0.008*b1**3 + 4/3*g2 \n",
    "g2x = -2/7*b2;\n",
    "g21 = -22/147*(b1 - 1);\n",
    "b3 = -1.028 + 7.646*b1 - 6.227*b1**2 + 0.912*b1**3 + 4*g2x - 4/3*g3 - 8/3*g21 - 32/21*g2\n",
    "\n",
    "# initializing bias parameters for trispectrum\n",
    "T0.InitParameters([b1,be,g2,b2,g3,g2x,g21,b3])"
   ]
  },
  {
   "cell_type": "code",
   "execution_count": 37,
   "metadata": {},
   "outputs": [],
   "source": [
    "# The following parameters are calculated from the survey random catalog using the file './detail/Survey_Window_FFTs.ipynb'\n",
    "# Using Iij convention in Eq.(3) \n",
    "alpha = 0.02; \n",
    "i22 = 437.183*alpha; i11 = 7055074.158*alpha; i12 = 2683240.5*alpha;\n",
    "i10 = 22768148*alpha; i24 = 55.5603*alpha; \n",
    "i14 = 707862.1*alpha; i34 = 8.641723e-3*alpha;\n",
    "i44 = 2.08789e-6*alpha; i32 = 0.1134124*alpha;\n",
    "i12oi22 = 2683240.5/437.183; #Effective shot noise"
   ]
  },
  {
   "cell_type": "code",
   "execution_count": 38,
   "metadata": {},
   "outputs": [],
   "source": [
    "# Linear power spectrum from Class or CAMB\n",
    "# Note that Plin used in code already has factors of b1 and Dz\n",
    "pdata=np.loadtxt(dire+'Pk_lin_CAMB.dat')\n",
    "Plin=InterpolatedUnivariateSpline(pdata[:,0], Dz(z, Om)**2*b1**2*pdata[:,1])\n",
    "\n",
    "# Derivatives of the linear power spectrum\n",
    "dlnPk=derivative(Plin,k,dx=1e-4)*k/Plin(k)"
   ]
  },
  {
   "cell_type": "code",
   "execution_count": 39,
   "metadata": {},
   "outputs": [],
   "source": [
    "# Kaiser terms\n",
    "\n",
    "rsd=np.zeros(5)\n",
    "rsd[0]=1 + (2*be)/3 + be**2/5\n",
    "rsd[2]=(4*be)/3 + (4*be**2)/7\n",
    "rsd[4]=(8*be**2)/35"
   ]
  },
  {
   "cell_type": "code",
   "execution_count": 40,
   "metadata": {},
   "outputs": [],
   "source": [
    "def trispIntegrand(u12,k1,k2):\n",
    "    return( (8*i44*(Plin(k1)**2*T0.e44o44_1(u12,k1,k2) + Plin(k2)**2*T0.e44o44_1(u12,k2,k1))\n",
    "            +16*i44*Plin(k1)*Plin(k2)*T0.e44o44_2(u12,k1,k2)\n",
    "             +8*i34*(Plin(k1)*T0.e34o44_2(u12,k1,k2)+Plin(k2)*T0.e34o44_2(u12,k2,k1))\n",
    "            +2*i24*T0.e24o44(u12,k1,k2))\n",
    "            *Plin(np.sqrt(k1**2+k2**2+2*k1*k2*u12)) )"
   ]
  },
  {
   "cell_type": "code",
   "execution_count": 41,
   "metadata": {},
   "outputs": [],
   "source": [
    "# Returns the tree-level trispectrum as a function of multipoles and k1, k2\n",
    "\n",
    "def trisp(l1,l2,k1,k2):\n",
    "    T0.l1=l1; T0.l2=l2\n",
    "    expr = i44*(Plin(k1)**2*Plin(k2)*T0.ez3(k1,k2) + Plin(k2)**2*Plin(k1)*T0.ez3(k2,k1))\\\n",
    "           +8*i34*Plin(k1)*Plin(k2)*T0.e34o44_1(k1,k2)\n",
    "\n",
    "    temp = (quad(trispIntegrand, -1, 1,args=(k1,k2))[0]/2. + expr)/i22**2\n",
    "    return(temp)\n",
    "\n",
    "trisp = np.vectorize(trisp)"
   ]
  },
  {
   "cell_type": "code",
   "execution_count": 42,
   "metadata": {},
   "outputs": [],
   "source": [
    "# Using the Z12 kernel which is defined in Eq. (A9) (equations copy-pasted from Generating_T0_Z12_expressions.nb)\n",
    "\n",
    "def Z12Kernel(l,mu,dlnpk):\n",
    "    if(l==0):\n",
    "        exp=(7*b1**2*be*(70 + 42*be + (-35*(-3 + dlnpk) + 3*be*(28 + 13*be - 14*dlnpk - 5*be*dlnpk))*mu**2) + \n",
    "            b1*(35*(47 - 7*dlnpk) + be*(798 + 153*be - 98*dlnpk - 21*be*dlnpk + \n",
    "            4*(84 + be*(48 - 21*dlnpk) - 49*dlnpk)*mu**2)) + \n",
    "            98*(5*b2*(3 + be) + 4*g2*(-5 + be*(-2 + mu**2))))/(735.*b1**2)\n",
    "    elif(l==2):\n",
    "        exp=(14*b1**2*be*(14 + 12*be + (2*be*(12 + 7*be) - (1 + be)*(7 + 5*be)*dlnpk)*mu**2) + \n",
    "            b1*(4*be*(69 + 19*be) - 7*be*(2 + be)*dlnpk + \n",
    "            (24*be*(11 + 6*be) - 7*(21 + be*(22 + 9*be))*dlnpk)*mu**2 + 7*(-8 + 7*dlnpk + 24*mu**2)) + \n",
    "            28*(7*b2*be + g2*(-7 - 13*be + (21 + 11*be)*mu**2)))/(147.*b1**2)\n",
    "    elif(l==4):\n",
    "        exp=(8*be*(b1*(-132 + 77*dlnpk + be*(23 + 154*b1 + 14*dlnpk)) - 154*g2 + \n",
    "            (b1*(396 - 231*dlnpk + be*(272 + 308*b1 + 343*b1*be - 7*(17 + b1*(22 + 15*be))*dlnpk)) + \n",
    "            462*g2)*mu**2))/(2695.*b1**2)\n",
    "    return(exp)"
   ]
  },
  {
   "cell_type": "code",
   "execution_count": 43,
   "metadata": {},
   "outputs": [],
   "source": [
    "# Legendre polynomials\n",
    "def lp(l,mu):\n",
    "    if (l==0): exp=1\n",
    "    if (l==2): exp=((3*mu**2 - 1)/2.)\n",
    "    if (l==4): exp=((35*mu**4 - 30*mu**2 + 3)/8.)\n",
    "    return(exp)"
   ]
  },
  {
   "cell_type": "code",
   "execution_count": 59,
   "metadata": {},
   "outputs": [],
   "source": [
    "# Loading window power spectra calculated from the survey random catalog\n",
    "# These are needed to calculate the sigma^2 terms below\n",
    "\n",
    "# Columns are k P00 P02 P04 P22 P24 P44 | P00 P02 P04 P22 P24 P44 | P00 P02 P04 P20 P22 P24 P40 P42 P44\n",
    "# First section of these is for W22, second for W10 and third for W22xW10\n",
    "\n",
    "# See the second part of the file './detail/Survey_Window_FFTs.ipynb' for the code to generate these power spectra\n",
    "\n",
    "_=np.load(dire+'WindowPowers_highz.npy')\n",
    "kwin = _[0]; powW22 = _[1:7]; powW10 = _[7:13]; powW22x10 = _[13:]"
   ]
  },
  {
   "cell_type": "code",
   "execution_count": 60,
   "metadata": {},
   "outputs": [],
   "source": [
    "# For transforming the linear array used in the next cell to a matrix\n",
    "def MatrixForm(a):\n",
    "    b=np.zeros((3,3))\n",
    "    if len(a)==6:\n",
    "        b[0,0]=a[0]; b[1,0]=b[0,1]=a[1]; \n",
    "        b[2,0]=b[0,2]=a[2]; b[1,1]=a[3];\n",
    "        b[2,1]=b[1,2]=a[4]; b[2,2]=a[5];\n",
    "    if len(a)==9:\n",
    "        b[0,0]=a[0]; b[0,1]=a[1]; b[0,2]=a[2]; \n",
    "        b[1,0]=a[3]; b[1,1]=a[4]; b[1,2]=a[5];\n",
    "        b[2,0]=a[6]; b[2,1]=a[7]; b[2,2]=a[8];\n",
    "    return(b)"
   ]
  },
  {
   "cell_type": "code",
   "execution_count": 61,
   "metadata": {},
   "outputs": [],
   "source": [
    "# Calculating the RMS fluctuations of supersurvey modes \n",
    "#(e.g., sigma22Sq which was defined in Eq. (33) and later calculated in Eq.(65)\n",
    "\n",
    "[temp,temp2]=np.zeros((2,6)); temp3 = np.zeros(9)\n",
    "\n",
    "for i in range(9):\n",
    "    Pwin=InterpolatedUnivariateSpline(kwin, powW22x10[i])\n",
    "    temp3[i]=quad(lambda q: q**2*Plin(q)*Pwin(q)/2/pi**2, 0, kwin[-1])[0]\n",
    "    \n",
    "    if(i<6):\n",
    "        Pwin=InterpolatedUnivariateSpline(kwin, powW22[i])\n",
    "        temp[i]=quad(lambda q: q**2*Plin(q)*Pwin(q)/2/pi**2, 0, kwin[-1])[0]\n",
    "        Pwin=InterpolatedUnivariateSpline(kwin, powW10[i])\n",
    "        temp2[i]=quad(lambda q: q**2*Plin(q)*Pwin(q)/2/pi**2, 0, kwin[-1])[0]\n",
    "    else:\n",
    "        continue\n",
    "    \n",
    "sigma22Sq = MatrixForm(temp); sigma10Sq = MatrixForm(temp2); sigma22x10 = MatrixForm(temp3)"
   ]
  },
  {
   "cell_type": "code",
   "execution_count": 64,
   "metadata": {},
   "outputs": [],
   "source": [
    "# Calculating multipoles of the Z12 kernel\n",
    "def Z12Multipoles(i,l,dlnpk):\n",
    "    return(quad(lambda mu: lp(i,mu)*Z12Kernel(l,mu,dlnpk), -1, 1)[0])\n",
    "\n",
    "Z12Multipoles = np.vectorize(Z12Multipoles)\n",
    "\n",
    "# Terms used in the LA calculation\n",
    "covaLAterm=np.zeros((3,len(k)))\n",
    "for l in range(3):\n",
    "    for i in range(3):\n",
    "        for j in range(3):\n",
    "            covaLAterm[l]+=1/4.*sigma22x10[i,j]*Z12Multipoles(2*i,2*l,dlnPk)\\\n",
    "            *quad(lambda mu: lp(2*j,mu)*(1 + be*mu**2), -1, 1)[0]"
   ]
  },
  {
   "cell_type": "code",
   "execution_count": 65,
   "metadata": {},
   "outputs": [],
   "source": [
    "# Returns the SSC covariance matrix contrbution\n",
    "# BC= beat-coupling, LA= local average effect, SSC= super sample covariance\n",
    "\n",
    "def covaSSC(l1,l2):\n",
    "    covaBC=np.zeros((len(k),len(k)))\n",
    "    for i in range(3):\n",
    "        for j in range(3):\n",
    "            covaBC+=1/4.*sigma22Sq[i,j]*np.outer(Plin(k)*Z12Multipoles(2*i,l1,dlnPk),Plin(k)*Z12Multipoles(2*j,l2,dlnPk))\n",
    "            sigma10Sq[i,j]=1/4.*sigma10Sq[i,j]*quad(lambda mu: lp(2*i,mu)*(1 + be*mu**2), -1, 1)[0]\\\n",
    "            *quad(lambda mu: lp(2*j,mu)*(1 + be*mu**2), -1, 1)[0]\n",
    "\n",
    "    covaLA=-rsd[l2]*np.outer(Plin(k)*(covaLAterm[int(l1/2)]+i32/i22/i10*rsd[l1]*Plin(k)*b2/b1**2+2/i10*rsd[l1]),Plin(k))\\\n",
    "           -rsd[l1]*np.outer(Plin(k),Plin(k)*(covaLAterm[int(l2/2)]+i32/i22/i10*rsd[l2]*Plin(k)*b2/b1**2+2/i10*rsd[l2]))\\\n",
    "           +(np.sum(sigma10Sq)+1/i10)*rsd[l1]*rsd[l2]*np.outer(Plin(k),Plin(k))\n",
    "\n",
    "    return(covaBC+covaLA)"
   ]
  },
  {
   "cell_type": "code",
   "execution_count": 66,
   "metadata": {},
   "outputs": [],
   "source": [
    "# For making plots of a row of the covariance\n",
    "it=15; # row index\n",
    "l1=2; l2=2 # multipoles\n",
    "plotTrisp=trisp(2,2,k[it],k)/(Pfit[0][i]*Pfit[0])\n",
    "plotSSC=covaSSC(2,2)[it]/(Pfit[0][i]*Pfit[0])\n",
    "plotG=CovMatGauss()[it+kbins,kbins:]/(Pfit[0][i]*Pfit[0]) #appropriate bins corresponding to multipoles\n",
    "total=plotSSC+plotTrisp+plotG"
   ]
  },
  {
   "cell_type": "code",
   "execution_count": 67,
   "metadata": {},
   "outputs": [
    {
     "data": {
      "text/plain": [
       "Text(0, 0.5, '$C_{22}$(0.08,$k)/P_0(0.08)P_0(k)$')"
      ]
     },
     "execution_count": 67,
     "metadata": {},
     "output_type": "execute_result"
    },
    {
     "data": {
      "image/png": "[encoded data removed]",
      "text/plain": [
       "<Figure size 432x288 with 1 Axes>"
      ]
     },
     "metadata": {
      "needs_background": "light"
     },
     "output_type": "display_data"
    }
   ],
   "source": [
    "# Plot showing different contributions to covariance\n",
    "plt.grid(b=True, which='major', color='#999999', linestyle='--',alpha=0.4)\n",
    "plt.semilogy(k,plotG, '--')\n",
    "plt.semilogy(k,plotSSC, '--')\n",
    "plt.semilogy(k,plotTrisp, '--')\n",
    "plt.semilogy(k,total)\n",
    "plt.legend(['Gaussian','SSC','$T_0$','Total'], loc=1)\n",
    "plt.xlabel(r\"$k$  [h/Mpc]\"); \n",
    "plt.ylabel(r\"$C_{22}$(\"+str(round(k[it],2))+\",$k)/P_0(\"+str(round(k[it],2))+\")P_0(k)$\")"
   ]
  },
  {
   "cell_type": "code",
   "execution_count": 26,
   "metadata": {},
   "outputs": [],
   "source": [
    "# Constructing multipole covariance\n",
    "# Warning: the trispectrum takes a while to run\n",
    "\n",
    "covaT0mult=np.zeros((2*kbins,2*kbins))\n",
    "for i in range(len(k)):\n",
    "    covaT0mult[i,:kbins]=trisp(0,0,k[i],k)\n",
    "    covaT0mult[i,kbins:]=trisp(0,2,k[i],k)\n",
    "    covaT0mult[kbins+i,kbins:]=trisp(2,2,k[i],k)\n",
    "\n",
    "covaT0mult[kbins:,:kbins]=np.transpose(covaT0mult[:kbins,kbins:])\n",
    "\n",
    "covaSSCmult=np.zeros((2*kbins,2*kbins))\n",
    "covaSSCmult[:kbins,:kbins]=covaSSC(0,0)\n",
    "covaSSCmult[kbins:,kbins:]=covaSSC(2,2)\n",
    "covaSSCmult[:kbins,kbins:]=covaSSC(0,2); covaSSCmult[kbins:,:kbins]=np.transpose(covaSSCmult[:kbins,kbins:])\n",
    "\n",
    "covaNG=covaT0mult+covaSSCmult"
   ]
  },
  {
   "cell_type": "markdown",
   "metadata": {},
   "source": [
    "# Comparison with Patchy mocks"
   ]
  },
  {
   "cell_type": "code",
   "execution_count": null,
   "metadata": {},
   "outputs": [],
   "source": [
    "# Will compare the results to Patchy mocks in this section\n",
    "\n",
    "# Note that for the non-Gaussian (NG) part is calculated for non-local and non-linear bias\n",
    "# parameters from the PBS and LL relations as written earlier. These parameters have not \n",
    "# been measured for Patchy mocks, so the comparison is currently a bit approximate"
   ]
  },
  {
   "cell_type": "code",
   "execution_count": 27,
   "metadata": {},
   "outputs": [],
   "source": [
    "# Loading the Patchy covariance matrix for comparison\n",
    "# This file also has hexadecapole (Format: [L0 L2 L4] X [L0 L2 L4]) but I'm only using upto quadrupole\n",
    "CovaPatchy=np.loadtxt(dire+'Patchy_CovarianceMatrix.dat')[:100,:100]"
   ]
  },
  {
   "cell_type": "code",
   "execution_count": 28,
   "metadata": {},
   "outputs": [],
   "source": [
    "# Adding the analytic multipole Gauss + NG contributions\n",
    "\n",
    "covaG=CovMatGauss()\n",
    "covaAnl=covaG+covaNG\n",
    "\n",
    "# The NG part can also be loaded from an input file\n",
    "# This file also has hexadecapole (Format: [L0 L2 L4] X [L0 L2 L4]) but I'm only using upto quadrupole\n",
    "# covaNG=np.load(dire+'CovaNG_HighZ_NGC_k0.25_3x3.npy')[:100,:100]"
   ]
  },
  {
   "cell_type": "code",
   "execution_count": 29,
   "metadata": {},
   "outputs": [],
   "source": [
    "# For making plots comparing the diagonal elements\n",
    "\n",
    "[plot,plot2,plot3,plot4,plot5,plot6]=np.zeros((6,kbins))\n",
    "for i in range(kbins):\n",
    "    plot[i]=CovaPatchy[i,i]/(Pfit[0][i]*Pfit[0][i])\n",
    "    plot2[i]=covaAnl[i,i]/(Pfit[0][i]*Pfit[0][i])\n",
    "    plot3[i]=CovaPatchy[kbins+i,kbins+i]/(Pfit[0][i]*Pfit[0][i])\n",
    "    plot4[i]=covaAnl[kbins+i,kbins+i]/(Pfit[0][i]*Pfit[0][i])\n",
    "    plot5[i]=CovaPatchy[kbins+i,i]/(Pfit[0][i]*Pfit[0][i])\n",
    "    plot6[i]=covaAnl[kbins+i,i]/(Pfit[0][i]*Pfit[0][i])"
   ]
  },
  {
   "cell_type": "code",
   "execution_count": 33,
   "metadata": {},
   "outputs": [
    {
     "data": {
      "text/plain": [
       "<matplotlib.legend.Legend at 0x7ff42d349c10>"
      ]
     },
     "execution_count": 33,
     "metadata": {},
     "output_type": "execute_result"
    },
    {
     "data": {
      "image/png": "[encoded data removed]",
      "text/plain": [
       "<Figure size 432x288 with 1 Axes>"
      ]
     },
     "metadata": {
      "needs_background": "light"
     },
     "output_type": "display_data"
    }
   ],
   "source": [
    "plt.semilogy(k,plot);\n",
    "plt.semilogy(k,plot2, ls='dashed');\n",
    "plt.xlabel(r'$k$ (h/Mpc)'); plt.ylabel(r'$C_{00}(k,k)/P_0 (k) P_0(k)$')\n",
    "plt.legend([\"Patchy\",\"Analytic\"], loc=1)\n",
    "# The first few bins don't matter for a RSD analysis as the S/N in them is too low. If needed, the covariance for \n",
    "# this case can  be improved upon adding more terms in the analytic expressions"
   ]
  },
  {
   "cell_type": "code",
   "execution_count": 34,
   "metadata": {
    "scrolled": true
   },
   "outputs": [
    {
     "data": {
      "text/plain": [
       "<matplotlib.legend.Legend at 0x7ff42d161fd0>"
      ]
     },
     "execution_count": 34,
     "metadata": {},
     "output_type": "execute_result"
    },
    {
     "data": {
      "image/png": "[encoded data removed]",
      "text/plain": [
       "<Figure size 432x288 with 1 Axes>"
      ]
     },
     "metadata": {
      "needs_background": "light"
     },
     "output_type": "display_data"
    }
   ],
   "source": [
    "plt.semilogy(k,plot3);\n",
    "plt.semilogy(k,plot4, ls='dashed');\n",
    "plt.xlabel(r'$k$ (h/Mpc)'); plt.ylabel(r'$C_{22}(k,k)/P_0 (k) P_0(k)$')\n",
    "plt.legend([\"Patchy\",\"Analytic\"], loc=1)"
   ]
  },
  {
   "cell_type": "code",
   "execution_count": 35,
   "metadata": {},
   "outputs": [
    {
     "data": {
      "text/plain": [
       "<matplotlib.legend.Legend at 0x7ff42d698970>"
      ]
     },
     "execution_count": 35,
     "metadata": {},
     "output_type": "execute_result"
    },
    {
     "data": {
      "image/png": "[encoded data removed]",
      "text/plain": [
       "<Figure size 432x288 with 1 Axes>"
      ]
     },
     "metadata": {
      "needs_background": "light"
     },
     "output_type": "display_data"
    }
   ],
   "source": [
    "plt.semilogy(k,plot5);\n",
    "plt.semilogy(k,plot6, ls='dashed');\n",
    "plt.xlabel(r'$k$ (h/Mpc)'); plt.ylabel(r'$C_{02}(k,k)/P_0 (k) P_0(k)$')\n",
    "plt.legend([\"Patchy\",\"Analytic\"], loc=1)"
   ]
  },
  {
   "cell_type": "code",
   "execution_count": null,
   "metadata": {},
   "outputs": [],
   "source": []
  },
  {
   "cell_type": "code",
   "execution_count": null,
   "metadata": {},
   "outputs": [],
   "source": []
  }
 ],
 "metadata": {
  "kernelspec": {
   "display_name": "Python 3 (ipykernel)",
   "language": "python",
   "name": "python3"
  },
  "language_info": {
   "codemirror_mode": {
    "name": "ipython",
    "version": 3
   },
   "file_extension": ".py",
   "mimetype": "text/x-python",
   "name": "python",
   "nbconvert_exporter": "python",
   "pygments_lexer": "ipython3",
   "version": "3.9.5"
  }
 },
 "nbformat": 4,
 "nbformat_minor": 4
}
