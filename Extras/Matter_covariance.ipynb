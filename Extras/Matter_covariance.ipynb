{
 "cells": [
  {
   "cell_type": "code",
   "execution_count": null,
   "metadata": {},
   "outputs": [],
   "source": [
    "# This notebook has been adapted from 'Covariance_BoxGeometry.ipynb' to compute\n",
    "# results for matter power spectrum covariance instead of galaxies\n",
    "\n",
    "# Computes non-linear Gaussian covariance + tree-level trispectrum\n",
    "\n",
    "# Cells where inputs should be specified are labelled as #INPUT"
   ]
  },
  {
   "cell_type": "code",
   "execution_count": 1,
   "metadata": {},
   "outputs": [],
   "source": [
    "import scipy, time, sys\n",
    "from scipy.fftpack import fft2, fftn, ifftn\n",
    "from scipy.special import hyp2f1\n",
    "from scipy.integrate import quad\n",
    "from scipy.interpolate import InterpolatedUnivariateSpline\n",
    "from scipy.integrate import quad, tplquad\n",
    "from scipy.misc import derivative\n",
    "import numpy as np\n",
    "from numpy import exp, log, log10, cos, sin, pi, cosh, sinh , sqrt, amin, amax, mean\n",
    "import matplotlib\n",
    "from matplotlib import pyplot as plt\n",
    "%matplotlib inline\n",
    "\n",
    "sys.path.insert(0, '/Users/jayw/Dropbox/Drop_Acad/Roman/Covariance/Public_CovaPT/detail')\n",
    "import T0"
   ]
  },
  {
   "cell_type": "code",
   "execution_count": 2,
   "metadata": {},
   "outputs": [],
   "source": [
    "# Aesthetic definitions for the plots\n",
    "font = {'size'   : 14, 'family':'STIXGeneral'}\n",
    "matplotlib.rc('font', **font)\n",
    "matplotlib.rc('axes', labelsize=18) \n",
    "matplotlib.mathtext.rcParams['legend.fontsize']=16\n",
    "plt.rcParams[\"figure.figsize\"] = [6.0,4.]\n",
    "\n",
    "#matplotlib.rc('font',**{'family':'serif','serif':['Palatino']})\n",
    "matplotlib.rc('text', usetex=True)"
   ]
  },
  {
   "cell_type": "code",
   "execution_count": 3,
   "metadata": {},
   "outputs": [],
   "source": [
    "# If you want to use my input files in this code, please download them from below and set the directory location:\n",
    "# https://drive.google.com/drive/folders/1bWKfUaIXcC1n-2hk9KtKhqukxTH1379i?usp=sharing\n",
    "\n",
    "dire='/Users/jayw/Dropbox/Drop_Acad/Roman/Covariance/data/Public/'"
   ]
  },
  {
   "cell_type": "code",
   "execution_count": 4,
   "metadata": {},
   "outputs": [],
   "source": [
    "#INPUT\n",
    "\n",
    "# array of k-values\n",
    "dk=0.005 #Bin width\n",
    "k=np.arange(0.005,0.25,dk); #k contains the bin centers\n",
    "kbins=len(k) #number of k-bins\n",
    "\n",
    "Lbox = 650 #Mpc/h\n",
    "vol = Lbox**3 #Volume of box/survey\n",
    "\n",
    "#inbar = Lbox**3/158262. #Inverse of galaxy number density\n",
    "inbar=0;\n",
    "\n",
    "Nmodes = vol/3/(2*pi**2)*( (k+dk/2)**3-(k-dk/2)**3) #Number of k-modes in shells"
   ]
  },
  {
   "cell_type": "code",
   "execution_count": 5,
   "metadata": {},
   "outputs": [],
   "source": [
    "# Growth factor and growth rate for LCDM case\n",
    "def Dz(z,Om0):\n",
    "    return(scipy.special.hyp2f1(1/3., 1, 11/6., (1-1/Om0)/(1+z)**3)\n",
    "                                /scipy.special.hyp2f1(1/3., 1, 11/6., 1-1/Om0)/(1+z))\n",
    "\n",
    "def fgrowth(z,Om0):\n",
    "    return(1. + 6*(Om0-1)*scipy.special.hyp2f1(4/3., 2, 17/6., (1-1/Om0)/(1+z)**3)\n",
    "                  /( 11*Om0*(1+z)**3*scipy.special.hyp2f1(1/3., 1, 11/6., (1-1/Om0)/(1+z)**3) ))"
   ]
  },
  {
   "cell_type": "code",
   "execution_count": 6,
   "metadata": {},
   "outputs": [],
   "source": [
    "#INPUT\n",
    "\n",
    "# Enter Omega_m and z values\n",
    "Om = 0.307115\n",
    "z = 0.\n",
    "\n",
    "# Enter bias parameter values\n",
    "\n",
    "b1 = 1; #Linear bias\n",
    "be = 0; #beta = f/b1, zero for real space\n",
    "\n",
    "\n",
    "#All non-linear and non-local parameters are zero for matter case\n",
    "g2 = 0\n",
    "g3 = 0;\n",
    "b2 = 0 \n",
    "g2x = 0;\n",
    "g21 = 0;\n",
    "b3 = 0\n",
    "\n",
    "#Initializing the trispectrum code with the bias params\n",
    "T0.InitParameters([b1,be,g2,b2,g3,g2x,g21,b3])"
   ]
  },
  {
   "cell_type": "code",
   "execution_count": 7,
   "metadata": {},
   "outputs": [],
   "source": [
    "#INPUT\n",
    "\n",
    "# Linear power spectrum from Class or CAMB\n",
    "# Note that Plin used in code has factors of b1 and Dz\n",
    "pdata=np.loadtxt(dire+'Pk_lin_CAMB.dat')\n",
    "Plin=InterpolatedUnivariateSpline(pdata[:,0], Dz(z, Om)**2*b1**2*pdata[:,1])"
   ]
  },
  {
   "cell_type": "code",
   "execution_count": 8,
   "metadata": {},
   "outputs": [
    {
     "data": {
      "text/plain": [
       "Text(0, 0.5, '$b_1^2\\\\ D(z)^2\\\\ P_\\\\mathrm{lin}(k)$')"
      ]
     },
     "execution_count": 8,
     "metadata": {},
     "output_type": "execute_result"
    },
    {
     "data": {
      "image/png": "[encoded data removed]",
      "text/plain": [
       "<Figure size 432x288 with 1 Axes>"
      ]
     },
     "metadata": {
      "needs_background": "light"
     },
     "output_type": "display_data"
    }
   ],
   "source": [
    "plt.semilogy(k,Plin(k))\n",
    "plt.xlabel(r\"$k$  [h/Mpc]\"); plt.ylabel(r\"$b_1^2\\ D(z)^2\\ P_\\mathrm{lin}(k)$\")"
   ]
  },
  {
   "cell_type": "markdown",
   "metadata": {},
   "source": [
    "# Real Space"
   ]
  },
  {
   "cell_type": "code",
   "execution_count": 9,
   "metadata": {},
   "outputs": [],
   "source": [
    "#Best-fit theory power fitted to survey data (currently used same as Plin)\n",
    "\n",
    "#Pfit=InterpolatedUnivariateSpline(pdata[:,0], pdata[:,1])\n",
    "Pfit= lambda k: Plin(k)"
   ]
  },
  {
   "cell_type": "code",
   "execution_count": 10,
   "metadata": {},
   "outputs": [],
   "source": [
    "CovGaussian=4/3.*(Pfit(k) + inbar)**2/Nmodes"
   ]
  },
  {
   "cell_type": "code",
   "execution_count": 11,
   "metadata": {
    "scrolled": false
   },
   "outputs": [
    {
     "data": {
      "text/plain": [
       "Text(0, 0.5, '$[C_\\\\mathrm{Gauss}(k,k)/P(k)^2]^{1/2}$')"
      ]
     },
     "execution_count": 11,
     "metadata": {},
     "output_type": "execute_result"
    },
    {
     "data": {
      "image/png": "[encoded data removed]",
      "text/plain": [
       "<Figure size 432x288 with 1 Axes>"
      ]
     },
     "metadata": {
      "needs_background": "light"
     },
     "output_type": "display_data"
    }
   ],
   "source": [
    "#Plotting diagonal elements of the Gaussian covariance matrix\n",
    "plt.plot(k,np.sqrt(CovGaussian/(Plin(k)**2)))\n",
    "plt.xlabel(r\"$k$  [h/Mpc]\"); plt.ylabel(r\"$[C_\\mathrm{Gauss}(k,k)/P(k)^2]^{1/2}$\")"
   ]
  },
  {
   "cell_type": "code",
   "execution_count": 12,
   "metadata": {},
   "outputs": [],
   "source": [
    "# Now calculating terms for the regular trispectrum (tree-level) part\n",
    "\n",
    "# Let us first focus on the trispectrum terms, the expressions below are taken from \n",
    "# the mathematica notebook (Generating_T0_Z12_expressions.nb)\n",
    "# which shows their derivation\n",
    "\n",
    "# First Z1 Z1 Z2 shot noise term in Eq. 91\n",
    "def e34o44_1(k1,k2):\n",
    "    expr = ((34/(21.*b1) + b2/b1**2 - (4*g2)/(3.*b1**2))/2.)\n",
    "    return(expr)\n",
    "\n",
    "# Second Z1 Z1 Z2 shot noise term in Eq. 91\n",
    "def e34o44_2(u12,k1,k2):\n",
    "    return((7*b2 + (k2**2*(-7*b1*k2*u12 + b1*k1*(3 - 10*u12**2) + 14*g2*k1*(-1 + u12**2)))\n",
    "           /(k1*(k1**2 + k2**2 + 2*k1*k2*u12)))/(14.*b1**2))\n",
    "\n",
    "# First Z1^2 Z2^2 term in Eq. 25\n",
    "def e44o44_1(u12,k1,k2):\n",
    "    return((7*b2*k1*(k1**2 + k2**2 + 2*k1*k2*u12) + k2**2*(-7*b1*k2*u12 + b1*k1*(3 - 10*u12**2) \n",
    "           + 14*g2*k1*(-1 + u12**2)))**2/(196.*b1**4*k1**2*(k1**2 + k2**2 + 2*k1*k2*u12)**2))\n",
    "\n",
    "# Second Z1^2 Z2^2 term in Eq. 25\n",
    "def e44o44_2(u12,k1,k2):\n",
    "    return(((-3*b1*k1**2*k2 - 7*b2*k1**2*k2 + 14*g2*k1**2*k2 - 7*b2*k2**3 + 7*b1*k1**3*u12 - 14*b2*k1*k2**2*u12\n",
    "          + 10*b1*k1**2*k2*u12**2 - 14*g2*k1**2*k2*u12**2)*(-7*b2*k1**3 - 3*b1*k1*k2**2 - 7*b2*k1*k2**2 \n",
    "          + 14*g2*k1*k2**2 - 14*b2*k1**2*k2*u12 + 7*b1*k2**3*u12 + 10*b1*k1*k2**2*u12**2 - 14*g2*k1*k2**2*u12**2))\n",
    "          /(196.*b1**4*k1*k2*(k1**2 + k2**2 + 2*k1*k2*u12)**2))\n",
    "\n",
    "# Z3 term in Eq. 25\n",
    "def ez3(k1,k2): \n",
    "    if(k1!=k2):\n",
    "        return((4*k1*k2*(-21*(b1 + 3*g21)*k1**6 + (50*b1 + 3*(816*b2 + 84*b3 + 77*g21 - 224*g2x))*k1**4*k2**2 \n",
    "               + (-79*b1 + 231*g21)*k1**2*k2**4 + 3*(2*b1 - 21*g21)*k2**6) - 3*(k1 - k2)**3*(k1 + k2)**3\n",
    "               *(7*(b1 + 3*g21)*k1**2 + (2*b1 - 21*g21)*k2**2)*(np.log((k1 - k2)**2) - 2*np.log(k1 + k2)))\n",
    "               /(504.*b1**3*k1**5*k2**3))\n",
    "    else:\n",
    "        return((-22*b1 + 1224*b2 + 42*(3*b3 + 4*g21 - 8*g2x))/(63.*b1**3))\n",
    "    \n",
    "def trispIntegrand(u12,k1,k2):\n",
    "    return((8*(Plin(k1)**2*e44o44_1(u12,k1,k2) + Plin(k2)**2*e44o44_1(u12,k2,k1))\n",
    "            +16*Plin(k1)*Plin(k2)*e44o44_2(u12,k1,k2)\n",
    "            +8*inbar*(Plin(k1)*e34o44_2(u12,k1,k2)+Plin(k2)*e34o44_2(u12,k2,k1))+2*inbar**2)\n",
    "            *Plin(np.sqrt(k1**2+k2**2+2*k1*k2*u12)))\n",
    "\n",
    "# Combining all the trispectrum terms of the covariance\n",
    "def trisp(k1,k2):\n",
    "    expr = Plin(k1)**2*Plin(k2)*ez3(k1,k2) + Plin(k2)**2*Plin(k1)*ez3(k2,k1)\\\n",
    "        +8*inbar*Plin(k1)*Plin(k2)*e34o44_1(k1,k2)\n",
    "    \n",
    "    temp = (quad(trispIntegrand, -1, 1,args=(k1,k2))[0]/2. + expr)/vol\n",
    "    return(temp)\n",
    "\n",
    "trisp = np.vectorize(trisp)"
   ]
  },
  {
   "cell_type": "code",
   "execution_count": 13,
   "metadata": {},
   "outputs": [
    {
     "name": "stdout",
     "output_type": "stream",
     "text": [
      "k= 0.1\n"
     ]
    }
   ],
   "source": [
    "it=19; print('k=',k[it])\n",
    "plotTrisp=trisp(k[it],k)/(Pfit(k[it])*Pfit(k))\n",
    "total=plotTrisp.copy()\n",
    "total[it]+=CovGaussian[it]/(Pfit(k[it])**2) # Adding the Gaussian part"
   ]
  },
  {
   "cell_type": "code",
   "execution_count": 14,
   "metadata": {},
   "outputs": [
    {
     "data": {
      "text/plain": [
       "Text(0, 0.5, '[$C$(0.1,$k)/P(0.1)P(k)]^{1/2}$')"
      ]
     },
     "execution_count": 14,
     "metadata": {},
     "output_type": "execute_result"
    },
    {
     "data": {
      "image/png": "[encoded data removed]",
      "text/plain": [
       "<Figure size 432x288 with 1 Axes>"
      ]
     },
     "metadata": {
      "needs_background": "light"
     },
     "output_type": "display_data"
    }
   ],
   "source": [
    "plt.grid(b=True, which='major', color='#999999', linestyle='--',alpha=0.4)\n",
    "plt.semilogx(k,np.sqrt(plotTrisp))\n",
    "plt.semilogx(k,np.sqrt(total),ls='dashed')\n",
    "plt.legend(['$T_0$ contribution','+Gaussian'], loc=2)\n",
    "plt.xlabel(r\"$k$  [h/Mpc]\"); plt.ylabel(r\"[$C$(\"+str(round(k[it],2))+\",$k)/P(\"+str(round(k[it],2))+\")P(k)]^{1/2}$\")\n",
    "#plt.ylim(1e-5,1e-3)\n",
    "\n",
    "# Results are in good agreement with Blot et al. 2015"
   ]
  },
  {
   "cell_type": "code",
   "execution_count": 19,
   "metadata": {},
   "outputs": [],
   "source": [
    "# Uncomment for generating the full covariance matrix\n",
    "\n",
    "# covMat= np.zeros((len(k),len(k)));\n",
    "# for i in range(len(k)):\n",
    "#     covMat[i]=trisp(k[i],k) # Calculating the tree-level trispectrum\n",
    "\n",
    "# # Adding the Gaussian part\n",
    "# for i in range(len(k)):\n",
    "#     covMat[i,i]+=CovGaussian[i]"
   ]
  }
 ],
 "metadata": {
  "kernelspec": {
   "display_name": "Python 3",
   "language": "python",
   "name": "python3"
  },
  "language_info": {
   "codemirror_mode": {
    "name": "ipython",
    "version": 3
   },
   "file_extension": ".py",
   "mimetype": "text/x-python",
   "name": "python",
   "nbconvert_exporter": "python",
   "pygments_lexer": "ipython3",
   "version": "3.9.5"
  }
 },
 "nbformat": 4,
 "nbformat_minor": 2
}
