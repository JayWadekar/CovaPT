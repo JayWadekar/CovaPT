{
 "cells": [
  {
   "cell_type": "code",
   "execution_count": 1,
   "metadata": {},
   "outputs": [],
   "source": [
    "import scipy, time\n",
    "from scipy.fftpack import fft2, fftn, ifftn\n",
    "from scipy.special import hyp2f1\n",
    "from scipy.integrate import quad\n",
    "from scipy.interpolate import InterpolatedUnivariateSpline\n",
    "#from scipy import interpolate\n",
    "from scipy.integrate import quad\n",
    "import numpy as np\n",
    "from numpy import exp, log, log10, cos, sin, pi, cosh, sinh , sqrt, amin, amax, mean\n",
    "import matplotlib\n",
    "from matplotlib import pyplot as plt\n",
    "#import sys\n",
    "#import multiprocessing\n",
    "#from subprocess import call\n",
    "#from astropy.io import fits\n",
    "#from sympy import *\n",
    "%matplotlib inline"
   ]
  },
  {
   "cell_type": "code",
   "execution_count": 2,
   "metadata": {},
   "outputs": [],
   "source": [
    "# Aesthetic definitions for the plots\n",
    "font = {'size'   : 14, 'family':'STIXGeneral'}\n",
    "matplotlib.rc('font', **font)\n",
    "matplotlib.rc('axes', labelsize=18) \n",
    "matplotlib.mathtext.rcParams['legend.fontsize']=16\n",
    "plt.rcParams[\"figure.figsize\"] = [6.0,4.]\n",
    "\n",
    "#matplotlib.rc('font',**{'family':'serif','serif':['Palatino']})\n",
    "matplotlib.rc('text', usetex=True)"
   ]
  },
  {
   "cell_type": "code",
   "execution_count": 3,
   "metadata": {},
   "outputs": [],
   "source": [
    "# array of k-values\n",
    "dk=0.01 #Bin width\n",
    "k=np.arange(0.0025,0.25,dk); #k's are the bin centers"
   ]
  },
  {
   "cell_type": "code",
   "execution_count": 4,
   "metadata": {},
   "outputs": [],
   "source": [
    "dire='/Users/digvijay/Dropbox/Drop_Acad/Roman/Covariance/data/Public/'"
   ]
  },
  {
   "cell_type": "code",
   "execution_count": 5,
   "metadata": {},
   "outputs": [],
   "source": [
    "#Linear power spectrum from Class or CAMB\n",
    "pdata=np.loadtxt(dire+'Pk_lin_CAMB.dat')\n",
    "Plin=InterpolatedUnivariateSpline(pdata[:,0], pdata[:,1])"
   ]
  },
  {
   "cell_type": "code",
   "execution_count": 6,
   "metadata": {},
   "outputs": [],
   "source": [
    "#Best-fit theory power fitted to survey data (currently used same as Plin)\n",
    "Pfit=InterpolatedUnivariateSpline(pdata[:,0], pdata[:,1])"
   ]
  },
  {
   "cell_type": "code",
   "execution_count": 7,
   "metadata": {},
   "outputs": [
    {
     "data": {
      "text/plain": [
       "Text(0, 0.5, '$P(k)$')"
      ]
     },
     "execution_count": 7,
     "metadata": {},
     "output_type": "execute_result"
    },
    {
     "data": {
      "image/png": "[encoded data removed]",
      "text/plain": [
       "<Figure size 432x288 with 1 Axes>"
      ]
     },
     "metadata": {
      "needs_background": "light"
     },
     "output_type": "display_data"
    }
   ],
   "source": [
    "plt.semilogy(k,Plin(k))\n",
    "plt.xlabel(r\"$k$  [h/Mpc]\"); plt.ylabel(r\"$P(k)$\")"
   ]
  },
  {
   "cell_type": "code",
   "execution_count": 8,
   "metadata": {},
   "outputs": [],
   "source": [
    "# Bias parameter values\n",
    "\n",
    "b1 = 1.94853182918671; #Linear bias\n",
    "be = 0; #beta = f/b1, zero for real space\n",
    "g2 = 0 #g_i: Non-local bias\n",
    "b2 = 0 #b_i: Non-linear bias\n",
    "g3 = 0\n",
    "g2x = 0\n",
    "g21 = 0\n",
    "b3 = 0\n",
    "\n",
    "# Below are expressions for non-local bias from local lagrangian approximation\n",
    "# and non-linear bias from peak-background split fit of Lazyeras et al. 2016\n",
    "# g2 = -2/7*(b1 - 1)\n",
    "# g3 = 11/63*(b1 - 1);\n",
    "# b2 = 0.412 - 2.143*b1 + 0.929*b1**2 + 0.008*b1**3 + 4/3*g2\n",
    "# g2x = -2/7*b2v;\n",
    "# g21 = -22/147*(b1 - 1);\n",
    "# b3 = -1.028 + 7.646*b1 - 6.227*b1**2 + 0.912*b1**3 + 4*g2x - 4/3*g3 - 8/3*g21 - 32/21*g2"
   ]
  },
  {
   "cell_type": "code",
   "execution_count": 9,
   "metadata": {},
   "outputs": [],
   "source": [
    "Lbox = 1000 #Mpc/h\n",
    "vol = Lbox**3 #Volume of box/survey"
   ]
  },
  {
   "cell_type": "code",
   "execution_count": 10,
   "metadata": {},
   "outputs": [],
   "source": [
    "inbar = Lbox**3/158262. #Inverse of galaxy number density"
   ]
  },
  {
   "cell_type": "markdown",
   "metadata": {},
   "source": [
    "# Real Space"
   ]
  },
  {
   "cell_type": "code",
   "execution_count": 11,
   "metadata": {},
   "outputs": [],
   "source": [
    "# First calculating the Gaussian part\n",
    "def CovGaussian(k1):\n",
    "    return(2*(Pfit(k1) + inbar)**2*2*np.pi**2/(vol*k1**2*dk)); # 2 P^2 / Number of k-modes in shell"
   ]
  },
  {
   "cell_type": "code",
   "execution_count": 12,
   "metadata": {
    "scrolled": false
   },
   "outputs": [
    {
     "data": {
      "text/plain": [
       "Text(0, 0.5, '$C(k,k)/P(k)^2$')"
      ]
     },
     "execution_count": 12,
     "metadata": {},
     "output_type": "execute_result"
    },
    {
     "data": {
      "image/png": "[encoded data removed]",
      "text/plain": [
       "<Figure size 432x288 with 1 Axes>"
      ]
     },
     "metadata": {
      "needs_background": "light"
     },
     "output_type": "display_data"
    }
   ],
   "source": [
    "#Plotting diagonal elements of the Gaussian covariance matrix\n",
    "plt.semilogy(k,CovGaussian(k)/(Plin(k)**2))\n",
    "plt.xlabel(r\"$k$  [h/Mpc]\"); plt.ylabel(r\"$C(k,k)/P(k)^2$\")"
   ]
  },
  {
   "cell_type": "code",
   "execution_count": 13,
   "metadata": {},
   "outputs": [],
   "source": [
    "# Now calculating terms for the non-Gaussisan part\n",
    "\n",
    "# First Z1 Z1 Z2 shot noise term in Eq. 91\n",
    "def e34o44_1(k1,k2):\n",
    "    expr = ((34/(21.*b1) + b2/b1**2 - (4*g2)/(3.*b1**2))/2.)\n",
    "    return(expr)\n",
    "\n",
    "# Second Z1 Z1 Z2 shot noise term in Eq. 91\n",
    "def e34o44_2(u12,k1,k2):\n",
    "    return((7*b2 + (k2**2*(-7*b1*k2*u12 + b1*k1*(3 - 10*u12**2) + 14*g2*k1*(-1 + u12**2)))/(k1*(k1**2 + k2**2 + 2*k1*k2*u12)))/(14.*b1**2))"
   ]
  },
  {
   "cell_type": "code",
   "execution_count": 14,
   "metadata": {},
   "outputs": [],
   "source": [
    "# First Z1^2 Z2^2 term in Eq. 25\n",
    "def e44o44_1(u12,k1,k2):\n",
    "    return((7*b2*k1*(k1**2 + k2**2 + 2*k1*k2*u12) + k2**2*(-7*b1*k2*u12 + b1*k1*(3 - 10*u12**2) + 14*g2*k1*(-1 + u12**2)))**2/(196.*b1**4*k1**2*(k1**2 + k2**2 + 2*k1*k2*u12)**2))\n",
    "\n",
    "# Second Z1^2 Z2^2 term in Eq. 25\n",
    "def e44o44_2(u12,k1,k2):\n",
    "    return(((-3*b1*k1**2*k2 - 7*b2*k1**2*k2 + 14*g2*k1**2*k2 - 7*b2*k2**3 + 7*b1*k1**3*u12 - 14*b2*k1*k2**2*u12 + 10*b1*k1**2*k2*u12**2 - 14*g2*k1**2*k2*u12**2)*(-7*b2*k1**3 - 3*b1*k1*k2**2 - 7*b2*k1*k2**2 + 14*g2*k1*k2**2 - 14*b2*k1**2*k2*u12 + 7*b1*k2**3*u12 + 10*b1*k1*k2**2*u12**2 - 14*g2*k1*k2**2*u12**2))/(196.*b1**4*k1*k2*(k1**2 + k2**2 + 2*k1*k2*u12)**2))"
   ]
  },
  {
   "cell_type": "code",
   "execution_count": 15,
   "metadata": {},
   "outputs": [],
   "source": [
    "# Z3 term in Eq. 25\n",
    "def ez3(k1,k2): \n",
    "    if(k1!=k2):\n",
    "        return((4*k1*k2*(-21*(b1 + 3*g21)*k1**6 + (50*b1 + 3*(816*b2 + 84*b3 + 77*g21 - 224*g2x))*k1**4*k2**2 + (-79*b1 + 231*g21)*k1**2*k2**4 + 3*(2*b1 - 21*g21)*k2**6) - 3*(k1 - k2)**3*(k1 + k2)**3*(7*(b1 + 3*g21)*k1**2 + (2*b1 - 21*g21)*k2**2)*(np.log((k1 - k2)**2) - 2*np.log(k1 + k2)))/(504.*b1**3*k1**5*k2**3))\n",
    "    else:\n",
    "        return((-22*b1 + 1224*b2 + 42*(3*b3 + 4*g21 - 8*g2x))/(63.*b1**3))"
   ]
  },
  {
   "cell_type": "code",
   "execution_count": 16,
   "metadata": {},
   "outputs": [],
   "source": [
    "def integrand(u12,k1,k2):\n",
    "    return((8*(Plin(k1)**2*e44o44_1(u12,k1,k2) + Plin(k2)**2*e44o44_1(u12,k2,k1))\\\n",
    "        +16*Plin(k1)*Plin(k2)*e44o44_2(u12,k1,k2)\\\n",
    "        +8*inbar*(Plin(k1)*e34o44_2(u12,k1,k2)+Plin(k2)*e34o44_2(u12,k2,k1))\\\n",
    "        +2*inbar**2)*\\\n",
    "        Plin(np.sqrt(k1**2+k2**2+2*k1*k2*u12)))"
   ]
  },
  {
   "cell_type": "code",
   "execution_count": 17,
   "metadata": {},
   "outputs": [],
   "source": [
    "# Combining all the trispectrum terms of the covariance\n",
    "def trisp(k1,k2):\n",
    "    expr = Plin(k1)**2*Plin(k2)*ez3(k1,k2) + Plin(k2)**2*Plin(k1)*ez3(k2,k1)\\\n",
    "        +8*inbar*Plin(k1)*Plin(k2)*e34o44_1(k1,k2)\n",
    "    \n",
    "    temp = (quad(integrand, -1, 1,args=(k1,k2))[0]/2. + expr)/vol\n",
    "    return(temp)\n",
    "\n",
    "trisp = np.vectorize(trisp)"
   ]
  },
  {
   "cell_type": "code",
   "execution_count": 18,
   "metadata": {},
   "outputs": [],
   "source": [
    "# For making plots of a row of the covariance\n",
    "it=10;\n",
    "nonGaussian=trisp(k,k[it])/(Pfit(k)*Pfit(k[it]))\n",
    "total=nonGaussian.copy()\n",
    "total[it]+=CovGaussian(k[it])/(Pfit(k[it])**2) # Adding the Gaussian part"
   ]
  },
  {
   "cell_type": "code",
   "execution_count": 19,
   "metadata": {
    "scrolled": true
   },
   "outputs": [
    {
     "data": {
      "text/plain": [
       "Text(0, 0.5, '$C$(0.1,$k)/P(0.1)P(k)$')"
      ]
     },
     "execution_count": 19,
     "metadata": {},
     "output_type": "execute_result"
    },
    {
     "data": {
      "image/png": "[encoded data removed]",
      "text/plain": [
       "<Figure size 432x288 with 1 Axes>"
      ]
     },
     "metadata": {
      "needs_background": "light"
     },
     "output_type": "display_data"
    }
   ],
   "source": [
    "plt.grid(b=True, which='major', color='#999999', linestyle='--',alpha=0.4)\n",
    "plt.semilogy(k,nonGaussian)\n",
    "plt.semilogy(k,total,ls='dashed')\n",
    "plt.legend(['non-Gaussian','+Gaussian'], loc=1)\n",
    "plt.xlabel(r\"$k$  [h/Mpc]\"); plt.ylabel(r\"$C$(\"+str(round(k[it],2))+\",$k)/P(\"+str(round(k[it],2))+\")P(k)$\")"
   ]
  },
  {
   "cell_type": "code",
   "execution_count": 433,
   "metadata": {},
   "outputs": [],
   "source": [
    "# Generating the full covariance matrix\n",
    "covMat= np.zeros((len(k),len(k)));"
   ]
  },
  {
   "cell_type": "code",
   "execution_count": 434,
   "metadata": {},
   "outputs": [],
   "source": [
    "# Calculating the non-Gaussian part\n",
    "for i in range(len(k)):\n",
    "    covMat[i]=trisp(k[i],k)"
   ]
  },
  {
   "cell_type": "code",
   "execution_count": 435,
   "metadata": {},
   "outputs": [],
   "source": [
    "# Adding the Gaussian part\n",
    "for i in range(len(k)):\n",
    "    covMat[i,i]+=CovGaussian(k[i])"
   ]
  },
  {
   "cell_type": "code",
   "execution_count": 436,
   "metadata": {},
   "outputs": [],
   "source": [
    "# Normalizing by the power spectrum\n",
    "for i in range(len(k)):\n",
    "    for j in range(len(k)):\n",
    "        covMat[i,j] /=Pfit(k[i])*Pfit(k[j])"
   ]
  },
  {
   "cell_type": "markdown",
   "metadata": {},
   "source": [
    "# Redshift space"
   ]
  },
  {
   "cell_type": "code",
   "execution_count": null,
   "metadata": {},
   "outputs": [],
   "source": [
    "# Work in progress, will update soon"
   ]
  },
  {
   "cell_type": "code",
   "execution_count": 8,
   "metadata": {},
   "outputs": [
    {
     "data": {
      "text/plain": [
       "(0.33333502603150456, 0.0017337678288514846)"
      ]
     },
     "execution_count": 8,
     "metadata": {},
     "output_type": "execute_result"
    }
   ],
   "source": [
    "f = lambda q, mu: mu**2 * q**-3\n",
    "scipy.integrate.dblquad(f, -1, 1, lambda mu: 0, lambda mu: np.infty)"
   ]
  },
  {
   "cell_type": "code",
   "execution_count": null,
   "metadata": {},
   "outputs": [],
   "source": []
  }
 ],
 "metadata": {
  "kernelspec": {
   "display_name": "Python 3",
   "language": "python",
   "name": "python3"
  },
  "language_info": {
   "codemirror_mode": {
    "name": "ipython",
    "version": 3
   },
   "file_extension": ".py",
   "mimetype": "text/x-python",
   "name": "python",
   "nbconvert_exporter": "python",
   "pygments_lexer": "ipython3",
   "version": "3.8.3"
  }
 },
 "nbformat": 4,
 "nbformat_minor": 2
}
