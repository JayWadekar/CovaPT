{
 "cells": [
  {
   "cell_type": "code",
   "execution_count": null,
   "metadata": {},
   "outputs": [],
   "source": [
    "# This is the code for calculating the window function kernels given in Eq. 57 and 88 of WadSco19\n",
    "# and calculating the Gaussian covariance from them"
   ]
  },
  {
   "cell_type": "code",
   "execution_count": 1,
   "metadata": {},
   "outputs": [],
   "source": [
    "import scipy, time\n",
    "from scipy.fftpack import fft2, fftn, ifftn\n",
    "from scipy.special import hyp2f1\n",
    "from scipy.integrate import quad\n",
    "from scipy.interpolate import interp1d\n",
    "from scipy.io import FortranFile\n",
    "import numpy as np\n",
    "from scipy.interpolate import InterpolatedUnivariateSpline\n",
    "from numpy import exp, log, log10, cos, sin, pi, cosh, sinh , sqrt, amin, amax, mean, dot, power, conj\n",
    "import matplotlib\n",
    "from matplotlib import pyplot as plt\n",
    "import sys\n",
    "import multiprocessing\n",
    "from threading import Timer\n",
    "%matplotlib inline"
   ]
  },
  {
   "cell_type": "code",
   "execution_count": 2,
   "metadata": {},
   "outputs": [],
   "source": [
    "# for aesthetic plots\n",
    "font = {'size'   : 14, 'family':'STIXGeneral'}\n",
    "matplotlib.rc('font', **font)\n",
    "matplotlib.rc('axes', labelsize=18) \n",
    "matplotlib.mathtext.rcParams['legend.fontsize']=14\n",
    "plt.rcParams[\"figure.figsize\"] = [6.0,4.]\n",
    "matplotlib.rc('text', usetex=True)"
   ]
  },
  {
   "cell_type": "code",
   "execution_count": 3,
   "metadata": {},
   "outputs": [],
   "source": [
    "# Total number of k-bins in power spectrum\n",
    "nBins=50\n",
    "\n",
    "kBinWidth=0.005\n",
    "\n",
    "# Length of box used when computing FFTs\n",
    "Lbox=3750.\n",
    "\n",
    "# Fundamental k-mode\n",
    "kfun=2.*np.pi/Lbox\n",
    "\n",
    "kbinEdges=np.arange(nBins+1)*kBinWidth"
   ]
  },
  {
   "cell_type": "code",
   "execution_count": 7,
   "metadata": {},
   "outputs": [],
   "source": [
    "I22=874.224835580588 # Eq.3\n",
    "\n",
    "dire='/Users/jayw/Dropbox/Drop_Acad/Roman/Covariance/data/Public/'"
   ]
  },
  {
   "cell_type": "code",
   "execution_count": 8,
   "metadata": {},
   "outputs": [],
   "source": [
    "# The files for FFTs form the random catalog have been generated in Fortran.\n",
    "# I'm figuring out a way to calculate them in python but until then\n",
    "# please download the files from the link:\n",
    "# https://drive.google.com/drive/folders/1bWKfUaIXcC1n-2hk9KtKhqukxTH1379i?usp=sharing"
   ]
  },
  {
   "cell_type": "code",
   "execution_count": 9,
   "metadata": {},
   "outputs": [],
   "source": [
    "# First rewriting the FFT array so that the zero mode is at the center (negative k to left of it and positive to right)\n",
    "# This is done so that dot products of the FFTs with k-hat can be conveniently taken later \n",
    "\n",
    "# As the window falls steeply with k, only low-k regions are needed for the calculation.\n",
    "# Therefore cutting out the high-k modes in the FFTs using the icut parameter\n",
    "icut=15; # needs to be less than Lm//2 (Lm: size of FFT)\n",
    "\n",
    "def fft(temp):\n",
    "    ia=Lm//2-1; ib=Lm//2+1\n",
    "    temp2=np.zeros((Lm,Lm,Lm),dtype='<c8')\n",
    "    temp2[ia:Lm,ia:Lm,ia:Lm]=temp[0:ib,0:ib,0:ib]; temp2[0:ia,ia:Lm,ia:Lm]=temp[ib:Lm,0:ib,0:ib]\n",
    "    temp2[ia:Lm,0:ia,ia:Lm]=temp[0:ib,ib:Lm,0:ib]; temp2[ia:Lm,ia:Lm,0:ia]=temp[0:ib,0:ib,ib:Lm]\n",
    "    temp2[0:ia,0:ia,ia:Lm]=temp[ib:Lm,ib:Lm,0:ib]; temp2[0:ia,ia:Lm,0:ia]=temp[ib:Lm,0:ib,ib:Lm]\n",
    "    temp2[ia:Lm,0:ia,0:ia]=temp[0:ib,ib:Lm,ib:Lm]; temp2[0:ia,0:ia,0:ia]=temp[ib:Lm,ib:Lm,ib:Lm]\n",
    "    \n",
    "    temp2=temp2[ia-icut:ia+icut+1,ia-icut:ia+icut+1,ia-icut:ia+icut+1]\n",
    "    \n",
    "    if(W22_flag): return(temp2)\n",
    "    else: return(conj(temp2))"
   ]
  },
  {
   "cell_type": "code",
   "execution_count": 10,
   "metadata": {},
   "outputs": [
    {
     "name": "stdout",
     "output_type": "stream",
     "text": [
      "FFT size is 48\n"
     ]
    }
   ],
   "source": [
    "# Reading the FFT files for W22 (referred to as W for brevity)\n",
    "# Wc refers to conjugate of W\n",
    "f = FortranFile(dire+'FFTWinFun_HighZ_W22_NGC', 'r')\n",
    "Lm=f.read_record('<i4'); Lm=Lm[0]; #Lm: size of FFT\n",
    "print('FFT size is',Lm)\n",
    "W22_flag=1\n",
    "W=fft(f.read_record('('+str(Lm)+','+str(Lm)+','+str(Lm)+')<c8').T)\n",
    "Wxx=fft(f.read_record('('+str(Lm)+','+str(Lm)+','+str(Lm)+')<c8').T)\n",
    "Wyy=fft(f.read_record('('+str(Lm)+','+str(Lm)+','+str(Lm)+')<c8').T)\n",
    "Wzz=fft(f.read_record('('+str(Lm)+','+str(Lm)+','+str(Lm)+')<c8').T)\n",
    "Wxy=fft(f.read_record('('+str(Lm)+','+str(Lm)+','+str(Lm)+')<c8').T)\n",
    "Wyz=fft(f.read_record('('+str(Lm)+','+str(Lm)+','+str(Lm)+')<c8').T)\n",
    "Wzx=fft(f.read_record('('+str(Lm)+','+str(Lm)+','+str(Lm)+')<c8').T)\n",
    "Wxxxx=fft(f.read_record('('+str(Lm)+','+str(Lm)+','+str(Lm)+')<c8').T)\n",
    "Wyyyy=fft(f.read_record('('+str(Lm)+','+str(Lm)+','+str(Lm)+')<c8').T)\n",
    "Wzzzz=fft(f.read_record('('+str(Lm)+','+str(Lm)+','+str(Lm)+')<c8').T)\n",
    "Wxxxy=fft(f.read_record('('+str(Lm)+','+str(Lm)+','+str(Lm)+')<c8').T)\n",
    "Wxxxz=fft(f.read_record('('+str(Lm)+','+str(Lm)+','+str(Lm)+')<c8').T)\n",
    "Wyyyx=fft(f.read_record('('+str(Lm)+','+str(Lm)+','+str(Lm)+')<c8').T)\n",
    "Wyyyz=fft(f.read_record('('+str(Lm)+','+str(Lm)+','+str(Lm)+')<c8').T)\n",
    "Wzzzx=fft(f.read_record('('+str(Lm)+','+str(Lm)+','+str(Lm)+')<c8').T)\n",
    "Wzzzy=fft(f.read_record('('+str(Lm)+','+str(Lm)+','+str(Lm)+')<c8').T)\n",
    "Wxxyy=fft(f.read_record('('+str(Lm)+','+str(Lm)+','+str(Lm)+')<c8').T)\n",
    "Wxxzz=fft(f.read_record('('+str(Lm)+','+str(Lm)+','+str(Lm)+')<c8').T)\n",
    "Wyyzz=fft(f.read_record('('+str(Lm)+','+str(Lm)+','+str(Lm)+')<c8').T)\n",
    "Wxxyz=fft(f.read_record('('+str(Lm)+','+str(Lm)+','+str(Lm)+')<c8').T)\n",
    "Wyyxz=fft(f.read_record('('+str(Lm)+','+str(Lm)+','+str(Lm)+')<c8').T)\n",
    "Wzzxy=fft(f.read_record('('+str(Lm)+','+str(Lm)+','+str(Lm)+')<c8').T)"
   ]
  },
  {
   "cell_type": "code",
   "execution_count": 11,
   "metadata": {},
   "outputs": [],
   "source": [
    "# For W12 instead of W22 above\n",
    "f = FortranFile(dire+'FFTWinFun_HighZ_W12_NGC', 'r')\n",
    "Lm=f.read_record('<i4'); Lm=Lm[0];\n",
    "W22_flag=0\n",
    "W12=fft(f.read_record('('+str(Lm)+','+str(Lm)+','+str(Lm)+')<c8').T)\n",
    "W12xx=fft(f.read_record('('+str(Lm)+','+str(Lm)+','+str(Lm)+')<c8').T)\n",
    "W12yy=fft(f.read_record('('+str(Lm)+','+str(Lm)+','+str(Lm)+')<c8').T)\n",
    "W12zz=fft(f.read_record('('+str(Lm)+','+str(Lm)+','+str(Lm)+')<c8').T)\n",
    "W12xy=fft(f.read_record('('+str(Lm)+','+str(Lm)+','+str(Lm)+')<c8').T)\n",
    "W12yz=fft(f.read_record('('+str(Lm)+','+str(Lm)+','+str(Lm)+')<c8').T)\n",
    "W12zx=fft(f.read_record('('+str(Lm)+','+str(Lm)+','+str(Lm)+')<c8').T)\n",
    "W12xxxx=fft(f.read_record('('+str(Lm)+','+str(Lm)+','+str(Lm)+')<c8').T)\n",
    "W12yyyy=fft(f.read_record('('+str(Lm)+','+str(Lm)+','+str(Lm)+')<c8').T)\n",
    "W12zzzz=fft(f.read_record('('+str(Lm)+','+str(Lm)+','+str(Lm)+')<c8').T)\n",
    "W12xxxy=fft(f.read_record('('+str(Lm)+','+str(Lm)+','+str(Lm)+')<c8').T)\n",
    "W12xxxz=fft(f.read_record('('+str(Lm)+','+str(Lm)+','+str(Lm)+')<c8').T)\n",
    "W12yyyx=fft(f.read_record('('+str(Lm)+','+str(Lm)+','+str(Lm)+')<c8').T)\n",
    "W12yyyz=fft(f.read_record('('+str(Lm)+','+str(Lm)+','+str(Lm)+')<c8').T)\n",
    "W12zzzx=fft(f.read_record('('+str(Lm)+','+str(Lm)+','+str(Lm)+')<c8').T)\n",
    "W12zzzy=fft(f.read_record('('+str(Lm)+','+str(Lm)+','+str(Lm)+')<c8').T)\n",
    "W12xxyy=fft(f.read_record('('+str(Lm)+','+str(Lm)+','+str(Lm)+')<c8').T)\n",
    "W12xxzz=fft(f.read_record('('+str(Lm)+','+str(Lm)+','+str(Lm)+')<c8').T)\n",
    "W12yyzz=fft(f.read_record('('+str(Lm)+','+str(Lm)+','+str(Lm)+')<c8').T)\n",
    "W12xxyz=fft(f.read_record('('+str(Lm)+','+str(Lm)+','+str(Lm)+')<c8').T)\n",
    "W12yyxz=fft(f.read_record('('+str(Lm)+','+str(Lm)+','+str(Lm)+')<c8').T)\n",
    "W12zzxy=fft(f.read_record('('+str(Lm)+','+str(Lm)+','+str(Lm)+')<c8').T)"
   ]
  },
  {
   "cell_type": "code",
   "execution_count": 16,
   "metadata": {},
   "outputs": [],
   "source": [
    "# Recording the k-modes in different shells\n",
    "# Bin_kmodes contains [kx,ky,kz,radius] values of all the modes in the bin\n",
    "\n",
    "Lm2 = int(kBinWidth*nBins/kfun)+1\n",
    "[ix,iy,iz] = np.zeros((3,2*Lm2+1,2*Lm2+1,2*Lm2+1));\n",
    "Bin_kmodes=[]; Bin_ModeNum=np.zeros(nBins,dtype=int)\n",
    "\n",
    "for i in range(nBins): Bin_kmodes.append([])\n",
    "for i in range(len(ix)):\n",
    "    ix[i,:,:]+=i-Lm2; iy[:,i,:]+=i-Lm2; iz[:,:,i]+=i-Lm2\n",
    "\n",
    "rk=np.sqrt(ix**2+iy**2+iz**2)\n",
    "sort=(rk*kfun/kBinWidth).astype(int)\n",
    "\n",
    "for i in range(0,nBins):\n",
    "    ind=(sort==i); Bin_ModeNum[i]=len(ix[ind]); \\\n",
    "    Bin_kmodes[i]=np.hstack((ix[ind].reshape(-1,1),iy[ind].reshape(-1,1),iz[ind].reshape(-1,1),rk[ind].reshape(-1,1)))"
   ]
  },
  {
   "cell_type": "code",
   "execution_count": 13,
   "metadata": {},
   "outputs": [],
   "source": [
    "# First I'm only showing only the code for the monopole covariance so the code is relatively easier\n",
    "# to understand. The quadrupole and hexadecapole autocovariance is given below and involves more FFTs\n",
    "\n",
    "def WinFun_onlyC00(Nbin):\n",
    "    avgW00=np.zeros((2*3+1,15),dtype='<c8');\n",
    "    [ix,iy,iz,k2xh,k2yh,k2zh]=np.zeros((6,2*icut+1,2*icut+1,2*icut+1))\n",
    "    \n",
    "    # Arrays with zero at the center (similar to FFTs earlier)\n",
    "    for i in range(2*icut+1): \n",
    "        ix[i,:,:]+=i-icut; iy[:,i,:]+=i-icut; iz[:,:,i]+=i-icut\n",
    "    \n",
    "    # We will not use all the modes in the k1 shell but will sample only a few (kmodes_sampled)\n",
    "    if (kmodes_sampled<Bin_ModeNum[Nbin]): # check if no. of modes in the shell are more than kmodes_sampled\n",
    "        norm=kmodes_sampled\n",
    "        sampled=(np.random.rand(kmodes_sampled)*Bin_ModeNum[Nbin]).astype(int)\n",
    "    else:\n",
    "        norm=Bin_ModeNum[Nbin]\n",
    "        sampled=np.arange(Bin_ModeNum[Nbin],dtype=int)\n",
    "        \n",
    "    # Randomly select modes in the k1 bin and add all their contributions in the end\n",
    "    for n in sampled:\n",
    "        [ik1x,ik1y,ik1z,rk1]=Bin_kmodes[Nbin][n]\n",
    "        if (rk1==0.): k1xh=0; k1yh=0; k1zh=0 # If |k1|=0\n",
    "        else: k1xh=ik1x/rk1; k1yh=ik1y/rk1; k1zh=ik1z/rk1\n",
    "        \n",
    "    # Build a 3D array of k2 modes around the selected mode\n",
    "    # Only k2 modes in a cube centered at the sampled k1 vector are used\n",
    "        k2xh=ik1x-ix; k2yh=ik1y-iy; k2zh=ik1z-iz;\n",
    "        rk2 = np.sqrt(k2xh**2+k2yh**2+k2zh**2);\n",
    "        sort = (rk2*kfun/kBinWidth).astype(int)-Nbin # to decide later which shell the k2 mode belongs to\n",
    "        ind=(rk2==0); # If |k2|=0\n",
    "        if (ind.any()>0): rk2[ind]=1e10 \n",
    "        k2xh/=rk2; k2yh/=rk2; k2zh/=rk2;\n",
    "        #k2 hat arrays built\n",
    "        \n",
    "    # Now calculating window multipole kernels by taking dot products of cartesian FFTs with k1-hat, k2-hat arrays\n",
    "    # W corresponds to W22(k) and Wc corresponds to conjugate of W22(k)\n",
    "    # L(i) refers to multipoles\n",
    "        \n",
    "        W_L0 = W\n",
    "        Wc_L0 = conj(W)\n",
    "        \n",
    "        xx=Wxx*k1xh**2+Wyy*k1yh**2+Wzz*k1zh**2+2.*Wxy*k1xh*k1yh+2.*Wyz*k1yh*k1zh+2.*Wzx*k1zh*k1xh\n",
    "        \n",
    "        W_k1L2=1.5*xx-0.5*W\n",
    "        W_k2L2=1.5*(Wxx*k2xh**2+Wyy*k2yh**2+Wzz*k2zh**2 \\\n",
    "        +2.*Wxy*k2xh*k2yh+2.*Wyz*k2yh*k2zh+2.*Wzx*k2zh*k2xh)-0.5*W\n",
    "        Wc_k1L2=conj(W_k1L2)\n",
    "        Wc_k2L2=conj(W_k2L2)\n",
    "        \n",
    "        W_k1L4=35./8.*(Wxxxx*k1xh**4 +Wyyyy*k1yh**4+Wzzzz*k1zh**4 \\\n",
    "                +4.*Wxxxy*k1xh**3*k1yh +4.*Wxxxz*k1xh**3*k1zh +4.*Wyyyx*k1yh**3*k1xh \\\n",
    "                +4.*Wyyyz*k1yh**3*k1zh +4.*Wzzzx*k1zh**3*k1xh +4.*Wzzzy*k1zh**3*k1yh \\\n",
    "                +6.*Wxxyy*k1xh**2*k1yh**2+6.*Wxxzz*k1xh**2*k1zh**2+6.*Wyyzz*k1yh**2*k1zh**2 \\\n",
    "                +12.*Wxxyz*k1xh**2*k1yh*k1zh+12.*Wyyxz*k1yh**2*k1xh*k1zh +12.*Wzzxy*k1zh**2*k1xh*k1yh) \\\n",
    "                -5./2.*W_k1L2 -7./8.*W_L0\n",
    "        Wc_k1L4=conj(W_k1L4)\n",
    "        \n",
    "        W_k2L4=35./8.*(Wxxxx*k2xh**4 +Wyyyy*k2yh**4+Wzzzz*k2zh**4 \\\n",
    "                 +4.*Wxxxy*k2xh**3*k2yh +4.*Wxxxz*k2xh**3*k2zh +4.*Wyyyx*k2yh**3*k2xh \\\n",
    "                 +4.*Wyyyz*k2yh**3*k2zh +4.*Wzzzx*k2zh**3*k2xh +4.*Wzzzy*k2zh**3*k2yh \\\n",
    "                 +6.*Wxxyy*k2xh**2*k2yh**2+6.*Wxxzz*k2xh**2*k2zh**2+6.*Wyyzz*k2yh**2*k2zh**2 \\\n",
    "                 +12.*Wxxyz*k2xh**2*k2yh*k2zh+12.*Wyyxz*k2yh**2*k2xh*k2zh +12.*Wzzxy*k2zh**2*k2xh*k2yh) \\\n",
    "                 -5./2.*W_k2L2 -7./8.*W_L0\n",
    "        Wc_k2L4=conj(W_k2L4)\n",
    "    \n",
    "        W12_L0 = W12\n",
    "        \n",
    "        # Collecting all kernels, will be multiplied by power multipoles later in function 'Cij'\n",
    "        C00exp = [Wc_L0*W_L0,Wc_L0*W_k2L2,Wc_L0*W_k2L4,\\\n",
    "                Wc_k1L2*W_L0,Wc_k1L2*W_k2L2,Wc_k1L2*W_k2L4,\\\n",
    "                Wc_k1L4*W_L0,Wc_k1L4*W_k2L2,Wc_k1L4*W_k2L4]\n",
    "        \n",
    "        # Including shot noise terms\n",
    "        C00exp += [2.*W_L0*W12_L0,W_k1L2*W12_L0,W_k1L4*W12_L0,\\\n",
    "                W_k2L2*W12_L0,W_k2L4*W12_L0,\\\n",
    "                conj(W12_L0)*W12_L0] # 1/nbar^2\n",
    "        \n",
    "        # Adding contributions to different k-bins (3 on each side of the diagonal)\n",
    "        for i in range(-3,4):\n",
    "            ind=(sort==i);\n",
    "            for j in range(15):\n",
    "                avgW00[i+3,j]+=np.sum(C00exp[j][ind])\n",
    "            \n",
    "    for i in range(0,2*3+1):\n",
    "        if(i+Nbin-3>=nBins): avgW00[i]*=0; continue #Checking for k-bins not within the range(0,nBins)\n",
    "        if(i+Nbin-3<0): avgW00[i]*=0; continue\n",
    "        avgW00[i]=avgW00[i]/(norm*Bin_ModeNum[Nbin+i-3]*I22**2)\n",
    "        \n",
    "    avgW00=2.*np.real(avgW00); \n",
    "    return(avgW00)"
   ]
  },
  {
   "cell_type": "code",
   "execution_count": 10,
   "metadata": {},
   "outputs": [],
   "source": [
    "# Gives window kernels for L=0,2,4 auto and cross covariance (instead of only L=0 above)\n",
    "\n",
    "# Returns an array with [7,15,6] dimensions. \n",
    "#    The first dim corresponds to the k-bin of k2 \n",
    "#    (only 3 bins on each side of diagonal are included as the Gaussian covariance drops quickly away from diagonal)\n",
    "\n",
    "#    The second dim corresponds to elements to be multiplied by various power spectrum multipoles\n",
    "#    to obtain the final covariance (see function 'Cij' below)\n",
    "\n",
    "#    The last dim corresponds to multipoles: [L0xL0,L2xL2,L4xL4,L2xL0,L4xL0,L4xL2]\n",
    "\n",
    "def WinFun(Nbin):\n",
    "    avgWij=np.zeros((2*3+1,15,6)); avgW00=np.zeros((2*3+1,15),dtype='<c8');\n",
    "    avgW22=avgW00.copy(); avgW44=avgW00.copy(); avgW20=avgW00.copy(); avgW40=avgW00.copy(); avgW42=avgW00.copy()\n",
    "    [ix,iy,iz,k2xh,k2yh,k2zh]=np.zeros((6,2*icut+1,2*icut+1,2*icut+1))\n",
    "    \n",
    "    for i in range(2*icut+1): \n",
    "        ix[i,:,:]+=i-icut; iy[:,i,:]+=i-icut; iz[:,:,i]+=i-icut\n",
    "        \n",
    "    if (kmodes_sampled<Bin_ModeNum[Nbin]):\n",
    "        norm=kmodes_sampled\n",
    "        sampled=(np.random.rand(kmodes_sampled)*Bin_ModeNum[Nbin]).astype(int)\n",
    "    else:\n",
    "        norm=Bin_ModeNum[Nbin]\n",
    "        sampled=np.arange(Bin_ModeNum[Nbin],dtype=int)\n",
    "    \n",
    "    # Randomly select a mode in the k1 bin\n",
    "    for n in sampled:\n",
    "        [ik1x,ik1y,ik1z,rk1]=Bin_kmodes[Nbin][n]\n",
    "        if (rk1==0.): k1xh=0; k1yh=0; k1zh=0\n",
    "        else: k1xh=ik1x/rk1; k1yh=ik1y/rk1; k1zh=ik1z/rk1\n",
    "            \n",
    "    # Build a 3D array of modes around the selected mode   \n",
    "        k2xh=ik1x-ix; k2yh=ik1y-iy; k2zh=ik1z-iz;\n",
    "        rk2=np.sqrt(k2xh**2+k2yh**2+k2zh**2);\n",
    "        sort=(rk2*kfun/kBinWidth).astype(int)-Nbin # to decide later which shell the k2 mode belongs to\n",
    "        ind=(rk2==0);\n",
    "        if (ind.any()>0): rk2[ind]=1e10\n",
    "        k2xh/=rk2; k2yh/=rk2; k2zh/=rk2;\n",
    "        #k2 hat arrays built\n",
    "        \n",
    "    # Now calculating window multipole kernels by taking dot products of cartesian FFTs with k1-hat, k2-hat arrays\n",
    "    # W corresponds to W22(k) and Wc corresponds to conjugate of W22(k)\n",
    "    # L(i) refers to multipoles\n",
    "        \n",
    "        W_L0 = W\n",
    "        Wc_L0 = conj(W)\n",
    "        \n",
    "        xx=Wxx*k1xh**2+Wyy*k1yh**2+Wzz*k1zh**2+2.*Wxy*k1xh*k1yh+2.*Wyz*k1yh*k1zh+2.*Wzx*k1zh*k1xh\n",
    "        \n",
    "        W_k1L2=1.5*xx-0.5*W\n",
    "        W_k2L2=1.5*(Wxx*k2xh**2+Wyy*k2yh**2+Wzz*k2zh**2 \\\n",
    "        +2.*Wxy*k2xh*k2yh+2.*Wyz*k2yh*k2zh+2.*Wzx*k2zh*k2xh)-0.5*W\n",
    "        Wc_k1L2=conj(W_k1L2)\n",
    "        Wc_k2L2=conj(W_k2L2)\n",
    "        \n",
    "        W_k1L4=35./8.*(Wxxxx*k1xh**4 +Wyyyy*k1yh**4+Wzzzz*k1zh**4 \\\n",
    "     +4.*Wxxxy*k1xh**3*k1yh +4.*Wxxxz*k1xh**3*k1zh +4.*Wyyyx*k1yh**3*k1xh \\\n",
    "     +4.*Wyyyz*k1yh**3*k1zh +4.*Wzzzx*k1zh**3*k1xh +4.*Wzzzy*k1zh**3*k1yh \\\n",
    "     +6.*Wxxyy*k1xh**2*k1yh**2+6.*Wxxzz*k1xh**2*k1zh**2+6.*Wyyzz*k1yh**2*k1zh**2 \\\n",
    "     +12.*Wxxyz*k1xh**2*k1yh*k1zh+12.*Wyyxz*k1yh**2*k1xh*k1zh +12.*Wzzxy*k1zh**2*k1xh*k1yh) \\\n",
    "     -5./2.*W_k1L2 -7./8.*W_L0\n",
    "        Wc_k1L4=conj(W_k1L4)\n",
    "        \n",
    "        k1k2=Wxxxx*(k1xh*k2xh)**2+Wyyyy*(k1yh*k2yh)**2+Wzzzz*(k1zh*k2zh)**2 \\\n",
    "            +Wxxxy*(k1xh*k1yh*k2xh**2+k1xh**2*k2xh*k2yh)*2\\\n",
    "            +Wxxxz*(k1xh*k1zh*k2xh**2+k1xh**2*k2xh*k2zh)*2\\\n",
    "            +Wyyyz*(k1yh*k1zh*k2yh**2+k1yh**2*k2yh*k2zh)*2\\\n",
    "            +Wzzzy*(k1zh*k1yh*k2zh**2+k1zh**2*k2zh*k2yh)*2\\\n",
    "            +Wyyyx*(k1yh*k1xh*k2yh**2+k1yh**2*k2yh*k2xh)*2\\\n",
    "            +Wzzzx*(k1zh*k1xh*k2zh**2+k1zh**2*k2zh*k2xh)*2\\\n",
    "            +Wxxyy*(k1xh**2*k2yh**2+k1yh**2*k2xh**2+4.*k1xh*k1yh*k2xh*k2yh)\\\n",
    "            +Wxxzz*(k1xh**2*k2zh**2+k1zh**2*k2xh**2+4.*k1xh*k1zh*k2xh*k2zh)\\\n",
    "            +Wyyzz*(k1yh**2*k2zh**2+k1zh**2*k2yh**2+4.*k1yh*k1zh*k2yh*k2zh)\\\n",
    "            +Wyyxz*(k1xh*k1zh*k2yh**2+k1yh**2*k2xh*k2zh+2.*k1yh*k2yh*(k1zh*k2xh+k1xh*k2zh))*2\\\n",
    "            +Wxxyz*(k1yh*k1zh*k2xh**2+k1xh**2*k2yh*k2zh+2.*k1xh*k2xh*(k1zh*k2yh+k1yh*k2zh))*2\\\n",
    "            +Wzzxy*(k1yh*k1xh*k2zh**2+k1zh**2*k2yh*k2xh+2.*k1zh*k2zh*(k1xh*k2yh+k1yh*k2xh))*2\n",
    "        \n",
    "        W_k2L4=35./8.*(Wxxxx*k2xh**4 +Wyyyy*k2yh**4+Wzzzz*k2zh**4 \\\n",
    "     +4.*Wxxxy*k2xh**3*k2yh +4.*Wxxxz*k2xh**3*k2zh +4.*Wyyyx*k2yh**3*k2xh \\\n",
    "     +4.*Wyyyz*k2yh**3*k2zh +4.*Wzzzx*k2zh**3*k2xh +4.*Wzzzy*k2zh**3*k2yh \\\n",
    "     +6.*Wxxyy*k2xh**2*k2yh**2+6.*Wxxzz*k2xh**2*k2zh**2+6.*Wyyzz*k2yh**2*k2zh**2 \\\n",
    "     +12.*Wxxyz*k2xh**2*k2yh*k2zh+12.*Wyyxz*k2yh**2*k2xh*k2zh +12.*Wzzxy*k2zh**2*k2xh*k2yh) \\\n",
    "     -5./2.*W_k2L2 -7./8.*W_L0\n",
    "        Wc_k2L4=conj(W_k2L4)\n",
    "        \n",
    "        W_k1L2_k2L2= 9./4.*k1k2 -3./4.*xx -1./2.*W_k2L2\n",
    "        W_k1L2_k2L4=2/7.*W_k1L2+20/77.*W_k1L4 #approximate as 6th order FFTs not simulated\n",
    "        W_k1L4_k2L2=W_k1L2_k2L4 #approximate\n",
    "        W_k1L4_k2L4=1/9.*W_L0+100/693.*W_k1L2+162/1001.*W_k1L4\n",
    "        Wc_k1L2_k2L2= conj(W_k1L2_k2L2)\n",
    "        Wc_k1L2_k2L4=conj(W_k1L2_k2L4); Wc_k1L4_k2L2=Wc_k1L2_k2L4\n",
    "        Wc_k1L4_k2L4=conj(W_k1L4_k2L4)\n",
    "        \n",
    "        k1k2W12=W12xxxx*(k1xh*k2xh)**2+W12yyyy*(k1yh*k2yh)**2+W12zzzz*(k1zh*k2zh)**2 \\\n",
    "            +W12xxxy*(k1xh*k1yh*k2xh**2+k1xh**2*k2xh*k2yh)*2\\\n",
    "            +W12xxxz*(k1xh*k1zh*k2xh**2+k1xh**2*k2xh*k2zh)*2\\\n",
    "            +W12yyyz*(k1yh*k1zh*k2yh**2+k1yh**2*k2yh*k2zh)*2\\\n",
    "            +W12zzzy*(k1zh*k1yh*k2zh**2+k1zh**2*k2zh*k2yh)*2\\\n",
    "            +W12yyyx*(k1yh*k1xh*k2yh**2+k1yh**2*k2yh*k2xh)*2\\\n",
    "            +W12zzzx*(k1zh*k1xh*k2zh**2+k1zh**2*k2zh*k2xh)*2\\\n",
    "            +W12xxyy*(k1xh**2*k2yh**2+k1yh**2*k2xh**2+4.*k1xh*k1yh*k2xh*k2yh)\\\n",
    "            +W12xxzz*(k1xh**2*k2zh**2+k1zh**2*k2xh**2+4.*k1xh*k1zh*k2xh*k2zh)\\\n",
    "            +W12yyzz*(k1yh**2*k2zh**2+k1zh**2*k2yh**2+4.*k1yh*k1zh*k2yh*k2zh)\\\n",
    "            +W12yyxz*(k1xh*k1zh*k2yh**2+k1yh**2*k2xh*k2zh+2.*k1yh*k2yh*(k1zh*k2xh+k1xh*k2zh))*2\\\n",
    "            +W12xxyz*(k1yh*k1zh*k2xh**2+k1xh**2*k2yh*k2zh+2.*k1xh*k2xh*(k1zh*k2yh+k1yh*k2zh))*2\\\n",
    "            +W12zzxy*(k1yh*k1xh*k2zh**2+k1zh**2*k2yh*k2xh+2.*k1zh*k2zh*(k1xh*k2yh+k1yh*k2xh))*2\n",
    "        \n",
    "        xxW12=W12xx*k1xh**2+W12yy*k1yh**2+W12zz*k1zh**2+2.*W12xy*k1xh*k1yh+2.*W12yz*k1yh*k1zh+2.*W12zx*k1zh*k1xh\n",
    "    \n",
    "        W12_L0 = W12\n",
    "        W12_k1L2=1.5*xxW12-0.5*W12\n",
    "        W12_k1L4=35./8.*(W12xxxx*k1xh**4 +W12yyyy*k1yh**4+W12zzzz*k1zh**4 \\\n",
    "     +4.*W12xxxy*k1xh**3*k1yh +4.*W12xxxz*k1xh**3*k1zh +4.*W12yyyx*k1yh**3*k1xh \\\n",
    "     +6.*W12xxyy*k1xh**2*k1yh**2+6.*W12xxzz*k1xh**2*k1zh**2+6.*W12yyzz*k1yh**2*k1zh**2 \\\n",
    "     +12.*W12xxyz*k1xh**2*k1yh*k1zh+12.*W12yyxz*k1yh**2*k1xh*k1zh +12.*W12zzxy*k1zh**2*k1xh*k1yh) \\\n",
    "     -5./2.*W12_k1L2 -7./8.*W12_L0\n",
    "        W12_k1L4_k2L2=2/7.*W12_k1L2+20/77.*W12_k1L4\n",
    "        W12_k1L4_k2L4=1/9.*W12_L0+100/693.*W12_k1L2+162/1001.*W12_k1L4\n",
    "        W12_k2L2=1.5*(W12xx*k2xh**2+W12yy*k2yh**2+W12zz*k2zh**2\\\n",
    "        +2.*W12xy*k2xh*k2yh+2.*W12yz*k2yh*k2zh+2.*W12zx*k2zh*k2xh)-0.5*W12\n",
    "        W12_k2L4=35./8.*(W12xxxx*k2xh**4 +W12yyyy*k2yh**4+W12zzzz*k2zh**4 \\\n",
    "     +4.*W12xxxy*k2xh**3*k2yh +4.*W12xxxz*k2xh**3*k2zh +4.*W12yyyx*k2yh**3*k2xh \\\n",
    "     +4.*W12yyyz*k2yh**3*k2zh +4.*W12zzzx*k2zh**3*k2xh +4.*W12zzzy*k2zh**3*k2yh \\\n",
    "     +6.*W12xxyy*k2xh**2*k2yh**2+6.*W12xxzz*k2xh**2*k2zh**2+6.*W12yyzz*k2yh**2*k2zh**2 \\\n",
    "     +12.*W12xxyz*k2xh**2*k2yh*k2zh+12.*W12yyxz*k2yh**2*k2xh*k2zh +12.*W12zzxy*k2zh**2*k2xh*k2yh) \\\n",
    "     -5./2.*W12_k2L2 -7./8.*W12_L0\n",
    "        \n",
    "        W12_k1L2_k2L2= 9./4.*k1k2W12 -3./4.*xxW12 -1./2.*W12_k2L2\n",
    "        \n",
    "        W_k1L2_Sumk2L22=1/5.*W_k1L2+2/7.*W_k1L2_k2L2+18/35.*W_k1L2_k2L4\n",
    "        W_k1L2_Sumk2L24=2/7.*W_k1L2_k2L2+20/77.*W_k1L2_k2L4\n",
    "        W_k1L4_Sumk2L22=1/5.*W_k1L4+2/7.*W_k1L4_k2L2+18/35.*W_k1L4_k2L4\n",
    "        W_k1L4_Sumk2L24=2/7.*W_k1L4_k2L2+20/77.*W_k1L4_k2L4\n",
    "        W_k1L4_Sumk2L44=1/9.*W_k1L4+100/693.*W_k1L4_k2L2+162/1001.*W_k1L4_k2L4\n",
    "        \n",
    "        C00exp = [Wc_L0*W_L0,Wc_L0*W_k2L2,Wc_L0*W_k2L4,\\\n",
    "                Wc_k1L2*W_L0,Wc_k1L2*W_k2L2,Wc_k1L2*W_k2L4,\\\n",
    "                Wc_k1L4*W_L0,Wc_k1L4*W_k2L2,Wc_k1L4*W_k2L4]\n",
    "        \n",
    "        C00exp += [2.*W_L0*W12_L0,W_k1L2*W12_L0,W_k1L4*W12_L0,\\\n",
    "                W_k2L2*W12_L0,W_k2L4*W12_L0,conj(W12_L0)*W12_L0]\n",
    "        \n",
    "        C22exp = [Wc_k2L2*W_k1L2 + Wc_L0*W_k1L2_k2L2,\\\n",
    "                Wc_k2L2*W_k1L2_k2L2 + Wc_L0*W_k1L2_Sumk2L22,\\\n",
    "                Wc_k2L2*W_k1L2_k2L4 + Wc_L0*W_k1L2_Sumk2L24,\\\n",
    "                Wc_k1L2_k2L2*W_k1L2 + Wc_k1L2*W_k1L2_k2L2,\\\n",
    "                Wc_k1L2_k2L2*W_k1L2_k2L2 + Wc_k1L2*W_k1L2_Sumk2L22,\\\n",
    "                Wc_k1L2_k2L2*W_k1L2_k2L4 + Wc_k1L2*W_k1L2_Sumk2L24,\\\n",
    "                Wc_k1L4_k2L2*W_k1L2 + Wc_k1L4*W_k1L2_k2L2,\\\n",
    "                Wc_k1L4_k2L2*W_k1L2_k2L2 + Wc_k1L4*W_k1L2_Sumk2L22,\\\n",
    "                Wc_k1L4_k2L2*W_k1L2_k2L4 + Wc_k1L4*W_k1L2_Sumk2L24]\n",
    "        \n",
    "        C22exp += [W_k1L2*W12_k2L2 + W_k2L2*W12_k1L2\\\n",
    "                   +W_k1L2_k2L2*W12_L0+W_L0*W12_k1L2_k2L2,\\\n",
    "                 0.5*((1/5.*W_L0+2/7.*W_k1L2+18/35.*W_k1L4)*W12_k2L2 + W_k1L2_k2L2*W12_k1L2\\\n",
    "+(1/5.*W_k2L2+2/7.*W_k1L2_k2L2+18/35.*W_k1L4_k2L2)*W12_L0 + W_k1L2*W12_k1L2_k2L2),\\\n",
    "    0.5*((2/7.*W_k1L2+20/77.*W_k1L4)*W12_k2L2 + W_k1L4_k2L2*W12_k1L2\\\n",
    "+(2/7.*W_k1L2_k2L2+20/77.*W_k1L4_k2L2)*W12_L0 + W_k1L4*W12_k1L2_k2L2),\\\n",
    "0.5*(W_k1L2_k2L2*W12_k2L2+(1/5.*W_L0+2/7.*W_k2L2+18/35.*W_k2L4)*W12_k1L2\\\n",
    "+(1/5.*W_k1L2+2/7.*W_k1L2_k2L2+18/35.*W_k1L2_k2L4)*W12_L0 + W_k2L2*W12_k1L2_k2L2),\\\n",
    "0.5*(W_k1L2_k2L4*W12_k2L2+(2/7.*W_k2L2+20/77.*W_k2L4)*W12_k1L2\\\n",
    "+(2/7.*W_k1L2_k2L2+20/77.*W_k1L2_k2L4)*W12_L0 + W_k2L4*W12_k1L2_k2L2),\\\n",
    "                 conj(W12_k1L2_k2L2)*W12_L0+conj(W12_k1L2)*W12_k2L2]\n",
    "        \n",
    "        C44exp = [Wc_k2L4*W_k1L4 + Wc_L0*W_k1L4_k2L4,\\\n",
    "                Wc_k2L4*W_k1L4_k2L2 + Wc_L0*W_k1L4_Sumk2L24,\\\n",
    "                Wc_k2L4*W_k1L4_k2L4 + Wc_L0*W_k1L4_Sumk2L44,\\\n",
    "                Wc_k1L2_k2L4*W_k1L4 + Wc_k1L2*W_k1L4_k2L4,\\\n",
    "                Wc_k1L2_k2L4*W_k1L4_k2L2 + Wc_k1L2*W_k1L4_Sumk2L24,\\\n",
    "                Wc_k1L2_k2L4*W_k1L4_k2L4 + Wc_k1L2*W_k1L4_Sumk2L44,\\\n",
    "                Wc_k1L4_k2L4*W_k1L4 + Wc_k1L4*W_k1L4_k2L4,\\\n",
    "                Wc_k1L4_k2L4*W_k1L4_k2L2 + Wc_k1L4*W_k1L4_Sumk2L24,\\\n",
    "                Wc_k1L4_k2L4*W_k1L4_k2L4 + Wc_k1L4*W_k1L4_Sumk2L44]\n",
    "        \n",
    "        C44exp += [W_k1L4*W12_k2L4 + W_k2L4*W12_k1L4\\\n",
    "                   +W_k1L4_k2L4*W12_L0+W_L0*W12_k1L4_k2L4,\\\n",
    "                 0.5*((2/7.*W_k1L2+20/77.*W_k1L4)*W12_k2L4 + W_k1L2_k2L4*W12_k1L4\\\n",
    "+(2/7.*W_k1L2_k2L4+20/77.*W_k1L4_k2L4)*W12_L0 + W_k1L2*W12_k1L4_k2L4),\\\n",
    "0.5*((1/9.*W_L0+100/693.*W_k1L2+162/1001.*W_k1L4)*W12_k2L4 + W_k1L4_k2L4*W12_k1L4\\\n",
    "+(1/9.*W_k2L4+100/693.*W_k1L2_k2L4+162/1001.*W_k1L4_k2L4)*W12_L0 + W_k1L4*W12_k1L4_k2L4),\\\n",
    "0.5*(W_k1L4_k2L2*W12_k2L4+(2/7.*W_k2L2+20/77.*W_k2L4)*W12_k1L4\\\n",
    "+(2/7.*W_k1L4_k2L2+20/77.*W_k1L4_k2L4)*W12_L0 + W_k2L2*W12_k1L4_k2L4),\\\n",
    "0.5*(W_k1L4_k2L4*W12_k2L4+(1/9.*W_L0+100/693.*W_k2L2+162/1001.*W_k2L4)*W12_k1L4\\\n",
    "+(1/9.*W_k1L4+100/693.*W_k1L4_k2L2+162/1001.*W_k1L4_k2L4)*W12_L0 + W_k2L4*W12_k1L4_k2L4),\\\n",
    "                 conj(W12_k1L4_k2L4)*W12_L0+conj(W12_k1L4)*W12_k2L4] #1/(nbar)^2\n",
    "        \n",
    "        C20exp = [Wc_L0*W_k1L2,Wc_L0*W_k1L2_k2L2,Wc_L0*W_k1L2_k2L4,\\\n",
    "                Wc_k1L2*W_k1L2,Wc_k1L2*W_k1L2_k2L2,Wc_k1L2*W_k1L2_k2L4,\\\n",
    "                Wc_k1L4*W_k1L2,Wc_k1L4*W_k1L2_k2L2,Wc_k1L4*W_k1L2_k2L4]\n",
    "        \n",
    "        C20exp += [W_k1L2*W12_L0 + W*W12_k1L2,\\\n",
    "                 0.5*((1/5.*W+2/7.*W_k1L2+18/35.*W_k1L4)*W12_L0 + W_k1L2*W12_k1L2),\\\n",
    "                0.5*((2/7.*W_k1L2+20/77.*W_k1L4)*W12_L0 + W_k1L4*W12_k1L2),\\\n",
    "                0.5*(W_k1L2_k2L2*W12_L0 + W_k2L2*W12_k1L2),\\\n",
    "                 0.5*(W_k1L2_k2L4*W12_L0 + W_k2L4*W12_k1L2),\\\n",
    "                 np.conj(W12_k1L2)*W12_L0]\n",
    "        \n",
    "        C40exp = [Wc_L0*W_k1L4,Wc_L0*W_k1L4_k2L2,Wc_L0*W_k1L4_k2L4,\\\n",
    "                Wc_k1L2*W_k1L4,Wc_k1L2*W_k1L4_k2L2,Wc_k1L2*W_k1L4_k2L4,\\\n",
    "                Wc_k1L4*W_k1L4,Wc_k1L4*W_k1L4_k2L2,Wc_k1L4*W_k1L4_k2L4]\n",
    "        \n",
    "        C40exp += [W_k1L4*W12_L0 + W*W12_k1L4,\\\n",
    "                 0.5*((2/7.*W_k1L2+20/77.*W_k1L4)*W12_L0 + W_k1L2*W12_k1L4),\\\n",
    "                0.5*((1/9.*W+100/693.*W_k1L2+162/1001.*W_k1L4)*W12_L0 + W_k1L4*W12_k1L4),\\\n",
    "                0.5*(W_k1L4_k2L2*W12_L0 + W_k2L2*W12_k1L4),\\\n",
    "                 0.5*(W_k1L4_k2L4*W12_L0 + W_k2L4*W12_k1L4),\\\n",
    "                 np.conj(W12_k1L4)*W12_L0]\n",
    "        \n",
    "        C42exp = [Wc_k2L2*W_k1L4 + Wc_L0*W_k1L4_k2L2,\\\n",
    "                Wc_k2L2*W_k1L4_k2L2 + Wc_L0*W_k1L4_Sumk2L22,\\\n",
    "                Wc_k2L2*W_k1L4_k2L4 + Wc_L0*W_k1L4_Sumk2L24,\\\n",
    "                Wc_k1L2_k2L2*W_k1L4 + Wc_k1L2*W_k1L4_k2L2,\\\n",
    "                Wc_k1L2_k2L2*W_k1L4_k2L2 + Wc_k1L2*W_k1L4_Sumk2L22,\\\n",
    "                Wc_k1L2_k2L2*W_k1L4_k2L4 + Wc_k1L2*W_k1L4_Sumk2L24,\\\n",
    "                Wc_k1L4_k2L2*W_k1L4 + Wc_k1L4*W_k1L4_k2L2,\\\n",
    "                Wc_k1L4_k2L2*W_k1L4_k2L2 + Wc_k1L4*W_k1L4_Sumk2L22,\\\n",
    "                Wc_k1L4_k2L2*W_k1L4_k2L4 + Wc_k1L4*W_k1L4_Sumk2L24]\n",
    "        \n",
    "        C42exp += [W_k1L4*W12_k2L2 + W_k2L2*W12_k1L4+\\\n",
    "                   W_k1L4_k2L2*W12_L0+W*W12_k1L4_k2L2,\\\n",
    "                 0.5*((2/7.*W_k1L2+20/77.*W_k1L4)*W12_k2L2 + W_k1L2_k2L2*W12_k1L4\\\n",
    "    +(2/7.*W_k1L2_k2L2+20/77.*W_k1L4_k2L2)*W12_L0 + W_k1L2*W12_k1L4_k2L2),\\\n",
    "    0.5*((1/9.*W+100/693.*W_k1L2+162/1001.*W_k1L4)*W12_k2L2 + W_k1L4_k2L2*W12_k1L4\\\n",
    "+(1/9.*W_k2L2+100/693.*W_k1L2_k2L2+162/1001.*W_k1L4_k2L2)*W12_L0 + W_k1L4*W12_k1L4_k2L2),\\\n",
    "0.5*(W_k1L4_k2L2*W12_k2L2+(1/5.*W+2/7.*W_k2L2+18/35.*W_k2L4)*W12_k1L4\\\n",
    "+(1/5.*W_k1L4+2/7.*W_k1L4_k2L2+18/35.*W_k1L4_k2L4)*W12_L0 + W_k2L2*W12_k1L4_k2L2),\\\n",
    "0.5*(W_k1L4_k2L4*W12_k2L2+(2/7.*W_k2L2+20/77.*W_k2L4)*W12_k1L4\\\n",
    "+(2/7.*W_k1L4_k2L2+20/77.*W_k1L4_k2L4)*W12_L0 + W_k2L4*W12_k1L4_k2L2),\\\n",
    "                 conj(W12_k1L4_k2L2)*W12_L0+conj(W12_k1L4)*W12_k2L2] #1/(nbar)^2\n",
    "        \n",
    "        for i in range(-3,4):\n",
    "            ind=(sort==i);\n",
    "            for j in range(15):\n",
    "                avgW00[i+3,j]+=np.sum(C00exp[j][ind])\n",
    "                avgW22[i+3,j]+=np.sum(C22exp[j][ind])\n",
    "                avgW44[i+3,j]+=np.sum(C44exp[j][ind])\n",
    "                avgW20[i+3,j]+=np.sum(C20exp[j][ind])\n",
    "                avgW40[i+3,j]+=np.sum(C40exp[j][ind])\n",
    "                avgW42[i+3,j]+=np.sum(C42exp[j][ind])\n",
    "            \n",
    "    for i in range(0,2*3+1):\n",
    "        if(i+Nbin-3>=nBins or i+Nbin-3<0): \n",
    "            avgW00[i]*=0; avgW22[i]*=0; avgW44[i]*=0;\n",
    "            avgW20[i]*=0; avgW40[i]*=0; avgW42[i]*=0; continue\n",
    "        avgW00[i]=avgW00[i]/(norm*Bin_ModeNum[Nbin+i-3]*I22**2)\n",
    "        avgW22[i]=avgW22[i]/(norm*Bin_ModeNum[Nbin+i-3]*I22**2)\n",
    "        avgW44[i]=avgW44[i]/(norm*Bin_ModeNum[Nbin+i-3]*I22**2)\n",
    "        avgW20[i]=avgW20[i]/(norm*Bin_ModeNum[Nbin+i-3]*I22**2)\n",
    "        avgW40[i]=avgW40[i]/(norm*Bin_ModeNum[Nbin+i-3]*I22**2)\n",
    "        avgW42[i]=avgW42[i]/(norm*Bin_ModeNum[Nbin+i-3]*I22**2)\n",
    "        \n",
    "    avgWij[:,:,0]=2.*np.real(avgW00); avgWij[:,:,1]=25.*np.real(avgW22); avgWij[:,:,2]=81.*np.real(avgW44);\n",
    "    avgWij[:,:,3]=5.*2.*np.real(avgW20); avgWij[:,:,4]=9.*2.*np.real(avgW40); avgWij[:,:,5]=45.*np.real(avgW42);\n",
    "    return(avgWij)"
   ]
  },
  {
   "cell_type": "code",
   "execution_count": 21,
   "metadata": {},
   "outputs": [
    {
     "name": "stdout",
     "output_type": "stream",
     "text": [
      "15.934963941574097\n"
     ]
    }
   ],
   "source": [
    "#Index of the k1-bin for which the window kernels are calculated\n",
    "k1_bin=40\n",
    "\n",
    "kmodes_sampled=100 # Number of k-modes sampled in the k1 shell. \n",
    "# For final result in paper ~25000 modes are used and the code is run on a cluster \n",
    "# (see the snippets at the end of this notebook)\n",
    "\n",
    "start_time = time.time()\n",
    "Wij = WinFun(k1_bin)\n",
    "print (time.time() - start_time)"
   ]
  },
  {
   "cell_type": "code",
   "execution_count": 18,
   "metadata": {},
   "outputs": [
    {
     "data": {
      "text/plain": [
       "(7, 15, 6)"
      ]
     },
     "execution_count": 18,
     "metadata": {},
     "output_type": "execute_result"
    }
   ],
   "source": [
    "Wij.shape"
   ]
  },
  {
   "cell_type": "markdown",
   "metadata": {},
   "source": [
    "# Comparing with Patchy mock covariance"
   ]
  },
  {
   "cell_type": "code",
   "execution_count": null,
   "metadata": {},
   "outputs": [],
   "source": [
    "# Included this section to use the window kernels to calculate the covariance\n",
    "# and for a quick comparison to mock catalogs\n",
    "# I have included the data files corresponding to Patchy in the online folder."
   ]
  },
  {
   "cell_type": "code",
   "execution_count": 24,
   "metadata": {},
   "outputs": [],
   "source": [
    "# Include here the theory power spectrum best-fitted to the survey data\n",
    "# Currently I'm using here the Patchy output to show the comparison with mock catalogs later\n",
    "\n",
    "k=np.loadtxt(dire+'k_Patchy.dat'); kbins=len(k) #number of k-bins\n",
    "\n",
    "pfit=[0,1,2,3,4]\n",
    "pfit[0]=np.loadtxt(dire+'P0_fit_Patchy.dat')\n",
    "pfit[2]=np.loadtxt(dire+'P2_fit_Patchy.dat')\n",
    "pfit[4]=np.loadtxt(dire+'P4_fit_Patchy.dat')\n",
    "\n",
    "#Hexadecapole has little contribution so, if not fitted, once can use linear theory + Kaiser as a good approximation"
   ]
  },
  {
   "cell_type": "code",
   "execution_count": 64,
   "metadata": {},
   "outputs": [],
   "source": [
    "# Format: [L0 L2 L4] X [L0 L2 L4]\n",
    "CovaPatchy=np.loadtxt(dire+'Patchy_CovarianceMatrix.dat')"
   ]
  },
  {
   "cell_type": "code",
   "execution_count": 68,
   "metadata": {},
   "outputs": [],
   "source": [
    "# For generating individual elements of the covariance matrix\n",
    "\n",
    "def Cij(kt,Wij):\n",
    "    temp=np.zeros((7,6));\n",
    "    for i in range(-3,4):\n",
    "        if(kt+i<0 or kt+i>=kbins):\n",
    "            temp[i+3]=0.\n",
    "            continue\n",
    "        temp[i+3]=Wij[i+3,0]*pfit[0][kt]*pfit[0][kt+i]+\\\n",
    "        Wij[i+3,1]*pfit[0][kt]*pfit[2][kt+i]+\\\n",
    "        Wij[i+3,2]*pfit[0][kt]*pfit[4][kt+i]+\\\n",
    "        Wij[i+3,3]*pfit[2][kt]*pfit[0][kt+i]+\\\n",
    "        Wij[i+3,4]*pfit[2][kt]*pfit[2][kt+i]+\\\n",
    "        Wij[i+3,5]*pfit[2][kt]*pfit[4][kt+i]+\\\n",
    "        Wij[i+3,6]*pfit[4][kt]*pfit[0][kt+i]+\\\n",
    "        Wij[i+3,7]*pfit[4][kt]*pfit[2][kt+i]+\\\n",
    "        Wij[i+3,8]*pfit[4][kt]*pfit[4][kt+i]+\\\n",
    "        1.01*(Wij[i+3,9]*(pfit[0][kt]+pfit[0][kt+i])/2.+\\\n",
    "        Wij[i+3,10]*pfit[2][kt]+Wij[i+3,11]*pfit[4][kt]+\\\n",
    "        Wij[i+3,12]*pfit[2][kt+i]+Wij[i+3,13]*pfit[4][kt+i])+\\\n",
    "        1.01**2*Wij[i+3,14]\n",
    "    return(temp)"
   ]
  },
  {
   "cell_type": "code",
   "execution_count": 28,
   "metadata": {},
   "outputs": [
    {
     "name": "stdout",
     "output_type": "stream",
     "text": [
      "Diagonal element is at k= 0.202522\n"
     ]
    }
   ],
   "source": [
    "print('Diagonal element is at k=', k[k1_bin])\n",
    "kplot=k[k1_bin-3:k1_bin+4]\n",
    "norm=(pfit[0][k1_bin])*pfit[0][k1_bin-3:k1_bin+4]"
   ]
  },
  {
   "cell_type": "code",
   "execution_count": 69,
   "metadata": {},
   "outputs": [
    {
     "data": {
      "text/plain": [
       "<matplotlib.legend.Legend at 0x14b66cfa0>"
      ]
     },
     "execution_count": 69,
     "metadata": {},
     "output_type": "execute_result"
    },
    {
     "data": {
      "image/png": "[encoded data removed]",
      "text/plain": [
       "<Figure size 432x288 with 1 Axes>"
      ]
     },
     "metadata": {
      "needs_background": "light"
     },
     "output_type": "display_data"
    }
   ],
   "source": [
    "plt.plot(kplot,CovaPatchy[k1_bin,k1_bin-3:k1_bin+4]/norm)\n",
    "plt.plot(kplot,Cij(k1_bin,Wij)[:,0]/norm)\n",
    "plt.xlabel(r'$k_j$ (h/Mpc)'); plt.ylabel(r'$C_{00}(k_i,k_j)/P_0 (k_i) P_0(k_j)$')\n",
    "plt.legend([\"Patchy\",\"Analytic (Gaussian)\"], loc=4)\n",
    "# The constant offset is due to the Non-Gaussian covariance which is not added here.\n",
    "# As only a few k1-modes are sampled (kmodes_sampled) in this run, there is a bit of noise\n",
    "# (same case for both panels below)"
   ]
  },
  {
   "cell_type": "code",
   "execution_count": 70,
   "metadata": {},
   "outputs": [
    {
     "data": {
      "text/plain": [
       "<matplotlib.legend.Legend at 0x14ac8e340>"
      ]
     },
     "execution_count": 70,
     "metadata": {},
     "output_type": "execute_result"
    },
    {
     "data": {
      "image/png": "[encoded data removed]",
      "text/plain": [
       "<Figure size 432x288 with 1 Axes>"
      ]
     },
     "metadata": {
      "needs_background": "light"
     },
     "output_type": "display_data"
    }
   ],
   "source": [
    "plt.plot(kplot,CovaPatchy[50+k1_bin,50+k1_bin-3:50+k1_bin+4]/norm)\n",
    "plt.plot(kplot,Cij(k1_bin,Wij)[:,1]/norm)\n",
    "plt.xlabel(r'$k_j$ (h/Mpc)'); plt.ylabel(r'$C_{22}(k_i,k_j)/P_0 (k_i) P_0(k_j)$')\n",
    "plt.legend([\"Patchy\",\"Analytic (Gaussian)\"], loc=4)"
   ]
  },
  {
   "cell_type": "code",
   "execution_count": 35,
   "metadata": {},
   "outputs": [
    {
     "data": {
      "text/plain": [
       "<matplotlib.legend.Legend at 0x14ae65c10>"
      ]
     },
     "execution_count": 35,
     "metadata": {},
     "output_type": "execute_result"
    },
    {
     "data": {
      "image/png": "[encoded data removed]",
      "text/plain": [
       "<Figure size 432x288 with 1 Axes>"
      ]
     },
     "metadata": {
      "needs_background": "light"
     },
     "output_type": "display_data"
    }
   ],
   "source": [
    "plt.plot(kplot,CovaPatchy[50+k1_bin,k1_bin-3:k1_bin+4]/norm)\n",
    "plt.plot(kplot,Cij(k1_bin,Wij)[:,3]/norm)\n",
    "plt.xlabel(r'$k_j$ (h/Mpc)'); plt.ylabel(r'$C_{20}(k_i,k_j)/P_0 (k_i) P_0(k_j)$')\n",
    "plt.legend([\"Patchy\",\"Analytic (Gaussian)\"], loc=4)"
   ]
  },
  {
   "cell_type": "code",
   "execution_count": 32,
   "metadata": {
    "scrolled": true
   },
   "outputs": [
    {
     "data": {
      "text/plain": [
       "<matplotlib.legend.Legend at 0x150a8edf0>"
      ]
     },
     "execution_count": 32,
     "metadata": {},
     "output_type": "execute_result"
    },
    {
     "data": {
      "image/png": "[encoded data removed]",
      "text/plain": [
       "<Figure size 432x288 with 1 Axes>"
      ]
     },
     "metadata": {
      "needs_background": "light"
     },
     "output_type": "display_data"
    }
   ],
   "source": [
    "plt.plot(kplot,CovaPatchy[100+k1_bin,100+k1_bin-3:100+k1_bin+4]/norm)\n",
    "plt.plot(kplot,Cij(k1_bin,Wij)[:,2]/norm)\n",
    "plt.xlabel(r'$k_j$ (h/Mpc)'); plt.ylabel(r'$C_{44}(k_i,k_j)/P_0 (k_i) P_0(k_j)$')\n",
    "plt.legend([\"Patchy\",\"Analytic (Gaussian)\"], loc=4)"
   ]
  },
  {
   "cell_type": "code",
   "execution_count": 34,
   "metadata": {},
   "outputs": [
    {
     "data": {
      "text/plain": [
       "<matplotlib.legend.Legend at 0x14edc3c10>"
      ]
     },
     "execution_count": 34,
     "metadata": {},
     "output_type": "execute_result"
    },
    {
     "data": {
      "image/png": "[encoded data removed]",
      "text/plain": [
       "<Figure size 432x288 with 1 Axes>"
      ]
     },
     "metadata": {
      "needs_background": "light"
     },
     "output_type": "display_data"
    }
   ],
   "source": [
    "plt.plot(kplot,CovaPatchy[100+k1_bin,50+k1_bin-3:50+k1_bin+4]/norm)\n",
    "plt.plot(kplot,Cij(k1_bin,Wij)[:,5]/norm)\n",
    "plt.xlabel(r'$k_j$ (h/Mpc)'); plt.ylabel(r'$C_{42}(k_i,k_j)/P_0 (k_i) P_0(k_j)$')\n",
    "plt.legend([\"Patchy\",\"Analytic (Gaussian)\"], loc=4)"
   ]
  },
  {
   "cell_type": "markdown",
   "metadata": {},
   "source": [
    "### Additional modules when running the code on a cluster"
   ]
  },
  {
   "cell_type": "code",
   "execution_count": null,
   "metadata": {},
   "outputs": [],
   "source": [
    "binsInd=np.arange(0,50); nBins=len(binsInd)\n",
    "kmodes_sampled=25000"
   ]
  },
  {
   "cell_type": "code",
   "execution_count": null,
   "metadata": {},
   "outputs": [],
   "source": [
    "key='HighZ_NGC'\n",
    "dire='/scratch/dsw310/Cova/output/'"
   ]
  },
  {
   "cell_type": "code",
   "execution_count": null,
   "metadata": {},
   "outputs": [],
   "source": [
    "start_time = time.time()\n",
    "p = multiprocessing.Pool(cores=47)\n",
    "WinFunAll=p.map(WinFun, binsInd)\n",
    "p.close()\n",
    "p.join()\n",
    "\n",
    "time_elapsed = time.time() - start_time\n",
    "print('Run time: {:.0f}m {:.0f}s'.format(time_elapsed // 60, time_elapsed % 60))"
   ]
  },
  {
   "cell_type": "code",
   "execution_count": null,
   "metadata": {},
   "outputs": [],
   "source": [
    "b=np.zeros((len(binsInd),7,15,6))\n",
    "for i in range(len(binsInd)):\n",
    "    b[i]=WinFunAll[i]\n",
    "np.save(dire+'Wij_k'+str(nBins)+'_'+key+'.npy',b)"
   ]
  },
  {
   "cell_type": "markdown",
   "metadata": {},
   "source": [
    "# SSC kernels"
   ]
  },
  {
   "cell_type": "code",
   "execution_count": null,
   "metadata": {},
   "outputs": [],
   "source": [
    "# In the 'Covariance_SurveyGeometry' notebook, we had used sigma22Sq, sigma10Sq, sigma22x10\n",
    "# This section shows the method to compute them"
   ]
  },
  {
   "cell_type": "code",
   "execution_count": 21,
   "metadata": {},
   "outputs": [],
   "source": [
    "# Columns are k P00 P02 P04 P22 P24 P44 Nmodes\n",
    "powW22=np.loadtxt(dire+'WindowPower_W22_highz.dat')\n",
    "powW10=np.loadtxt(dire+'WindowPower_W10_highz.dat')\n",
    "\n",
    "# Columns are k P00 P02 P04 P20 P22 P24 P40 P42 P44 Nmodes\n",
    "powW22=np.loadtxt(dire+'WindowPower_W22xW10_highz.dat')"
   ]
  },
  {
   "cell_type": "code",
   "execution_count": 22,
   "metadata": {},
   "outputs": [],
   "source": [
    "kwin = powW22[:,0]"
   ]
  },
  {
   "cell_type": "code",
   "execution_count": null,
   "metadata": {},
   "outputs": [],
   "source": []
  }
 ],
 "metadata": {
  "kernelspec": {
   "display_name": "Python 3",
   "language": "python",
   "name": "python3"
  },
  "language_info": {
   "codemirror_mode": {
    "name": "ipython",
    "version": 3
   },
   "file_extension": ".py",
   "mimetype": "text/x-python",
   "name": "python",
   "nbconvert_exporter": "python",
   "pygments_lexer": "ipython3",
   "version": "3.9.5"
  }
 },
 "nbformat": 4,
 "nbformat_minor": 2
}
